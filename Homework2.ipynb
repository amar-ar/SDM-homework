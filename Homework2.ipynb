{
 "cells": [
  {
   "cell_type": "code",
   "execution_count": 68,
   "id": "029f65dc",
   "metadata": {},
   "outputs": [
    {
     "name": "stderr",
     "output_type": "stream",
     "text": [
      "also installing the dependency 'bitops'\n",
      "\n"
     ]
    },
    {
     "name": "stdout",
     "output_type": "stream",
     "text": [
      "package 'bitops' successfully unpacked and MD5 sums checked\n",
      "package 'caTools' successfully unpacked and MD5 sums checked\n",
      "\n",
      "The downloaded binary packages are in\n",
      "\tC:\\Users\\amara\\AppData\\Local\\Temp\\RtmpeQeqlz\\downloaded_packages\n"
     ]
    }
   ],
   "source": [
    "#install.packages('caTools')"
   ]
  },
  {
   "cell_type": "code",
   "execution_count": null,
   "id": "e34a19dc",
   "metadata": {},
   "outputs": [],
   "source": []
  },
  {
   "cell_type": "code",
   "execution_count": 1,
   "id": "90ad0e21",
   "metadata": {},
   "outputs": [
    {
     "name": "stderr",
     "output_type": "stream",
     "text": [
      "Warning message:\n",
      "\"package 'MASS' was built under R version 3.6.3\"Warning message:\n",
      "\"package 'leaps' was built under R version 3.6.3\"Warning message:\n",
      "\"package 'glmnet' was built under R version 3.6.3\"Loading required package: Matrix\n",
      "Warning message:\n",
      "\"package 'Matrix' was built under R version 3.6.3\"Loaded glmnet 4.1-1\n",
      "Warning message:\n",
      "\"package 'caTools' was built under R version 3.6.3\""
     ]
    }
   ],
   "source": [
    "library(MASS)\n",
    "library(leaps)\n",
    "library(glmnet)\n",
    "\n",
    "library(ISLR)\n",
    "\n",
    "\n",
    "library(caTools)"
   ]
  },
  {
   "cell_type": "markdown",
   "id": "6e322306",
   "metadata": {},
   "source": [
    "## Could not get the data from the site so I have sorced it from kaagle"
   ]
  },
  {
   "cell_type": "code",
   "execution_count": 2,
   "id": "165062b9",
   "metadata": {},
   "outputs": [],
   "source": [
    "data = read.csv(file=\"C:/Users/amara/OneDrive/Desktop/SDM1/assignment2/caravan-insurance-challenge.csv\")"
   ]
  },
  {
   "cell_type": "code",
   "execution_count": 3,
   "id": "9ed3a599",
   "metadata": {},
   "outputs": [
    {
     "data": {
      "text/html": [
       "<table>\n",
       "<thead><tr><th scope=col>ORIGIN</th><th scope=col>MOSTYPE</th><th scope=col>MAANTHUI</th><th scope=col>MGEMOMV</th><th scope=col>MGEMLEEF</th><th scope=col>MOSHOOFD</th><th scope=col>MGODRK</th><th scope=col>MGODPR</th><th scope=col>MGODOV</th><th scope=col>MGODGE</th><th scope=col>...</th><th scope=col>APERSONG</th><th scope=col>AGEZONG</th><th scope=col>AWAOREG</th><th scope=col>ABRAND</th><th scope=col>AZEILPL</th><th scope=col>APLEZIER</th><th scope=col>AFIETS</th><th scope=col>AINBOED</th><th scope=col>ABYSTAND</th><th scope=col>CARAVAN</th></tr></thead>\n",
       "<tbody>\n",
       "\t<tr><td>train</td><td>33   </td><td>1    </td><td>3    </td><td>2    </td><td> 8   </td><td>0    </td><td>5    </td><td>1    </td><td>3    </td><td>...  </td><td>0    </td><td>0    </td><td>0    </td><td>1    </td><td>0    </td><td>0    </td><td>0    </td><td>0    </td><td>0    </td><td>0    </td></tr>\n",
       "\t<tr><td>train</td><td>37   </td><td>1    </td><td>2    </td><td>2    </td><td> 8   </td><td>1    </td><td>4    </td><td>1    </td><td>4    </td><td>...  </td><td>0    </td><td>0    </td><td>0    </td><td>1    </td><td>0    </td><td>0    </td><td>0    </td><td>0    </td><td>0    </td><td>0    </td></tr>\n",
       "\t<tr><td>train</td><td>37   </td><td>1    </td><td>2    </td><td>2    </td><td> 8   </td><td>0    </td><td>4    </td><td>2    </td><td>4    </td><td>...  </td><td>0    </td><td>0    </td><td>0    </td><td>1    </td><td>0    </td><td>0    </td><td>0    </td><td>0    </td><td>0    </td><td>0    </td></tr>\n",
       "\t<tr><td>train</td><td> 9   </td><td>1    </td><td>3    </td><td>3    </td><td> 3   </td><td>2    </td><td>3    </td><td>2    </td><td>4    </td><td>...  </td><td>0    </td><td>0    </td><td>0    </td><td>1    </td><td>0    </td><td>0    </td><td>0    </td><td>0    </td><td>0    </td><td>0    </td></tr>\n",
       "\t<tr><td>train</td><td>40   </td><td>1    </td><td>4    </td><td>2    </td><td>10   </td><td>1    </td><td>4    </td><td>1    </td><td>4    </td><td>...  </td><td>0    </td><td>0    </td><td>0    </td><td>1    </td><td>0    </td><td>0    </td><td>0    </td><td>0    </td><td>0    </td><td>0    </td></tr>\n",
       "\t<tr><td>train</td><td>23   </td><td>1    </td><td>2    </td><td>1    </td><td> 5   </td><td>0    </td><td>5    </td><td>0    </td><td>5    </td><td>...  </td><td>0    </td><td>0    </td><td>0    </td><td>0    </td><td>0    </td><td>0    </td><td>0    </td><td>0    </td><td>0    </td><td>0    </td></tr>\n",
       "</tbody>\n",
       "</table>\n"
      ],
      "text/latex": [
       "\\begin{tabular}{r|lllllllllllllllllllllllllllllllllllllllllllllllllllllllllllllllllllllllllllllllllllllll}\n",
       " ORIGIN & MOSTYPE & MAANTHUI & MGEMOMV & MGEMLEEF & MOSHOOFD & MGODRK & MGODPR & MGODOV & MGODGE & ... & APERSONG & AGEZONG & AWAOREG & ABRAND & AZEILPL & APLEZIER & AFIETS & AINBOED & ABYSTAND & CARAVAN\\\\\n",
       "\\hline\n",
       "\t train & 33    & 1     & 3     & 2     &  8    & 0     & 5     & 1     & 3     & ...   & 0     & 0     & 0     & 1     & 0     & 0     & 0     & 0     & 0     & 0    \\\\\n",
       "\t train & 37    & 1     & 2     & 2     &  8    & 1     & 4     & 1     & 4     & ...   & 0     & 0     & 0     & 1     & 0     & 0     & 0     & 0     & 0     & 0    \\\\\n",
       "\t train & 37    & 1     & 2     & 2     &  8    & 0     & 4     & 2     & 4     & ...   & 0     & 0     & 0     & 1     & 0     & 0     & 0     & 0     & 0     & 0    \\\\\n",
       "\t train &  9    & 1     & 3     & 3     &  3    & 2     & 3     & 2     & 4     & ...   & 0     & 0     & 0     & 1     & 0     & 0     & 0     & 0     & 0     & 0    \\\\\n",
       "\t train & 40    & 1     & 4     & 2     & 10    & 1     & 4     & 1     & 4     & ...   & 0     & 0     & 0     & 1     & 0     & 0     & 0     & 0     & 0     & 0    \\\\\n",
       "\t train & 23    & 1     & 2     & 1     &  5    & 0     & 5     & 0     & 5     & ...   & 0     & 0     & 0     & 0     & 0     & 0     & 0     & 0     & 0     & 0    \\\\\n",
       "\\end{tabular}\n"
      ],
      "text/markdown": [
       "\n",
       "| ORIGIN | MOSTYPE | MAANTHUI | MGEMOMV | MGEMLEEF | MOSHOOFD | MGODRK | MGODPR | MGODOV | MGODGE | ... | APERSONG | AGEZONG | AWAOREG | ABRAND | AZEILPL | APLEZIER | AFIETS | AINBOED | ABYSTAND | CARAVAN |\n",
       "|---|---|---|---|---|---|---|---|---|---|---|---|---|---|---|---|---|---|---|---|---|\n",
       "| train | 33    | 1     | 3     | 2     |  8    | 0     | 5     | 1     | 3     | ...   | 0     | 0     | 0     | 1     | 0     | 0     | 0     | 0     | 0     | 0     |\n",
       "| train | 37    | 1     | 2     | 2     |  8    | 1     | 4     | 1     | 4     | ...   | 0     | 0     | 0     | 1     | 0     | 0     | 0     | 0     | 0     | 0     |\n",
       "| train | 37    | 1     | 2     | 2     |  8    | 0     | 4     | 2     | 4     | ...   | 0     | 0     | 0     | 1     | 0     | 0     | 0     | 0     | 0     | 0     |\n",
       "| train |  9    | 1     | 3     | 3     |  3    | 2     | 3     | 2     | 4     | ...   | 0     | 0     | 0     | 1     | 0     | 0     | 0     | 0     | 0     | 0     |\n",
       "| train | 40    | 1     | 4     | 2     | 10    | 1     | 4     | 1     | 4     | ...   | 0     | 0     | 0     | 1     | 0     | 0     | 0     | 0     | 0     | 0     |\n",
       "| train | 23    | 1     | 2     | 1     |  5    | 0     | 5     | 0     | 5     | ...   | 0     | 0     | 0     | 0     | 0     | 0     | 0     | 0     | 0     | 0     |\n",
       "\n"
      ],
      "text/plain": [
       "  ORIGIN MOSTYPE MAANTHUI MGEMOMV MGEMLEEF MOSHOOFD MGODRK MGODPR MGODOV MGODGE\n",
       "1 train  33      1        3       2         8       0      5      1      3     \n",
       "2 train  37      1        2       2         8       1      4      1      4     \n",
       "3 train  37      1        2       2         8       0      4      2      4     \n",
       "4 train   9      1        3       3         3       2      3      2      4     \n",
       "5 train  40      1        4       2        10       1      4      1      4     \n",
       "6 train  23      1        2       1         5       0      5      0      5     \n",
       "  ... APERSONG AGEZONG AWAOREG ABRAND AZEILPL APLEZIER AFIETS AINBOED ABYSTAND\n",
       "1 ... 0        0       0       1      0       0        0      0       0       \n",
       "2 ... 0        0       0       1      0       0        0      0       0       \n",
       "3 ... 0        0       0       1      0       0        0      0       0       \n",
       "4 ... 0        0       0       1      0       0        0      0       0       \n",
       "5 ... 0        0       0       1      0       0        0      0       0       \n",
       "6 ... 0        0       0       0      0       0        0      0       0       \n",
       "  CARAVAN\n",
       "1 0      \n",
       "2 0      \n",
       "3 0      \n",
       "4 0      \n",
       "5 0      \n",
       "6 0      "
      ]
     },
     "metadata": {},
     "output_type": "display_data"
    }
   ],
   "source": [
    "head(data)"
   ]
  },
  {
   "cell_type": "markdown",
   "id": "82e0f025",
   "metadata": {},
   "source": [
    "## Have to split the train and test data"
   ]
  },
  {
   "cell_type": "code",
   "execution_count": 4,
   "id": "31b0f862",
   "metadata": {},
   "outputs": [],
   "source": [
    "train_data =data[which(data[,1] == 'train'),]\n",
    "test_data =data[which(data[,1] == 'test'),]"
   ]
  },
  {
   "cell_type": "code",
   "execution_count": 5,
   "id": "25e745a2",
   "metadata": {},
   "outputs": [],
   "source": [
    "train_data = subset (train_data, select = -1)\n",
    "test_data = subset (test_data, select = -1)"
   ]
  },
  {
   "cell_type": "markdown",
   "id": "aa9f3b22",
   "metadata": {},
   "source": [
    "## Checking if the data is of the right dimensions"
   ]
  },
  {
   "cell_type": "code",
   "execution_count": 6,
   "id": "f7c22cac",
   "metadata": {},
   "outputs": [
    {
     "data": {
      "text/html": [
       "<ol class=list-inline>\n",
       "\t<li>5822</li>\n",
       "\t<li>86</li>\n",
       "</ol>\n"
      ],
      "text/latex": [
       "\\begin{enumerate*}\n",
       "\\item 5822\n",
       "\\item 86\n",
       "\\end{enumerate*}\n"
      ],
      "text/markdown": [
       "1. 5822\n",
       "2. 86\n",
       "\n",
       "\n"
      ],
      "text/plain": [
       "[1] 5822   86"
      ]
     },
     "metadata": {},
     "output_type": "display_data"
    },
    {
     "data": {
      "text/html": [
       "<ol class=list-inline>\n",
       "\t<li>4000</li>\n",
       "\t<li>86</li>\n",
       "</ol>\n"
      ],
      "text/latex": [
       "\\begin{enumerate*}\n",
       "\\item 4000\n",
       "\\item 86\n",
       "\\end{enumerate*}\n"
      ],
      "text/markdown": [
       "1. 4000\n",
       "2. 86\n",
       "\n",
       "\n"
      ],
      "text/plain": [
       "[1] 4000   86"
      ]
     },
     "metadata": {},
     "output_type": "display_data"
    }
   ],
   "source": [
    "dim(train_data)\n",
    "dim(test_data)"
   ]
  },
  {
   "cell_type": "code",
   "execution_count": 7,
   "id": "04f40535",
   "metadata": {},
   "outputs": [
    {
     "data": {
      "text/html": [
       "<table>\n",
       "<thead><tr><th></th><th scope=col>MOSTYPE</th><th scope=col>MAANTHUI</th><th scope=col>MGEMOMV</th><th scope=col>MGEMLEEF</th><th scope=col>MOSHOOFD</th><th scope=col>MGODRK</th><th scope=col>MGODPR</th><th scope=col>MGODOV</th><th scope=col>MGODGE</th><th scope=col>MRELGE</th><th scope=col>...</th><th scope=col>APERSONG</th><th scope=col>AGEZONG</th><th scope=col>AWAOREG</th><th scope=col>ABRAND</th><th scope=col>AZEILPL</th><th scope=col>APLEZIER</th><th scope=col>AFIETS</th><th scope=col>AINBOED</th><th scope=col>ABYSTAND</th><th scope=col>CARAVAN</th></tr></thead>\n",
       "<tbody>\n",
       "\t<tr><th scope=row>5823</th><td>33 </td><td>1  </td><td>4  </td><td>2  </td><td>8  </td><td>0  </td><td>6  </td><td>0  </td><td>3  </td><td>5  </td><td>...</td><td>0  </td><td>0  </td><td>0  </td><td>1  </td><td>0  </td><td>0  </td><td>0  </td><td>0  </td><td>0  </td><td>0  </td></tr>\n",
       "\t<tr><th scope=row>5824</th><td> 6 </td><td>1  </td><td>3  </td><td>2  </td><td>2  </td><td>0  </td><td>5  </td><td>0  </td><td>4  </td><td>5  </td><td>...</td><td>0  </td><td>0  </td><td>0  </td><td>1  </td><td>0  </td><td>0  </td><td>0  </td><td>0  </td><td>0  </td><td>1  </td></tr>\n",
       "\t<tr><th scope=row>5825</th><td>39 </td><td>1  </td><td>3  </td><td>3  </td><td>9  </td><td>1  </td><td>4  </td><td>2  </td><td>3  </td><td>5  </td><td>...</td><td>0  </td><td>0  </td><td>0  </td><td>1  </td><td>0  </td><td>0  </td><td>0  </td><td>0  </td><td>0  </td><td>0  </td></tr>\n",
       "\t<tr><th scope=row>5826</th><td> 9 </td><td>1  </td><td>2  </td><td>3  </td><td>3  </td><td>2  </td><td>3  </td><td>2  </td><td>4  </td><td>5  </td><td>...</td><td>0  </td><td>0  </td><td>0  </td><td>1  </td><td>0  </td><td>0  </td><td>0  </td><td>0  </td><td>0  </td><td>0  </td></tr>\n",
       "\t<tr><th scope=row>5827</th><td>31 </td><td>1  </td><td>2  </td><td>4  </td><td>7  </td><td>0  </td><td>2  </td><td>0  </td><td>7  </td><td>9  </td><td>...</td><td>0  </td><td>0  </td><td>0  </td><td>1  </td><td>0  </td><td>0  </td><td>0  </td><td>0  </td><td>0  </td><td>0  </td></tr>\n",
       "\t<tr><th scope=row>5828</th><td>30 </td><td>1  </td><td>2  </td><td>4  </td><td>7  </td><td>1  </td><td>4  </td><td>2  </td><td>3  </td><td>5  </td><td>...</td><td>0  </td><td>0  </td><td>0  </td><td>2  </td><td>0  </td><td>0  </td><td>0  </td><td>0  </td><td>0  </td><td>0  </td></tr>\n",
       "</tbody>\n",
       "</table>\n"
      ],
      "text/latex": [
       "\\begin{tabular}{r|llllllllllllllllllllllllllllllllllllllllllllllllllllllllllllllllllllllllllllllllllllll}\n",
       "  & MOSTYPE & MAANTHUI & MGEMOMV & MGEMLEEF & MOSHOOFD & MGODRK & MGODPR & MGODOV & MGODGE & MRELGE & ... & APERSONG & AGEZONG & AWAOREG & ABRAND & AZEILPL & APLEZIER & AFIETS & AINBOED & ABYSTAND & CARAVAN\\\\\n",
       "\\hline\n",
       "\t5823 & 33  & 1   & 4   & 2   & 8   & 0   & 6   & 0   & 3   & 5   & ... & 0   & 0   & 0   & 1   & 0   & 0   & 0   & 0   & 0   & 0  \\\\\n",
       "\t5824 &  6  & 1   & 3   & 2   & 2   & 0   & 5   & 0   & 4   & 5   & ... & 0   & 0   & 0   & 1   & 0   & 0   & 0   & 0   & 0   & 1  \\\\\n",
       "\t5825 & 39  & 1   & 3   & 3   & 9   & 1   & 4   & 2   & 3   & 5   & ... & 0   & 0   & 0   & 1   & 0   & 0   & 0   & 0   & 0   & 0  \\\\\n",
       "\t5826 &  9  & 1   & 2   & 3   & 3   & 2   & 3   & 2   & 4   & 5   & ... & 0   & 0   & 0   & 1   & 0   & 0   & 0   & 0   & 0   & 0  \\\\\n",
       "\t5827 & 31  & 1   & 2   & 4   & 7   & 0   & 2   & 0   & 7   & 9   & ... & 0   & 0   & 0   & 1   & 0   & 0   & 0   & 0   & 0   & 0  \\\\\n",
       "\t5828 & 30  & 1   & 2   & 4   & 7   & 1   & 4   & 2   & 3   & 5   & ... & 0   & 0   & 0   & 2   & 0   & 0   & 0   & 0   & 0   & 0  \\\\\n",
       "\\end{tabular}\n"
      ],
      "text/markdown": [
       "\n",
       "| <!--/--> | MOSTYPE | MAANTHUI | MGEMOMV | MGEMLEEF | MOSHOOFD | MGODRK | MGODPR | MGODOV | MGODGE | MRELGE | ... | APERSONG | AGEZONG | AWAOREG | ABRAND | AZEILPL | APLEZIER | AFIETS | AINBOED | ABYSTAND | CARAVAN |\n",
       "|---|---|---|---|---|---|---|---|---|---|---|---|---|---|---|---|---|---|---|---|---|---|\n",
       "| 5823 | 33  | 1   | 4   | 2   | 8   | 0   | 6   | 0   | 3   | 5   | ... | 0   | 0   | 0   | 1   | 0   | 0   | 0   | 0   | 0   | 0   |\n",
       "| 5824 |  6  | 1   | 3   | 2   | 2   | 0   | 5   | 0   | 4   | 5   | ... | 0   | 0   | 0   | 1   | 0   | 0   | 0   | 0   | 0   | 1   |\n",
       "| 5825 | 39  | 1   | 3   | 3   | 9   | 1   | 4   | 2   | 3   | 5   | ... | 0   | 0   | 0   | 1   | 0   | 0   | 0   | 0   | 0   | 0   |\n",
       "| 5826 |  9  | 1   | 2   | 3   | 3   | 2   | 3   | 2   | 4   | 5   | ... | 0   | 0   | 0   | 1   | 0   | 0   | 0   | 0   | 0   | 0   |\n",
       "| 5827 | 31  | 1   | 2   | 4   | 7   | 0   | 2   | 0   | 7   | 9   | ... | 0   | 0   | 0   | 1   | 0   | 0   | 0   | 0   | 0   | 0   |\n",
       "| 5828 | 30  | 1   | 2   | 4   | 7   | 1   | 4   | 2   | 3   | 5   | ... | 0   | 0   | 0   | 2   | 0   | 0   | 0   | 0   | 0   | 0   |\n",
       "\n"
      ],
      "text/plain": [
       "     MOSTYPE MAANTHUI MGEMOMV MGEMLEEF MOSHOOFD MGODRK MGODPR MGODOV MGODGE\n",
       "5823 33      1        4       2        8        0      6      0      3     \n",
       "5824  6      1        3       2        2        0      5      0      4     \n",
       "5825 39      1        3       3        9        1      4      2      3     \n",
       "5826  9      1        2       3        3        2      3      2      4     \n",
       "5827 31      1        2       4        7        0      2      0      7     \n",
       "5828 30      1        2       4        7        1      4      2      3     \n",
       "     MRELGE ... APERSONG AGEZONG AWAOREG ABRAND AZEILPL APLEZIER AFIETS AINBOED\n",
       "5823 5      ... 0        0       0       1      0       0        0      0      \n",
       "5824 5      ... 0        0       0       1      0       0        0      0      \n",
       "5825 5      ... 0        0       0       1      0       0        0      0      \n",
       "5826 5      ... 0        0       0       1      0       0        0      0      \n",
       "5827 9      ... 0        0       0       1      0       0        0      0      \n",
       "5828 5      ... 0        0       0       2      0       0        0      0      \n",
       "     ABYSTAND CARAVAN\n",
       "5823 0        0      \n",
       "5824 0        1      \n",
       "5825 0        0      \n",
       "5826 0        0      \n",
       "5827 0        0      \n",
       "5828 0        0      "
      ]
     },
     "metadata": {},
     "output_type": "display_data"
    }
   ],
   "source": [
    "head(test_data)"
   ]
  },
  {
   "cell_type": "markdown",
   "id": "dc6d333d",
   "metadata": {},
   "source": [
    "## caravn is the target variable"
   ]
  },
  {
   "cell_type": "markdown",
   "id": "0f27f963",
   "metadata": {},
   "source": [
    "Implimenting simple linear model"
   ]
  },
  {
   "cell_type": "code",
   "execution_count": 8,
   "id": "a638abb4",
   "metadata": {},
   "outputs": [
    {
     "data": {
      "text/html": [
       "0.0539850035537474"
      ],
      "text/latex": [
       "0.0539850035537474"
      ],
      "text/markdown": [
       "0.0539850035537474"
      ],
      "text/plain": [
       "[1] 0.053985"
      ]
     },
     "metadata": {},
     "output_type": "display_data"
    }
   ],
   "source": [
    "linear_model = lm(CARAVAN~.,data = train_data)\n",
    "y_hat = predict(linear_model ,test_data)\n",
    "error = mean((test_data[,\"CARAVAN\"] - y_hat)^2)\n",
    "error"
   ]
  },
  {
   "cell_type": "markdown",
   "id": "6b2e2ed7",
   "metadata": {},
   "source": [
    "## we get MSE of 5.3 %"
   ]
  },
  {
   "cell_type": "code",
   "execution_count": 9,
   "id": "47e87217",
   "metadata": {},
   "outputs": [],
   "source": [
    "#regfit.full = regsubsets(CARAVAN~., data= train_data, nbest=1 , nvmax = 85, method =\"exhaustive\")"
   ]
  },
  {
   "cell_type": "code",
   "execution_count": 10,
   "id": "03a844e6",
   "metadata": {},
   "outputs": [],
   "source": [
    "regfit.fwd = regsubsets(CARAVAN~., data= train_data, nbest=1 , nvmax = 85, method =\"forward\")"
   ]
  },
  {
   "cell_type": "code",
   "execution_count": 11,
   "id": "47f904af",
   "metadata": {},
   "outputs": [],
   "source": [
    "my_sum_fwd = summary(regfit.fwd)"
   ]
  },
  {
   "cell_type": "code",
   "execution_count": 12,
   "id": "01af53ac",
   "metadata": {},
   "outputs": [
    {
     "data": {
      "text/html": [
       "<ol class=list-inline>\n",
       "\t<li>'which'</li>\n",
       "\t<li>'rsq'</li>\n",
       "\t<li>'rss'</li>\n",
       "\t<li>'adjr2'</li>\n",
       "\t<li>'cp'</li>\n",
       "\t<li>'bic'</li>\n",
       "\t<li>'outmat'</li>\n",
       "\t<li>'obj'</li>\n",
       "</ol>\n"
      ],
      "text/latex": [
       "\\begin{enumerate*}\n",
       "\\item 'which'\n",
       "\\item 'rsq'\n",
       "\\item 'rss'\n",
       "\\item 'adjr2'\n",
       "\\item 'cp'\n",
       "\\item 'bic'\n",
       "\\item 'outmat'\n",
       "\\item 'obj'\n",
       "\\end{enumerate*}\n"
      ],
      "text/markdown": [
       "1. 'which'\n",
       "2. 'rsq'\n",
       "3. 'rss'\n",
       "4. 'adjr2'\n",
       "5. 'cp'\n",
       "6. 'bic'\n",
       "7. 'outmat'\n",
       "8. 'obj'\n",
       "\n",
       "\n"
      ],
      "text/plain": [
       "[1] \"which\"  \"rsq\"    \"rss\"    \"adjr2\"  \"cp\"     \"bic\"    \"outmat\" \"obj\"   "
      ]
     },
     "metadata": {},
     "output_type": "display_data"
    }
   ],
   "source": [
    "names(my_sum_fwd)"
   ]
  },
  {
   "cell_type": "code",
   "execution_count": 13,
   "id": "d7a0fa41",
   "metadata": {},
   "outputs": [
    {
     "data": {
      "text/html": [
       "<dl class=dl-horizontal>\n",
       "\t<dt>(Intercept)</dt>\n",
       "\t\t<dd>-0.0198454740315733</dd>\n",
       "\t<dt>MRELGE</dt>\n",
       "\t\t<dd>0.00593359992744912</dd>\n",
       "\t<dt>MOPLLAAG</dt>\n",
       "\t\t<dd>-0.00591473519186955</dd>\n",
       "\t<dt>MBERBOER</dt>\n",
       "\t\t<dd>-0.00841935121672575</dd>\n",
       "\t<dt>MKOOPKLA</dt>\n",
       "\t\t<dd>0.00422784185456917</dd>\n",
       "\t<dt>PWAPART</dt>\n",
       "\t\t<dd>0.0110792448830785</dd>\n",
       "\t<dt>PPERSAUT</dt>\n",
       "\t\t<dd>0.0105450978574144</dd>\n",
       "\t<dt>PBRAND</dt>\n",
       "\t\t<dd>0.00684554065870257</dd>\n",
       "\t<dt>APLEZIER</dt>\n",
       "\t\t<dd>0.285530029381962</dd>\n",
       "\t<dt>AFIETS</dt>\n",
       "\t\t<dd>0.039278555330433</dd>\n",
       "\t<dt>ABYSTAND</dt>\n",
       "\t\t<dd>0.0782946955479701</dd>\n",
       "</dl>\n"
      ],
      "text/latex": [
       "\\begin{description*}\n",
       "\\item[(Intercept)] -0.0198454740315733\n",
       "\\item[MRELGE] 0.00593359992744912\n",
       "\\item[MOPLLAAG] -0.00591473519186955\n",
       "\\item[MBERBOER] -0.00841935121672575\n",
       "\\item[MKOOPKLA] 0.00422784185456917\n",
       "\\item[PWAPART] 0.0110792448830785\n",
       "\\item[PPERSAUT] 0.0105450978574144\n",
       "\\item[PBRAND] 0.00684554065870257\n",
       "\\item[APLEZIER] 0.285530029381962\n",
       "\\item[AFIETS] 0.039278555330433\n",
       "\\item[ABYSTAND] 0.0782946955479701\n",
       "\\end{description*}\n"
      ],
      "text/markdown": [
       "(Intercept)\n",
       ":   -0.0198454740315733MRELGE\n",
       ":   0.00593359992744912MOPLLAAG\n",
       ":   -0.00591473519186955MBERBOER\n",
       ":   -0.00841935121672575MKOOPKLA\n",
       ":   0.00422784185456917PWAPART\n",
       ":   0.0110792448830785PPERSAUT\n",
       ":   0.0105450978574144PBRAND\n",
       ":   0.00684554065870257APLEZIER\n",
       ":   0.285530029381962AFIETS\n",
       ":   0.039278555330433ABYSTAND\n",
       ":   0.0782946955479701\n",
       "\n"
      ],
      "text/plain": [
       " (Intercept)       MRELGE     MOPLLAAG     MBERBOER     MKOOPKLA      PWAPART \n",
       "-0.019845474  0.005933600 -0.005914735 -0.008419351  0.004227842  0.011079245 \n",
       "    PPERSAUT       PBRAND     APLEZIER       AFIETS     ABYSTAND \n",
       " 0.010545098  0.006845541  0.285530029  0.039278555  0.078294696 "
      ]
     },
     "metadata": {},
     "output_type": "display_data"
    }
   ],
   "source": [
    "coef(regfit.fwd, 10)"
   ]
  },
  {
   "cell_type": "code",
   "execution_count": 14,
   "id": "abf0d07c",
   "metadata": {},
   "outputs": [],
   "source": [
    "regfit.bwd <- regsubsets(CARAVAN~., data= train_data, nbest=1, nvmax = 85, method =\"backward\")"
   ]
  },
  {
   "cell_type": "code",
   "execution_count": 15,
   "id": "dac98e7a",
   "metadata": {},
   "outputs": [],
   "source": [
    "my_sum_bwd = summary(regfit.bwd)"
   ]
  },
  {
   "cell_type": "code",
   "execution_count": 16,
   "id": "70d5b5f6",
   "metadata": {},
   "outputs": [
    {
     "data": {
      "text/html": [
       "<ol class=list-inline>\n",
       "\t<li>'which'</li>\n",
       "\t<li>'rsq'</li>\n",
       "\t<li>'rss'</li>\n",
       "\t<li>'adjr2'</li>\n",
       "\t<li>'cp'</li>\n",
       "\t<li>'bic'</li>\n",
       "\t<li>'outmat'</li>\n",
       "\t<li>'obj'</li>\n",
       "</ol>\n"
      ],
      "text/latex": [
       "\\begin{enumerate*}\n",
       "\\item 'which'\n",
       "\\item 'rsq'\n",
       "\\item 'rss'\n",
       "\\item 'adjr2'\n",
       "\\item 'cp'\n",
       "\\item 'bic'\n",
       "\\item 'outmat'\n",
       "\\item 'obj'\n",
       "\\end{enumerate*}\n"
      ],
      "text/markdown": [
       "1. 'which'\n",
       "2. 'rsq'\n",
       "3. 'rss'\n",
       "4. 'adjr2'\n",
       "5. 'cp'\n",
       "6. 'bic'\n",
       "7. 'outmat'\n",
       "8. 'obj'\n",
       "\n",
       "\n"
      ],
      "text/plain": [
       "[1] \"which\"  \"rsq\"    \"rss\"    \"adjr2\"  \"cp\"     \"bic\"    \"outmat\" \"obj\"   "
      ]
     },
     "metadata": {},
     "output_type": "display_data"
    }
   ],
   "source": [
    "names(my_sum_bwd)"
   ]
  },
  {
   "cell_type": "code",
   "execution_count": 17,
   "id": "804c8e89",
   "metadata": {},
   "outputs": [
    {
     "data": {
      "text/html": [
       "<dl class=dl-horizontal>\n",
       "\t<dt>(Intercept)</dt>\n",
       "\t\t<dd>-9.26659307594485e-05</dd>\n",
       "\t<dt>MRELGE</dt>\n",
       "\t\t<dd>0.00678118824187631</dd>\n",
       "\t<dt>MOPLLAAG</dt>\n",
       "\t\t<dd>-0.00737952656852651</dd>\n",
       "\t<dt>MBERBOER</dt>\n",
       "\t\t<dd>-0.0085461167448751</dd>\n",
       "\t<dt>PWALAND</dt>\n",
       "\t\t<dd>-0.0196011925148692</dd>\n",
       "\t<dt>PPERSAUT</dt>\n",
       "\t\t<dd>0.0110860565663785</dd>\n",
       "\t<dt>PBRAND</dt>\n",
       "\t\t<dd>0.0108952808283672</dd>\n",
       "\t<dt>ALEVEN</dt>\n",
       "\t\t<dd>0.00733464448240905</dd>\n",
       "\t<dt>APLEZIER</dt>\n",
       "\t\t<dd>0.284987680471454</dd>\n",
       "\t<dt>AFIETS</dt>\n",
       "\t\t<dd>0.0404423501758001</dd>\n",
       "\t<dt>ABYSTAND</dt>\n",
       "\t\t<dd>0.0800354075923259</dd>\n",
       "</dl>\n"
      ],
      "text/latex": [
       "\\begin{description*}\n",
       "\\item[(Intercept)] -9.26659307594485e-05\n",
       "\\item[MRELGE] 0.00678118824187631\n",
       "\\item[MOPLLAAG] -0.00737952656852651\n",
       "\\item[MBERBOER] -0.0085461167448751\n",
       "\\item[PWALAND] -0.0196011925148692\n",
       "\\item[PPERSAUT] 0.0110860565663785\n",
       "\\item[PBRAND] 0.0108952808283672\n",
       "\\item[ALEVEN] 0.00733464448240905\n",
       "\\item[APLEZIER] 0.284987680471454\n",
       "\\item[AFIETS] 0.0404423501758001\n",
       "\\item[ABYSTAND] 0.0800354075923259\n",
       "\\end{description*}\n"
      ],
      "text/markdown": [
       "(Intercept)\n",
       ":   -9.26659307594485e-05MRELGE\n",
       ":   0.00678118824187631MOPLLAAG\n",
       ":   -0.00737952656852651MBERBOER\n",
       ":   -0.0085461167448751PWALAND\n",
       ":   -0.0196011925148692PPERSAUT\n",
       ":   0.0110860565663785PBRAND\n",
       ":   0.0108952808283672ALEVEN\n",
       ":   0.00733464448240905APLEZIER\n",
       ":   0.284987680471454AFIETS\n",
       ":   0.0404423501758001ABYSTAND\n",
       ":   0.0800354075923259\n",
       "\n"
      ],
      "text/plain": [
       "  (Intercept)        MRELGE      MOPLLAAG      MBERBOER       PWALAND \n",
       "-9.266593e-05  6.781188e-03 -7.379527e-03 -8.546117e-03 -1.960119e-02 \n",
       "     PPERSAUT        PBRAND        ALEVEN      APLEZIER        AFIETS \n",
       " 1.108606e-02  1.089528e-02  7.334644e-03  2.849877e-01  4.044235e-02 \n",
       "     ABYSTAND \n",
       " 8.003541e-02 "
      ]
     },
     "metadata": {},
     "output_type": "display_data"
    }
   ],
   "source": [
    "coef(regfit.bwd, 10)"
   ]
  },
  {
   "cell_type": "code",
   "execution_count": 18,
   "id": "b3ec9c2f",
   "metadata": {},
   "outputs": [],
   "source": [
    "par(mfrow = c(2,2))"
   ]
  },
  {
   "cell_type": "code",
   "execution_count": 19,
   "id": "89dd48fb",
   "metadata": {},
   "outputs": [
    {
     "data": {
      "image/png": "[encoded data removed]",
      "text/plain": [
       "plot without title"
      ]
     },
     "metadata": {},
     "output_type": "display_data"
    }
   ],
   "source": [
    "plot(my_sum_fwd$cp , xlab = 'No of variables' , ylab = 'Cp',type = 'l')"
   ]
  },
  {
   "cell_type": "markdown",
   "id": "f75c04c1",
   "metadata": {},
   "source": [
    "## Around 22 variables is best"
   ]
  },
  {
   "cell_type": "code",
   "execution_count": 20,
   "id": "e831935f",
   "metadata": {},
   "outputs": [
    {
     "data": {
      "image/png": "[encoded data removed]",
      "text/plain": [
       "plot without title"
      ]
     },
     "metadata": {},
     "output_type": "display_data"
    }
   ],
   "source": [
    "plot(my_sum_fwd$bic , xlab = 'No of variables' , ylab = 'bic',type = 'l')"
   ]
  },
  {
   "cell_type": "markdown",
   "id": "d11cfa8c",
   "metadata": {},
   "source": [
    "## Around 10 Variables is best "
   ]
  },
  {
   "cell_type": "code",
   "execution_count": 21,
   "id": "aad52777",
   "metadata": {},
   "outputs": [
    {
     "data": {
      "image/png": "[encoded data removed]",
      "text/plain": [
       "plot without title"
      ]
     },
     "metadata": {},
     "output_type": "display_data"
    }
   ],
   "source": [
    "plot(my_sum_fwd$rss , xlab = 'No of variables' , ylab = 'rss',type = 'l')"
   ]
  },
  {
   "cell_type": "markdown",
   "id": "dec92d4d",
   "metadata": {},
   "source": [
    "## Best Around 80"
   ]
  },
  {
   "cell_type": "code",
   "execution_count": 22,
   "id": "79d7e549",
   "metadata": {},
   "outputs": [
    {
     "data": {
      "image/png": "[encoded data removed]",
      "text/plain": [
       "plot without title"
      ]
     },
     "metadata": {},
     "output_type": "display_data"
    }
   ],
   "source": [
    "plot(my_sum_fwd$adjr2 , xlab = 'No of variables' , ylab = 'adjr2',type = 'l')"
   ]
  },
  {
   "cell_type": "markdown",
   "id": "08d378e9",
   "metadata": {},
   "source": [
    "## Best around 50"
   ]
  },
  {
   "cell_type": "markdown",
   "id": "8d9ad955",
   "metadata": {},
   "source": [
    "## optimal model selection "
   ]
  },
  {
   "cell_type": "code",
   "execution_count": 23,
   "id": "1ba95e2a",
   "metadata": {},
   "outputs": [
    {
     "data": {
      "text/html": [
       "23"
      ],
      "text/latex": [
       "23"
      ],
      "text/markdown": [
       "23"
      ],
      "text/plain": [
       "[1] 23"
      ]
     },
     "metadata": {},
     "output_type": "display_data"
    }
   ],
   "source": [
    "which(my_sum_fwd$cp == min(my_sum_fwd$cp))"
   ]
  },
  {
   "cell_type": "code",
   "execution_count": 24,
   "id": "16ef6c43",
   "metadata": {},
   "outputs": [
    {
     "data": {
      "text/html": [
       "8"
      ],
      "text/latex": [
       "8"
      ],
      "text/markdown": [
       "8"
      ],
      "text/plain": [
       "[1] 8"
      ]
     },
     "metadata": {},
     "output_type": "display_data"
    }
   ],
   "source": [
    "which(my_sum_fwd$bic == min(my_sum_fwd$bic))"
   ]
  },
  {
   "cell_type": "code",
   "execution_count": 25,
   "id": "e0df7e90",
   "metadata": {},
   "outputs": [
    {
     "data": {
      "text/html": [
       "85"
      ],
      "text/latex": [
       "85"
      ],
      "text/markdown": [
       "85"
      ],
      "text/plain": [
       "[1] 85"
      ]
     },
     "metadata": {},
     "output_type": "display_data"
    }
   ],
   "source": [
    "which(my_sum_fwd$rss == min(my_sum_fwd$rss))"
   ]
  },
  {
   "cell_type": "code",
   "execution_count": 26,
   "id": "5a6cbd0e",
   "metadata": {},
   "outputs": [
    {
     "data": {
      "text/html": [
       "47"
      ],
      "text/latex": [
       "47"
      ],
      "text/markdown": [
       "47"
      ],
      "text/plain": [
       "[1] 47"
      ]
     },
     "metadata": {},
     "output_type": "display_data"
    }
   ],
   "source": [
    "which(my_sum_fwd$adjr2 == max(my_sum_fwd$adjr2))"
   ]
  },
  {
   "cell_type": "markdown",
   "id": "04664fa4",
   "metadata": {},
   "source": [
    "Forward and backward selection"
   ]
  },
  {
   "cell_type": "code",
   "execution_count": 27,
   "id": "5cab318f",
   "metadata": {},
   "outputs": [],
   "source": [
    "regfit.fwd = regsubsets(CARAVAN~., data= train_data, nbest=1 , nvmax = 85, method =\"forward\")"
   ]
  },
  {
   "cell_type": "code",
   "execution_count": 28,
   "id": "1fc82ca8",
   "metadata": {},
   "outputs": [],
   "source": [
    "regfit.bwd <- regsubsets(CARAVAN~., data= train_data, nbest=1, nvmax = 85, method =\"backward\")"
   ]
  },
  {
   "cell_type": "code",
   "execution_count": 29,
   "id": "a0bd49e9",
   "metadata": {},
   "outputs": [
    {
     "data": {
      "text/html": [
       "<table>\n",
       "<thead><tr><th></th><th scope=col>MOSTYPE</th><th scope=col>MAANTHUI</th><th scope=col>MGEMOMV</th><th scope=col>MGEMLEEF</th><th scope=col>MOSHOOFD</th><th scope=col>MGODRK</th><th scope=col>MGODPR</th><th scope=col>MGODOV</th><th scope=col>MGODGE</th><th scope=col>MRELGE</th><th scope=col>...</th><th scope=col>ALEVEN</th><th scope=col>APERSONG</th><th scope=col>AGEZONG</th><th scope=col>AWAOREG</th><th scope=col>ABRAND</th><th scope=col>AZEILPL</th><th scope=col>APLEZIER</th><th scope=col>AFIETS</th><th scope=col>AINBOED</th><th scope=col>ABYSTAND</th></tr></thead>\n",
       "<tbody>\n",
       "\t<tr><th scope=row>1  ( 1 )</th><td>   </td><td>   </td><td>   </td><td>   </td><td>   </td><td>   </td><td>   </td><td>   </td><td>   </td><td>   </td><td>...</td><td>   </td><td>   </td><td>   </td><td>   </td><td>   </td><td>   </td><td>   </td><td>   </td><td>   </td><td>   </td></tr>\n",
       "\t<tr><th scope=row>2  ( 1 )</th><td>   </td><td>   </td><td>   </td><td>   </td><td>   </td><td>   </td><td>   </td><td>   </td><td>   </td><td>   </td><td>...</td><td>   </td><td>   </td><td>   </td><td>   </td><td>   </td><td>   </td><td>*  </td><td>   </td><td>   </td><td>   </td></tr>\n",
       "\t<tr><th scope=row>3  ( 1 )</th><td>   </td><td>   </td><td>   </td><td>   </td><td>   </td><td>   </td><td>   </td><td>   </td><td>   </td><td>   </td><td>...</td><td>   </td><td>   </td><td>   </td><td>   </td><td>   </td><td>   </td><td>*  </td><td>   </td><td>   </td><td>   </td></tr>\n",
       "\t<tr><th scope=row>4  ( 1 )</th><td>   </td><td>   </td><td>   </td><td>   </td><td>   </td><td>   </td><td>   </td><td>   </td><td>   </td><td>   </td><td>...</td><td>   </td><td>   </td><td>   </td><td>   </td><td>   </td><td>   </td><td>*  </td><td>   </td><td>   </td><td>   </td></tr>\n",
       "\t<tr><th scope=row>5  ( 1 )</th><td>   </td><td>   </td><td>   </td><td>   </td><td>   </td><td>   </td><td>   </td><td>   </td><td>   </td><td>   </td><td>...</td><td>   </td><td>   </td><td>   </td><td>   </td><td>   </td><td>   </td><td>*  </td><td>   </td><td>   </td><td>   </td></tr>\n",
       "\t<tr><th scope=row>6  ( 1 )</th><td>   </td><td>   </td><td>   </td><td>   </td><td>   </td><td>   </td><td>   </td><td>   </td><td>   </td><td>*  </td><td>...</td><td>   </td><td>   </td><td>   </td><td>   </td><td>   </td><td>   </td><td>*  </td><td>   </td><td>   </td><td>   </td></tr>\n",
       "\t<tr><th scope=row>7  ( 1 )</th><td>   </td><td>   </td><td>   </td><td>   </td><td>   </td><td>   </td><td>   </td><td>   </td><td>   </td><td>*  </td><td>...</td><td>   </td><td>   </td><td>   </td><td>   </td><td>   </td><td>   </td><td>*  </td><td>   </td><td>   </td><td>   </td></tr>\n",
       "\t<tr><th scope=row>8  ( 1 )</th><td>   </td><td>   </td><td>   </td><td>   </td><td>   </td><td>   </td><td>   </td><td>   </td><td>   </td><td>*  </td><td>...</td><td>   </td><td>   </td><td>   </td><td>   </td><td>   </td><td>   </td><td>*  </td><td>   </td><td>   </td><td>*  </td></tr>\n",
       "\t<tr><th scope=row>9  ( 1 )</th><td>   </td><td>   </td><td>   </td><td>   </td><td>   </td><td>   </td><td>   </td><td>   </td><td>   </td><td>*  </td><td>...</td><td>   </td><td>   </td><td>   </td><td>   </td><td>   </td><td>   </td><td>*  </td><td>   </td><td>   </td><td>*  </td></tr>\n",
       "\t<tr><th scope=row>10  ( 1 )</th><td>   </td><td>   </td><td>   </td><td>   </td><td>   </td><td>   </td><td>   </td><td>   </td><td>   </td><td>*  </td><td>...</td><td>   </td><td>   </td><td>   </td><td>   </td><td>   </td><td>   </td><td>*  </td><td>*  </td><td>   </td><td>*  </td></tr>\n",
       "\t<tr><th scope=row>11  ( 1 )</th><td>   </td><td>   </td><td>   </td><td>   </td><td>   </td><td>   </td><td>   </td><td>   </td><td>   </td><td>*  </td><td>...</td><td>   </td><td>   </td><td>   </td><td>   </td><td>   </td><td>   </td><td>*  </td><td>*  </td><td>   </td><td>*  </td></tr>\n",
       "\t<tr><th scope=row>12  ( 1 )</th><td>   </td><td>   </td><td>   </td><td>   </td><td>   </td><td>   </td><td>   </td><td>   </td><td>   </td><td>*  </td><td>...</td><td>   </td><td>   </td><td>   </td><td>   </td><td>   </td><td>   </td><td>*  </td><td>*  </td><td>   </td><td>*  </td></tr>\n",
       "\t<tr><th scope=row>13  ( 1 )</th><td>   </td><td>   </td><td>   </td><td>*  </td><td>   </td><td>   </td><td>   </td><td>   </td><td>   </td><td>*  </td><td>...</td><td>   </td><td>   </td><td>   </td><td>   </td><td>   </td><td>   </td><td>*  </td><td>*  </td><td>   </td><td>*  </td></tr>\n",
       "\t<tr><th scope=row>14  ( 1 )</th><td>   </td><td>   </td><td>   </td><td>*  </td><td>   </td><td>   </td><td>   </td><td>   </td><td>   </td><td>*  </td><td>...</td><td>   </td><td>   </td><td>   </td><td>   </td><td>   </td><td>   </td><td>*  </td><td>*  </td><td>   </td><td>*  </td></tr>\n",
       "\t<tr><th scope=row>15  ( 1 )</th><td>   </td><td>   </td><td>   </td><td>*  </td><td>   </td><td>   </td><td>   </td><td>   </td><td>   </td><td>*  </td><td>...</td><td>   </td><td>   </td><td>   </td><td>   </td><td>   </td><td>   </td><td>*  </td><td>*  </td><td>   </td><td>*  </td></tr>\n",
       "\t<tr><th scope=row>16  ( 1 )</th><td>   </td><td>   </td><td>   </td><td>*  </td><td>   </td><td>   </td><td>   </td><td>   </td><td>   </td><td>*  </td><td>...</td><td>   </td><td>   </td><td>   </td><td>   </td><td>*  </td><td>   </td><td>*  </td><td>*  </td><td>   </td><td>*  </td></tr>\n",
       "\t<tr><th scope=row>17  ( 1 )</th><td>   </td><td>   </td><td>   </td><td>*  </td><td>   </td><td>   </td><td>   </td><td>   </td><td>   </td><td>*  </td><td>...</td><td>   </td><td>   </td><td>   </td><td>*  </td><td>*  </td><td>   </td><td>*  </td><td>*  </td><td>   </td><td>*  </td></tr>\n",
       "\t<tr><th scope=row>18  ( 1 )</th><td>   </td><td>   </td><td>   </td><td>*  </td><td>   </td><td>   </td><td>   </td><td>   </td><td>   </td><td>*  </td><td>...</td><td>   </td><td>   </td><td>   </td><td>*  </td><td>*  </td><td>   </td><td>*  </td><td>*  </td><td>   </td><td>*  </td></tr>\n",
       "\t<tr><th scope=row>19  ( 1 )</th><td>   </td><td>   </td><td>   </td><td>*  </td><td>   </td><td>   </td><td>*  </td><td>   </td><td>   </td><td>*  </td><td>...</td><td>   </td><td>   </td><td>   </td><td>*  </td><td>*  </td><td>   </td><td>*  </td><td>*  </td><td>   </td><td>*  </td></tr>\n",
       "\t<tr><th scope=row>20  ( 1 )</th><td>   </td><td>   </td><td>   </td><td>*  </td><td>   </td><td>   </td><td>*  </td><td>   </td><td>   </td><td>*  </td><td>...</td><td>   </td><td>   </td><td>   </td><td>*  </td><td>*  </td><td>   </td><td>*  </td><td>*  </td><td>   </td><td>*  </td></tr>\n",
       "\t<tr><th scope=row>21  ( 1 )</th><td>   </td><td>   </td><td>   </td><td>*  </td><td>   </td><td>   </td><td>*  </td><td>   </td><td>   </td><td>*  </td><td>...</td><td>   </td><td>   </td><td>   </td><td>*  </td><td>*  </td><td>   </td><td>*  </td><td>*  </td><td>   </td><td>*  </td></tr>\n",
       "\t<tr><th scope=row>22  ( 1 )</th><td>   </td><td>   </td><td>   </td><td>*  </td><td>   </td><td>   </td><td>*  </td><td>   </td><td>   </td><td>*  </td><td>...</td><td>   </td><td>   </td><td>   </td><td>*  </td><td>*  </td><td>   </td><td>*  </td><td>*  </td><td>   </td><td>*  </td></tr>\n",
       "\t<tr><th scope=row>23  ( 1 )</th><td>   </td><td>   </td><td>   </td><td>*  </td><td>   </td><td>   </td><td>*  </td><td>   </td><td>   </td><td>*  </td><td>...</td><td>   </td><td>   </td><td>*  </td><td>*  </td><td>*  </td><td>   </td><td>*  </td><td>*  </td><td>   </td><td>*  </td></tr>\n",
       "\t<tr><th scope=row>24  ( 1 )</th><td>   </td><td>   </td><td>   </td><td>*  </td><td>   </td><td>   </td><td>*  </td><td>   </td><td>   </td><td>*  </td><td>...</td><td>   </td><td>   </td><td>*  </td><td>*  </td><td>*  </td><td>   </td><td>*  </td><td>*  </td><td>   </td><td>*  </td></tr>\n",
       "\t<tr><th scope=row>25  ( 1 )</th><td>   </td><td>   </td><td>   </td><td>*  </td><td>   </td><td>   </td><td>*  </td><td>   </td><td>   </td><td>*  </td><td>...</td><td>   </td><td>   </td><td>*  </td><td>*  </td><td>*  </td><td>   </td><td>*  </td><td>*  </td><td>   </td><td>*  </td></tr>\n",
       "\t<tr><th scope=row>26  ( 1 )</th><td>   </td><td>   </td><td>   </td><td>*  </td><td>   </td><td>   </td><td>*  </td><td>   </td><td>   </td><td>*  </td><td>...</td><td>   </td><td>   </td><td>*  </td><td>*  </td><td>*  </td><td>   </td><td>*  </td><td>*  </td><td>   </td><td>*  </td></tr>\n",
       "\t<tr><th scope=row>27  ( 1 )</th><td>   </td><td>   </td><td>   </td><td>*  </td><td>   </td><td>   </td><td>*  </td><td>   </td><td>   </td><td>*  </td><td>...</td><td>   </td><td>   </td><td>*  </td><td>*  </td><td>*  </td><td>*  </td><td>*  </td><td>*  </td><td>   </td><td>*  </td></tr>\n",
       "\t<tr><th scope=row>28  ( 1 )</th><td>   </td><td>   </td><td>   </td><td>*  </td><td>   </td><td>   </td><td>*  </td><td>   </td><td>   </td><td>*  </td><td>...</td><td>   </td><td>   </td><td>*  </td><td>*  </td><td>*  </td><td>*  </td><td>*  </td><td>*  </td><td>   </td><td>*  </td></tr>\n",
       "\t<tr><th scope=row>29  ( 1 )</th><td>   </td><td>   </td><td>   </td><td>*  </td><td>   </td><td>   </td><td>*  </td><td>   </td><td>   </td><td>*  </td><td>...</td><td>   </td><td>   </td><td>*  </td><td>*  </td><td>*  </td><td>*  </td><td>*  </td><td>*  </td><td>   </td><td>*  </td></tr>\n",
       "\t<tr><th scope=row>30  ( 1 )</th><td>   </td><td>   </td><td>   </td><td>*  </td><td>   </td><td>   </td><td>*  </td><td>   </td><td>   </td><td>*  </td><td>...</td><td>   </td><td>   </td><td>*  </td><td>*  </td><td>*  </td><td>*  </td><td>*  </td><td>*  </td><td>   </td><td>*  </td></tr>\n",
       "\t<tr><th scope=row>...</th><td>...</td><td>...</td><td>...</td><td>...</td><td>...</td><td>...</td><td>...</td><td>...</td><td>...</td><td>...</td><td>   </td><td>...</td><td>...</td><td>...</td><td>...</td><td>...</td><td>...</td><td>...</td><td>...</td><td>...</td><td>...</td></tr>\n",
       "\t<tr><th scope=row>56  ( 1 )</th><td>   </td><td>*  </td><td>   </td><td>*  </td><td>   </td><td>*  </td><td>*  </td><td>*  </td><td>   </td><td>*  </td><td>...</td><td>*  </td><td>*  </td><td>*  </td><td>*  </td><td>*  </td><td>*  </td><td>*  </td><td>*  </td><td>*  </td><td>*  </td></tr>\n",
       "\t<tr><th scope=row>57  ( 1 )</th><td>   </td><td>*  </td><td>   </td><td>*  </td><td>   </td><td>*  </td><td>*  </td><td>*  </td><td>   </td><td>*  </td><td>...</td><td>*  </td><td>*  </td><td>*  </td><td>*  </td><td>*  </td><td>*  </td><td>*  </td><td>*  </td><td>*  </td><td>*  </td></tr>\n",
       "\t<tr><th scope=row>58  ( 1 )</th><td>   </td><td>*  </td><td>   </td><td>*  </td><td>   </td><td>*  </td><td>*  </td><td>*  </td><td>   </td><td>*  </td><td>...</td><td>*  </td><td>*  </td><td>*  </td><td>*  </td><td>*  </td><td>*  </td><td>*  </td><td>*  </td><td>*  </td><td>*  </td></tr>\n",
       "\t<tr><th scope=row>59  ( 1 )</th><td>   </td><td>*  </td><td>   </td><td>*  </td><td>   </td><td>*  </td><td>*  </td><td>*  </td><td>   </td><td>*  </td><td>...</td><td>*  </td><td>*  </td><td>*  </td><td>*  </td><td>*  </td><td>*  </td><td>*  </td><td>*  </td><td>*  </td><td>*  </td></tr>\n",
       "\t<tr><th scope=row>60  ( 1 )</th><td>   </td><td>*  </td><td>   </td><td>*  </td><td>   </td><td>*  </td><td>*  </td><td>*  </td><td>   </td><td>*  </td><td>...</td><td>*  </td><td>*  </td><td>*  </td><td>*  </td><td>*  </td><td>*  </td><td>*  </td><td>*  </td><td>*  </td><td>*  </td></tr>\n",
       "\t<tr><th scope=row>61  ( 1 )</th><td>   </td><td>*  </td><td>   </td><td>*  </td><td>   </td><td>*  </td><td>*  </td><td>*  </td><td>*  </td><td>*  </td><td>...</td><td>*  </td><td>*  </td><td>*  </td><td>*  </td><td>*  </td><td>*  </td><td>*  </td><td>*  </td><td>*  </td><td>*  </td></tr>\n",
       "\t<tr><th scope=row>62  ( 1 )</th><td>   </td><td>*  </td><td>   </td><td>*  </td><td>   </td><td>*  </td><td>*  </td><td>*  </td><td>*  </td><td>*  </td><td>...</td><td>*  </td><td>*  </td><td>*  </td><td>*  </td><td>*  </td><td>*  </td><td>*  </td><td>*  </td><td>*  </td><td>*  </td></tr>\n",
       "\t<tr><th scope=row>63  ( 1 )</th><td>   </td><td>*  </td><td>   </td><td>*  </td><td>   </td><td>*  </td><td>*  </td><td>*  </td><td>*  </td><td>*  </td><td>...</td><td>*  </td><td>*  </td><td>*  </td><td>*  </td><td>*  </td><td>*  </td><td>*  </td><td>*  </td><td>*  </td><td>*  </td></tr>\n",
       "\t<tr><th scope=row>64  ( 1 )</th><td>   </td><td>*  </td><td>   </td><td>*  </td><td>   </td><td>*  </td><td>*  </td><td>*  </td><td>*  </td><td>*  </td><td>...</td><td>*  </td><td>*  </td><td>*  </td><td>*  </td><td>*  </td><td>*  </td><td>*  </td><td>*  </td><td>*  </td><td>*  </td></tr>\n",
       "\t<tr><th scope=row>65  ( 1 )</th><td>   </td><td>*  </td><td>   </td><td>*  </td><td>   </td><td>*  </td><td>*  </td><td>*  </td><td>*  </td><td>*  </td><td>...</td><td>*  </td><td>*  </td><td>*  </td><td>*  </td><td>*  </td><td>*  </td><td>*  </td><td>*  </td><td>*  </td><td>*  </td></tr>\n",
       "\t<tr><th scope=row>66  ( 1 )</th><td>   </td><td>*  </td><td>   </td><td>*  </td><td>   </td><td>*  </td><td>*  </td><td>*  </td><td>*  </td><td>*  </td><td>...</td><td>*  </td><td>*  </td><td>*  </td><td>*  </td><td>*  </td><td>*  </td><td>*  </td><td>*  </td><td>*  </td><td>*  </td></tr>\n",
       "\t<tr><th scope=row>67  ( 1 )</th><td>   </td><td>*  </td><td>   </td><td>*  </td><td>   </td><td>*  </td><td>*  </td><td>*  </td><td>*  </td><td>*  </td><td>...</td><td>*  </td><td>*  </td><td>*  </td><td>*  </td><td>*  </td><td>*  </td><td>*  </td><td>*  </td><td>*  </td><td>*  </td></tr>\n",
       "\t<tr><th scope=row>68  ( 1 )</th><td>   </td><td>*  </td><td>   </td><td>*  </td><td>   </td><td>*  </td><td>*  </td><td>*  </td><td>*  </td><td>*  </td><td>...</td><td>*  </td><td>*  </td><td>*  </td><td>*  </td><td>*  </td><td>*  </td><td>*  </td><td>*  </td><td>*  </td><td>*  </td></tr>\n",
       "\t<tr><th scope=row>69  ( 1 )</th><td>   </td><td>*  </td><td>   </td><td>*  </td><td>   </td><td>*  </td><td>*  </td><td>*  </td><td>*  </td><td>*  </td><td>...</td><td>*  </td><td>*  </td><td>*  </td><td>*  </td><td>*  </td><td>*  </td><td>*  </td><td>*  </td><td>*  </td><td>*  </td></tr>\n",
       "\t<tr><th scope=row>70  ( 1 )</th><td>   </td><td>*  </td><td>   </td><td>*  </td><td>   </td><td>*  </td><td>*  </td><td>*  </td><td>*  </td><td>*  </td><td>...</td><td>*  </td><td>*  </td><td>*  </td><td>*  </td><td>*  </td><td>*  </td><td>*  </td><td>*  </td><td>*  </td><td>*  </td></tr>\n",
       "\t<tr><th scope=row>71  ( 1 )</th><td>*  </td><td>*  </td><td>   </td><td>*  </td><td>   </td><td>*  </td><td>*  </td><td>*  </td><td>*  </td><td>*  </td><td>...</td><td>*  </td><td>*  </td><td>*  </td><td>*  </td><td>*  </td><td>*  </td><td>*  </td><td>*  </td><td>*  </td><td>*  </td></tr>\n",
       "\t<tr><th scope=row>72  ( 1 )</th><td>*  </td><td>*  </td><td>   </td><td>*  </td><td>*  </td><td>*  </td><td>*  </td><td>*  </td><td>*  </td><td>*  </td><td>...</td><td>*  </td><td>*  </td><td>*  </td><td>*  </td><td>*  </td><td>*  </td><td>*  </td><td>*  </td><td>*  </td><td>*  </td></tr>\n",
       "\t<tr><th scope=row>73  ( 1 )</th><td>*  </td><td>*  </td><td>   </td><td>*  </td><td>*  </td><td>*  </td><td>*  </td><td>*  </td><td>*  </td><td>*  </td><td>...</td><td>*  </td><td>*  </td><td>*  </td><td>*  </td><td>*  </td><td>*  </td><td>*  </td><td>*  </td><td>*  </td><td>*  </td></tr>\n",
       "\t<tr><th scope=row>74  ( 1 )</th><td>*  </td><td>*  </td><td>*  </td><td>*  </td><td>*  </td><td>*  </td><td>*  </td><td>*  </td><td>*  </td><td>*  </td><td>...</td><td>*  </td><td>*  </td><td>*  </td><td>*  </td><td>*  </td><td>*  </td><td>*  </td><td>*  </td><td>*  </td><td>*  </td></tr>\n",
       "\t<tr><th scope=row>75  ( 1 )</th><td>*  </td><td>*  </td><td>*  </td><td>*  </td><td>*  </td><td>*  </td><td>*  </td><td>*  </td><td>*  </td><td>*  </td><td>...</td><td>*  </td><td>*  </td><td>*  </td><td>*  </td><td>*  </td><td>*  </td><td>*  </td><td>*  </td><td>*  </td><td>*  </td></tr>\n",
       "\t<tr><th scope=row>76  ( 1 )</th><td>*  </td><td>*  </td><td>*  </td><td>*  </td><td>*  </td><td>*  </td><td>*  </td><td>*  </td><td>*  </td><td>*  </td><td>...</td><td>*  </td><td>*  </td><td>*  </td><td>*  </td><td>*  </td><td>*  </td><td>*  </td><td>*  </td><td>*  </td><td>*  </td></tr>\n",
       "\t<tr><th scope=row>77  ( 1 )</th><td>*  </td><td>*  </td><td>*  </td><td>*  </td><td>*  </td><td>*  </td><td>*  </td><td>*  </td><td>*  </td><td>*  </td><td>...</td><td>*  </td><td>*  </td><td>*  </td><td>*  </td><td>*  </td><td>*  </td><td>*  </td><td>*  </td><td>*  </td><td>*  </td></tr>\n",
       "\t<tr><th scope=row>78  ( 1 )</th><td>*  </td><td>*  </td><td>*  </td><td>*  </td><td>*  </td><td>*  </td><td>*  </td><td>*  </td><td>*  </td><td>*  </td><td>...</td><td>*  </td><td>*  </td><td>*  </td><td>*  </td><td>*  </td><td>*  </td><td>*  </td><td>*  </td><td>*  </td><td>*  </td></tr>\n",
       "\t<tr><th scope=row>79  ( 1 )</th><td>*  </td><td>*  </td><td>*  </td><td>*  </td><td>*  </td><td>*  </td><td>*  </td><td>*  </td><td>*  </td><td>*  </td><td>...</td><td>*  </td><td>*  </td><td>*  </td><td>*  </td><td>*  </td><td>*  </td><td>*  </td><td>*  </td><td>*  </td><td>*  </td></tr>\n",
       "\t<tr><th scope=row>80  ( 1 )</th><td>*  </td><td>*  </td><td>*  </td><td>*  </td><td>*  </td><td>*  </td><td>*  </td><td>*  </td><td>*  </td><td>*  </td><td>...</td><td>*  </td><td>*  </td><td>*  </td><td>*  </td><td>*  </td><td>*  </td><td>*  </td><td>*  </td><td>*  </td><td>*  </td></tr>\n",
       "\t<tr><th scope=row>81  ( 1 )</th><td>*  </td><td>*  </td><td>*  </td><td>*  </td><td>*  </td><td>*  </td><td>*  </td><td>*  </td><td>*  </td><td>*  </td><td>...</td><td>*  </td><td>*  </td><td>*  </td><td>*  </td><td>*  </td><td>*  </td><td>*  </td><td>*  </td><td>*  </td><td>*  </td></tr>\n",
       "\t<tr><th scope=row>82  ( 1 )</th><td>*  </td><td>*  </td><td>*  </td><td>*  </td><td>*  </td><td>*  </td><td>*  </td><td>*  </td><td>*  </td><td>*  </td><td>...</td><td>*  </td><td>*  </td><td>*  </td><td>*  </td><td>*  </td><td>*  </td><td>*  </td><td>*  </td><td>*  </td><td>*  </td></tr>\n",
       "\t<tr><th scope=row>83  ( 1 )</th><td>*  </td><td>*  </td><td>*  </td><td>*  </td><td>*  </td><td>*  </td><td>*  </td><td>*  </td><td>*  </td><td>*  </td><td>...</td><td>*  </td><td>*  </td><td>*  </td><td>*  </td><td>*  </td><td>*  </td><td>*  </td><td>*  </td><td>*  </td><td>*  </td></tr>\n",
       "\t<tr><th scope=row>84  ( 1 )</th><td>*  </td><td>*  </td><td>*  </td><td>*  </td><td>*  </td><td>*  </td><td>*  </td><td>*  </td><td>*  </td><td>*  </td><td>...</td><td>*  </td><td>*  </td><td>*  </td><td>*  </td><td>*  </td><td>*  </td><td>*  </td><td>*  </td><td>*  </td><td>*  </td></tr>\n",
       "\t<tr><th scope=row>85  ( 1 )</th><td>*  </td><td>*  </td><td>*  </td><td>*  </td><td>*  </td><td>*  </td><td>*  </td><td>*  </td><td>*  </td><td>*  </td><td>...</td><td>*  </td><td>*  </td><td>*  </td><td>*  </td><td>*  </td><td>*  </td><td>*  </td><td>*  </td><td>*  </td><td>*  </td></tr>\n",
       "</tbody>\n",
       "</table>\n"
      ],
      "text/latex": [
       "\\begin{tabular}{r|lllllllllllllllllllllllllllllllllllllllllllllllllllllllllllllllllllllllllllllllllllll}\n",
       "  & MOSTYPE & MAANTHUI & MGEMOMV & MGEMLEEF & MOSHOOFD & MGODRK & MGODPR & MGODOV & MGODGE & MRELGE & ... & ALEVEN & APERSONG & AGEZONG & AWAOREG & ABRAND & AZEILPL & APLEZIER & AFIETS & AINBOED & ABYSTAND\\\\\n",
       "\\hline\n",
       "\t1  ( 1 ) &     &     &     &     &     &     &     &     &     &     & ... &     &     &     &     &     &     &     &     &     &    \\\\\n",
       "\t2  ( 1 ) &     &     &     &     &     &     &     &     &     &     & ... &     &     &     &     &     &     & *   &     &     &    \\\\\n",
       "\t3  ( 1 ) &     &     &     &     &     &     &     &     &     &     & ... &     &     &     &     &     &     & *   &     &     &    \\\\\n",
       "\t4  ( 1 ) &     &     &     &     &     &     &     &     &     &     & ... &     &     &     &     &     &     & *   &     &     &    \\\\\n",
       "\t5  ( 1 ) &     &     &     &     &     &     &     &     &     &     & ... &     &     &     &     &     &     & *   &     &     &    \\\\\n",
       "\t6  ( 1 ) &     &     &     &     &     &     &     &     &     & *   & ... &     &     &     &     &     &     & *   &     &     &    \\\\\n",
       "\t7  ( 1 ) &     &     &     &     &     &     &     &     &     & *   & ... &     &     &     &     &     &     & *   &     &     &    \\\\\n",
       "\t8  ( 1 ) &     &     &     &     &     &     &     &     &     & *   & ... &     &     &     &     &     &     & *   &     &     & *  \\\\\n",
       "\t9  ( 1 ) &     &     &     &     &     &     &     &     &     & *   & ... &     &     &     &     &     &     & *   &     &     & *  \\\\\n",
       "\t10  ( 1 ) &     &     &     &     &     &     &     &     &     & *   & ... &     &     &     &     &     &     & *   & *   &     & *  \\\\\n",
       "\t11  ( 1 ) &     &     &     &     &     &     &     &     &     & *   & ... &     &     &     &     &     &     & *   & *   &     & *  \\\\\n",
       "\t12  ( 1 ) &     &     &     &     &     &     &     &     &     & *   & ... &     &     &     &     &     &     & *   & *   &     & *  \\\\\n",
       "\t13  ( 1 ) &     &     &     & *   &     &     &     &     &     & *   & ... &     &     &     &     &     &     & *   & *   &     & *  \\\\\n",
       "\t14  ( 1 ) &     &     &     & *   &     &     &     &     &     & *   & ... &     &     &     &     &     &     & *   & *   &     & *  \\\\\n",
       "\t15  ( 1 ) &     &     &     & *   &     &     &     &     &     & *   & ... &     &     &     &     &     &     & *   & *   &     & *  \\\\\n",
       "\t16  ( 1 ) &     &     &     & *   &     &     &     &     &     & *   & ... &     &     &     &     & *   &     & *   & *   &     & *  \\\\\n",
       "\t17  ( 1 ) &     &     &     & *   &     &     &     &     &     & *   & ... &     &     &     & *   & *   &     & *   & *   &     & *  \\\\\n",
       "\t18  ( 1 ) &     &     &     & *   &     &     &     &     &     & *   & ... &     &     &     & *   & *   &     & *   & *   &     & *  \\\\\n",
       "\t19  ( 1 ) &     &     &     & *   &     &     & *   &     &     & *   & ... &     &     &     & *   & *   &     & *   & *   &     & *  \\\\\n",
       "\t20  ( 1 ) &     &     &     & *   &     &     & *   &     &     & *   & ... &     &     &     & *   & *   &     & *   & *   &     & *  \\\\\n",
       "\t21  ( 1 ) &     &     &     & *   &     &     & *   &     &     & *   & ... &     &     &     & *   & *   &     & *   & *   &     & *  \\\\\n",
       "\t22  ( 1 ) &     &     &     & *   &     &     & *   &     &     & *   & ... &     &     &     & *   & *   &     & *   & *   &     & *  \\\\\n",
       "\t23  ( 1 ) &     &     &     & *   &     &     & *   &     &     & *   & ... &     &     & *   & *   & *   &     & *   & *   &     & *  \\\\\n",
       "\t24  ( 1 ) &     &     &     & *   &     &     & *   &     &     & *   & ... &     &     & *   & *   & *   &     & *   & *   &     & *  \\\\\n",
       "\t25  ( 1 ) &     &     &     & *   &     &     & *   &     &     & *   & ... &     &     & *   & *   & *   &     & *   & *   &     & *  \\\\\n",
       "\t26  ( 1 ) &     &     &     & *   &     &     & *   &     &     & *   & ... &     &     & *   & *   & *   &     & *   & *   &     & *  \\\\\n",
       "\t27  ( 1 ) &     &     &     & *   &     &     & *   &     &     & *   & ... &     &     & *   & *   & *   & *   & *   & *   &     & *  \\\\\n",
       "\t28  ( 1 ) &     &     &     & *   &     &     & *   &     &     & *   & ... &     &     & *   & *   & *   & *   & *   & *   &     & *  \\\\\n",
       "\t29  ( 1 ) &     &     &     & *   &     &     & *   &     &     & *   & ... &     &     & *   & *   & *   & *   & *   & *   &     & *  \\\\\n",
       "\t30  ( 1 ) &     &     &     & *   &     &     & *   &     &     & *   & ... &     &     & *   & *   & *   & *   & *   & *   &     & *  \\\\\n",
       "\t... & ... & ... & ... & ... & ... & ... & ... & ... & ... & ... &     & ... & ... & ... & ... & ... & ... & ... & ... & ... & ...\\\\\n",
       "\t56  ( 1 ) &     & *   &     & *   &     & *   & *   & *   &     & *   & ... & *   & *   & *   & *   & *   & *   & *   & *   & *   & *  \\\\\n",
       "\t57  ( 1 ) &     & *   &     & *   &     & *   & *   & *   &     & *   & ... & *   & *   & *   & *   & *   & *   & *   & *   & *   & *  \\\\\n",
       "\t58  ( 1 ) &     & *   &     & *   &     & *   & *   & *   &     & *   & ... & *   & *   & *   & *   & *   & *   & *   & *   & *   & *  \\\\\n",
       "\t59  ( 1 ) &     & *   &     & *   &     & *   & *   & *   &     & *   & ... & *   & *   & *   & *   & *   & *   & *   & *   & *   & *  \\\\\n",
       "\t60  ( 1 ) &     & *   &     & *   &     & *   & *   & *   &     & *   & ... & *   & *   & *   & *   & *   & *   & *   & *   & *   & *  \\\\\n",
       "\t61  ( 1 ) &     & *   &     & *   &     & *   & *   & *   & *   & *   & ... & *   & *   & *   & *   & *   & *   & *   & *   & *   & *  \\\\\n",
       "\t62  ( 1 ) &     & *   &     & *   &     & *   & *   & *   & *   & *   & ... & *   & *   & *   & *   & *   & *   & *   & *   & *   & *  \\\\\n",
       "\t63  ( 1 ) &     & *   &     & *   &     & *   & *   & *   & *   & *   & ... & *   & *   & *   & *   & *   & *   & *   & *   & *   & *  \\\\\n",
       "\t64  ( 1 ) &     & *   &     & *   &     & *   & *   & *   & *   & *   & ... & *   & *   & *   & *   & *   & *   & *   & *   & *   & *  \\\\\n",
       "\t65  ( 1 ) &     & *   &     & *   &     & *   & *   & *   & *   & *   & ... & *   & *   & *   & *   & *   & *   & *   & *   & *   & *  \\\\\n",
       "\t66  ( 1 ) &     & *   &     & *   &     & *   & *   & *   & *   & *   & ... & *   & *   & *   & *   & *   & *   & *   & *   & *   & *  \\\\\n",
       "\t67  ( 1 ) &     & *   &     & *   &     & *   & *   & *   & *   & *   & ... & *   & *   & *   & *   & *   & *   & *   & *   & *   & *  \\\\\n",
       "\t68  ( 1 ) &     & *   &     & *   &     & *   & *   & *   & *   & *   & ... & *   & *   & *   & *   & *   & *   & *   & *   & *   & *  \\\\\n",
       "\t69  ( 1 ) &     & *   &     & *   &     & *   & *   & *   & *   & *   & ... & *   & *   & *   & *   & *   & *   & *   & *   & *   & *  \\\\\n",
       "\t70  ( 1 ) &     & *   &     & *   &     & *   & *   & *   & *   & *   & ... & *   & *   & *   & *   & *   & *   & *   & *   & *   & *  \\\\\n",
       "\t71  ( 1 ) & *   & *   &     & *   &     & *   & *   & *   & *   & *   & ... & *   & *   & *   & *   & *   & *   & *   & *   & *   & *  \\\\\n",
       "\t72  ( 1 ) & *   & *   &     & *   & *   & *   & *   & *   & *   & *   & ... & *   & *   & *   & *   & *   & *   & *   & *   & *   & *  \\\\\n",
       "\t73  ( 1 ) & *   & *   &     & *   & *   & *   & *   & *   & *   & *   & ... & *   & *   & *   & *   & *   & *   & *   & *   & *   & *  \\\\\n",
       "\t74  ( 1 ) & *   & *   & *   & *   & *   & *   & *   & *   & *   & *   & ... & *   & *   & *   & *   & *   & *   & *   & *   & *   & *  \\\\\n",
       "\t75  ( 1 ) & *   & *   & *   & *   & *   & *   & *   & *   & *   & *   & ... & *   & *   & *   & *   & *   & *   & *   & *   & *   & *  \\\\\n",
       "\t76  ( 1 ) & *   & *   & *   & *   & *   & *   & *   & *   & *   & *   & ... & *   & *   & *   & *   & *   & *   & *   & *   & *   & *  \\\\\n",
       "\t77  ( 1 ) & *   & *   & *   & *   & *   & *   & *   & *   & *   & *   & ... & *   & *   & *   & *   & *   & *   & *   & *   & *   & *  \\\\\n",
       "\t78  ( 1 ) & *   & *   & *   & *   & *   & *   & *   & *   & *   & *   & ... & *   & *   & *   & *   & *   & *   & *   & *   & *   & *  \\\\\n",
       "\t79  ( 1 ) & *   & *   & *   & *   & *   & *   & *   & *   & *   & *   & ... & *   & *   & *   & *   & *   & *   & *   & *   & *   & *  \\\\\n",
       "\t80  ( 1 ) & *   & *   & *   & *   & *   & *   & *   & *   & *   & *   & ... & *   & *   & *   & *   & *   & *   & *   & *   & *   & *  \\\\\n",
       "\t81  ( 1 ) & *   & *   & *   & *   & *   & *   & *   & *   & *   & *   & ... & *   & *   & *   & *   & *   & *   & *   & *   & *   & *  \\\\\n",
       "\t82  ( 1 ) & *   & *   & *   & *   & *   & *   & *   & *   & *   & *   & ... & *   & *   & *   & *   & *   & *   & *   & *   & *   & *  \\\\\n",
       "\t83  ( 1 ) & *   & *   & *   & *   & *   & *   & *   & *   & *   & *   & ... & *   & *   & *   & *   & *   & *   & *   & *   & *   & *  \\\\\n",
       "\t84  ( 1 ) & *   & *   & *   & *   & *   & *   & *   & *   & *   & *   & ... & *   & *   & *   & *   & *   & *   & *   & *   & *   & *  \\\\\n",
       "\t85  ( 1 ) & *   & *   & *   & *   & *   & *   & *   & *   & *   & *   & ... & *   & *   & *   & *   & *   & *   & *   & *   & *   & *  \\\\\n",
       "\\end{tabular}\n"
      ],
      "text/markdown": [
       "\n",
       "| <!--/--> | MOSTYPE | MAANTHUI | MGEMOMV | MGEMLEEF | MOSHOOFD | MGODRK | MGODPR | MGODOV | MGODGE | MRELGE | ... | ALEVEN | APERSONG | AGEZONG | AWAOREG | ABRAND | AZEILPL | APLEZIER | AFIETS | AINBOED | ABYSTAND |\n",
       "|---|---|---|---|---|---|---|---|---|---|---|---|---|---|---|---|---|---|---|---|---|---|\n",
       "| 1  ( 1 ) |     |     |     |     |     |     |     |     |     |     | ... |     |     |     |     |     |     |     |     |     |     |\n",
       "| 2  ( 1 ) |     |     |     |     |     |     |     |     |     |     | ... |     |     |     |     |     |     | *   |     |     |     |\n",
       "| 3  ( 1 ) |     |     |     |     |     |     |     |     |     |     | ... |     |     |     |     |     |     | *   |     |     |     |\n",
       "| 4  ( 1 ) |     |     |     |     |     |     |     |     |     |     | ... |     |     |     |     |     |     | *   |     |     |     |\n",
       "| 5  ( 1 ) |     |     |     |     |     |     |     |     |     |     | ... |     |     |     |     |     |     | *   |     |     |     |\n",
       "| 6  ( 1 ) |     |     |     |     |     |     |     |     |     | *   | ... |     |     |     |     |     |     | *   |     |     |     |\n",
       "| 7  ( 1 ) |     |     |     |     |     |     |     |     |     | *   | ... |     |     |     |     |     |     | *   |     |     |     |\n",
       "| 8  ( 1 ) |     |     |     |     |     |     |     |     |     | *   | ... |     |     |     |     |     |     | *   |     |     | *   |\n",
       "| 9  ( 1 ) |     |     |     |     |     |     |     |     |     | *   | ... |     |     |     |     |     |     | *   |     |     | *   |\n",
       "| 10  ( 1 ) |     |     |     |     |     |     |     |     |     | *   | ... |     |     |     |     |     |     | *   | *   |     | *   |\n",
       "| 11  ( 1 ) |     |     |     |     |     |     |     |     |     | *   | ... |     |     |     |     |     |     | *   | *   |     | *   |\n",
       "| 12  ( 1 ) |     |     |     |     |     |     |     |     |     | *   | ... |     |     |     |     |     |     | *   | *   |     | *   |\n",
       "| 13  ( 1 ) |     |     |     | *   |     |     |     |     |     | *   | ... |     |     |     |     |     |     | *   | *   |     | *   |\n",
       "| 14  ( 1 ) |     |     |     | *   |     |     |     |     |     | *   | ... |     |     |     |     |     |     | *   | *   |     | *   |\n",
       "| 15  ( 1 ) |     |     |     | *   |     |     |     |     |     | *   | ... |     |     |     |     |     |     | *   | *   |     | *   |\n",
       "| 16  ( 1 ) |     |     |     | *   |     |     |     |     |     | *   | ... |     |     |     |     | *   |     | *   | *   |     | *   |\n",
       "| 17  ( 1 ) |     |     |     | *   |     |     |     |     |     | *   | ... |     |     |     | *   | *   |     | *   | *   |     | *   |\n",
       "| 18  ( 1 ) |     |     |     | *   |     |     |     |     |     | *   | ... |     |     |     | *   | *   |     | *   | *   |     | *   |\n",
       "| 19  ( 1 ) |     |     |     | *   |     |     | *   |     |     | *   | ... |     |     |     | *   | *   |     | *   | *   |     | *   |\n",
       "| 20  ( 1 ) |     |     |     | *   |     |     | *   |     |     | *   | ... |     |     |     | *   | *   |     | *   | *   |     | *   |\n",
       "| 21  ( 1 ) |     |     |     | *   |     |     | *   |     |     | *   | ... |     |     |     | *   | *   |     | *   | *   |     | *   |\n",
       "| 22  ( 1 ) |     |     |     | *   |     |     | *   |     |     | *   | ... |     |     |     | *   | *   |     | *   | *   |     | *   |\n",
       "| 23  ( 1 ) |     |     |     | *   |     |     | *   |     |     | *   | ... |     |     | *   | *   | *   |     | *   | *   |     | *   |\n",
       "| 24  ( 1 ) |     |     |     | *   |     |     | *   |     |     | *   | ... |     |     | *   | *   | *   |     | *   | *   |     | *   |\n",
       "| 25  ( 1 ) |     |     |     | *   |     |     | *   |     |     | *   | ... |     |     | *   | *   | *   |     | *   | *   |     | *   |\n",
       "| 26  ( 1 ) |     |     |     | *   |     |     | *   |     |     | *   | ... |     |     | *   | *   | *   |     | *   | *   |     | *   |\n",
       "| 27  ( 1 ) |     |     |     | *   |     |     | *   |     |     | *   | ... |     |     | *   | *   | *   | *   | *   | *   |     | *   |\n",
       "| 28  ( 1 ) |     |     |     | *   |     |     | *   |     |     | *   | ... |     |     | *   | *   | *   | *   | *   | *   |     | *   |\n",
       "| 29  ( 1 ) |     |     |     | *   |     |     | *   |     |     | *   | ... |     |     | *   | *   | *   | *   | *   | *   |     | *   |\n",
       "| 30  ( 1 ) |     |     |     | *   |     |     | *   |     |     | *   | ... |     |     | *   | *   | *   | *   | *   | *   |     | *   |\n",
       "| ... | ... | ... | ... | ... | ... | ... | ... | ... | ... | ... |     | ... | ... | ... | ... | ... | ... | ... | ... | ... | ... |\n",
       "| 56  ( 1 ) |     | *   |     | *   |     | *   | *   | *   |     | *   | ... | *   | *   | *   | *   | *   | *   | *   | *   | *   | *   |\n",
       "| 57  ( 1 ) |     | *   |     | *   |     | *   | *   | *   |     | *   | ... | *   | *   | *   | *   | *   | *   | *   | *   | *   | *   |\n",
       "| 58  ( 1 ) |     | *   |     | *   |     | *   | *   | *   |     | *   | ... | *   | *   | *   | *   | *   | *   | *   | *   | *   | *   |\n",
       "| 59  ( 1 ) |     | *   |     | *   |     | *   | *   | *   |     | *   | ... | *   | *   | *   | *   | *   | *   | *   | *   | *   | *   |\n",
       "| 60  ( 1 ) |     | *   |     | *   |     | *   | *   | *   |     | *   | ... | *   | *   | *   | *   | *   | *   | *   | *   | *   | *   |\n",
       "| 61  ( 1 ) |     | *   |     | *   |     | *   | *   | *   | *   | *   | ... | *   | *   | *   | *   | *   | *   | *   | *   | *   | *   |\n",
       "| 62  ( 1 ) |     | *   |     | *   |     | *   | *   | *   | *   | *   | ... | *   | *   | *   | *   | *   | *   | *   | *   | *   | *   |\n",
       "| 63  ( 1 ) |     | *   |     | *   |     | *   | *   | *   | *   | *   | ... | *   | *   | *   | *   | *   | *   | *   | *   | *   | *   |\n",
       "| 64  ( 1 ) |     | *   |     | *   |     | *   | *   | *   | *   | *   | ... | *   | *   | *   | *   | *   | *   | *   | *   | *   | *   |\n",
       "| 65  ( 1 ) |     | *   |     | *   |     | *   | *   | *   | *   | *   | ... | *   | *   | *   | *   | *   | *   | *   | *   | *   | *   |\n",
       "| 66  ( 1 ) |     | *   |     | *   |     | *   | *   | *   | *   | *   | ... | *   | *   | *   | *   | *   | *   | *   | *   | *   | *   |\n",
       "| 67  ( 1 ) |     | *   |     | *   |     | *   | *   | *   | *   | *   | ... | *   | *   | *   | *   | *   | *   | *   | *   | *   | *   |\n",
       "| 68  ( 1 ) |     | *   |     | *   |     | *   | *   | *   | *   | *   | ... | *   | *   | *   | *   | *   | *   | *   | *   | *   | *   |\n",
       "| 69  ( 1 ) |     | *   |     | *   |     | *   | *   | *   | *   | *   | ... | *   | *   | *   | *   | *   | *   | *   | *   | *   | *   |\n",
       "| 70  ( 1 ) |     | *   |     | *   |     | *   | *   | *   | *   | *   | ... | *   | *   | *   | *   | *   | *   | *   | *   | *   | *   |\n",
       "| 71  ( 1 ) | *   | *   |     | *   |     | *   | *   | *   | *   | *   | ... | *   | *   | *   | *   | *   | *   | *   | *   | *   | *   |\n",
       "| 72  ( 1 ) | *   | *   |     | *   | *   | *   | *   | *   | *   | *   | ... | *   | *   | *   | *   | *   | *   | *   | *   | *   | *   |\n",
       "| 73  ( 1 ) | *   | *   |     | *   | *   | *   | *   | *   | *   | *   | ... | *   | *   | *   | *   | *   | *   | *   | *   | *   | *   |\n",
       "| 74  ( 1 ) | *   | *   | *   | *   | *   | *   | *   | *   | *   | *   | ... | *   | *   | *   | *   | *   | *   | *   | *   | *   | *   |\n",
       "| 75  ( 1 ) | *   | *   | *   | *   | *   | *   | *   | *   | *   | *   | ... | *   | *   | *   | *   | *   | *   | *   | *   | *   | *   |\n",
       "| 76  ( 1 ) | *   | *   | *   | *   | *   | *   | *   | *   | *   | *   | ... | *   | *   | *   | *   | *   | *   | *   | *   | *   | *   |\n",
       "| 77  ( 1 ) | *   | *   | *   | *   | *   | *   | *   | *   | *   | *   | ... | *   | *   | *   | *   | *   | *   | *   | *   | *   | *   |\n",
       "| 78  ( 1 ) | *   | *   | *   | *   | *   | *   | *   | *   | *   | *   | ... | *   | *   | *   | *   | *   | *   | *   | *   | *   | *   |\n",
       "| 79  ( 1 ) | *   | *   | *   | *   | *   | *   | *   | *   | *   | *   | ... | *   | *   | *   | *   | *   | *   | *   | *   | *   | *   |\n",
       "| 80  ( 1 ) | *   | *   | *   | *   | *   | *   | *   | *   | *   | *   | ... | *   | *   | *   | *   | *   | *   | *   | *   | *   | *   |\n",
       "| 81  ( 1 ) | *   | *   | *   | *   | *   | *   | *   | *   | *   | *   | ... | *   | *   | *   | *   | *   | *   | *   | *   | *   | *   |\n",
       "| 82  ( 1 ) | *   | *   | *   | *   | *   | *   | *   | *   | *   | *   | ... | *   | *   | *   | *   | *   | *   | *   | *   | *   | *   |\n",
       "| 83  ( 1 ) | *   | *   | *   | *   | *   | *   | *   | *   | *   | *   | ... | *   | *   | *   | *   | *   | *   | *   | *   | *   | *   |\n",
       "| 84  ( 1 ) | *   | *   | *   | *   | *   | *   | *   | *   | *   | *   | ... | *   | *   | *   | *   | *   | *   | *   | *   | *   | *   |\n",
       "| 85  ( 1 ) | *   | *   | *   | *   | *   | *   | *   | *   | *   | *   | ... | *   | *   | *   | *   | *   | *   | *   | *   | *   | *   |\n",
       "\n"
      ],
      "text/plain": [
       "          MOSTYPE MAANTHUI MGEMOMV MGEMLEEF MOSHOOFD MGODRK MGODPR MGODOV\n",
       "1  ( 1 )                                                                 \n",
       "2  ( 1 )                                                                 \n",
       "3  ( 1 )                                                                 \n",
       "4  ( 1 )                                                                 \n",
       "5  ( 1 )                                                                 \n",
       "6  ( 1 )                                                                 \n",
       "7  ( 1 )                                                                 \n",
       "8  ( 1 )                                                                 \n",
       "9  ( 1 )                                                                 \n",
       "10  ( 1 )                                                                \n",
       "11  ( 1 )                                                                \n",
       "12  ( 1 )                                                                \n",
       "13  ( 1 )                          *                                     \n",
       "14  ( 1 )                          *                                     \n",
       "15  ( 1 )                          *                                     \n",
       "16  ( 1 )                          *                                     \n",
       "17  ( 1 )                          *                                     \n",
       "18  ( 1 )                          *                                     \n",
       "19  ( 1 )                          *                        *            \n",
       "20  ( 1 )                          *                        *            \n",
       "21  ( 1 )                          *                        *            \n",
       "22  ( 1 )                          *                        *            \n",
       "23  ( 1 )                          *                        *            \n",
       "24  ( 1 )                          *                        *            \n",
       "25  ( 1 )                          *                        *            \n",
       "26  ( 1 )                          *                        *            \n",
       "27  ( 1 )                          *                        *            \n",
       "28  ( 1 )                          *                        *            \n",
       "29  ( 1 )                          *                        *            \n",
       "30  ( 1 )                          *                        *            \n",
       "...       ...     ...      ...     ...      ...      ...    ...    ...   \n",
       "56  ( 1 )         *                *                 *      *      *     \n",
       "57  ( 1 )         *                *                 *      *      *     \n",
       "58  ( 1 )         *                *                 *      *      *     \n",
       "59  ( 1 )         *                *                 *      *      *     \n",
       "60  ( 1 )         *                *                 *      *      *     \n",
       "61  ( 1 )         *                *                 *      *      *     \n",
       "62  ( 1 )         *                *                 *      *      *     \n",
       "63  ( 1 )         *                *                 *      *      *     \n",
       "64  ( 1 )         *                *                 *      *      *     \n",
       "65  ( 1 )         *                *                 *      *      *     \n",
       "66  ( 1 )         *                *                 *      *      *     \n",
       "67  ( 1 )         *                *                 *      *      *     \n",
       "68  ( 1 )         *                *                 *      *      *     \n",
       "69  ( 1 )         *                *                 *      *      *     \n",
       "70  ( 1 )         *                *                 *      *      *     \n",
       "71  ( 1 ) *       *                *                 *      *      *     \n",
       "72  ( 1 ) *       *                *        *        *      *      *     \n",
       "73  ( 1 ) *       *                *        *        *      *      *     \n",
       "74  ( 1 ) *       *        *       *        *        *      *      *     \n",
       "75  ( 1 ) *       *        *       *        *        *      *      *     \n",
       "76  ( 1 ) *       *        *       *        *        *      *      *     \n",
       "77  ( 1 ) *       *        *       *        *        *      *      *     \n",
       "78  ( 1 ) *       *        *       *        *        *      *      *     \n",
       "79  ( 1 ) *       *        *       *        *        *      *      *     \n",
       "80  ( 1 ) *       *        *       *        *        *      *      *     \n",
       "81  ( 1 ) *       *        *       *        *        *      *      *     \n",
       "82  ( 1 ) *       *        *       *        *        *      *      *     \n",
       "83  ( 1 ) *       *        *       *        *        *      *      *     \n",
       "84  ( 1 ) *       *        *       *        *        *      *      *     \n",
       "85  ( 1 ) *       *        *       *        *        *      *      *     \n",
       "          MGODGE MRELGE ... ALEVEN APERSONG AGEZONG AWAOREG ABRAND AZEILPL\n",
       "1  ( 1 )                ...                                               \n",
       "2  ( 1 )                ...                                               \n",
       "3  ( 1 )                ...                                               \n",
       "4  ( 1 )                ...                                               \n",
       "5  ( 1 )                ...                                               \n",
       "6  ( 1 )         *      ...                                               \n",
       "7  ( 1 )         *      ...                                               \n",
       "8  ( 1 )         *      ...                                               \n",
       "9  ( 1 )         *      ...                                               \n",
       "10  ( 1 )        *      ...                                               \n",
       "11  ( 1 )        *      ...                                               \n",
       "12  ( 1 )        *      ...                                               \n",
       "13  ( 1 )        *      ...                                               \n",
       "14  ( 1 )        *      ...                                               \n",
       "15  ( 1 )        *      ...                                               \n",
       "16  ( 1 )        *      ...                                 *             \n",
       "17  ( 1 )        *      ...                         *       *             \n",
       "18  ( 1 )        *      ...                         *       *             \n",
       "19  ( 1 )        *      ...                         *       *             \n",
       "20  ( 1 )        *      ...                         *       *             \n",
       "21  ( 1 )        *      ...                         *       *             \n",
       "22  ( 1 )        *      ...                         *       *             \n",
       "23  ( 1 )        *      ...                 *       *       *             \n",
       "24  ( 1 )        *      ...                 *       *       *             \n",
       "25  ( 1 )        *      ...                 *       *       *             \n",
       "26  ( 1 )        *      ...                 *       *       *             \n",
       "27  ( 1 )        *      ...                 *       *       *      *      \n",
       "28  ( 1 )        *      ...                 *       *       *      *      \n",
       "29  ( 1 )        *      ...                 *       *       *      *      \n",
       "30  ( 1 )        *      ...                 *       *       *      *      \n",
       "...       ...    ...        ...    ...      ...     ...     ...    ...    \n",
       "56  ( 1 )        *      ... *      *        *       *       *      *      \n",
       "57  ( 1 )        *      ... *      *        *       *       *      *      \n",
       "58  ( 1 )        *      ... *      *        *       *       *      *      \n",
       "59  ( 1 )        *      ... *      *        *       *       *      *      \n",
       "60  ( 1 )        *      ... *      *        *       *       *      *      \n",
       "61  ( 1 ) *      *      ... *      *        *       *       *      *      \n",
       "62  ( 1 ) *      *      ... *      *        *       *       *      *      \n",
       "63  ( 1 ) *      *      ... *      *        *       *       *      *      \n",
       "64  ( 1 ) *      *      ... *      *        *       *       *      *      \n",
       "65  ( 1 ) *      *      ... *      *        *       *       *      *      \n",
       "66  ( 1 ) *      *      ... *      *        *       *       *      *      \n",
       "67  ( 1 ) *      *      ... *      *        *       *       *      *      \n",
       "68  ( 1 ) *      *      ... *      *        *       *       *      *      \n",
       "69  ( 1 ) *      *      ... *      *        *       *       *      *      \n",
       "70  ( 1 ) *      *      ... *      *        *       *       *      *      \n",
       "71  ( 1 ) *      *      ... *      *        *       *       *      *      \n",
       "72  ( 1 ) *      *      ... *      *        *       *       *      *      \n",
       "73  ( 1 ) *      *      ... *      *        *       *       *      *      \n",
       "74  ( 1 ) *      *      ... *      *        *       *       *      *      \n",
       "75  ( 1 ) *      *      ... *      *        *       *       *      *      \n",
       "76  ( 1 ) *      *      ... *      *        *       *       *      *      \n",
       "77  ( 1 ) *      *      ... *      *        *       *       *      *      \n",
       "78  ( 1 ) *      *      ... *      *        *       *       *      *      \n",
       "79  ( 1 ) *      *      ... *      *        *       *       *      *      \n",
       "80  ( 1 ) *      *      ... *      *        *       *       *      *      \n",
       "81  ( 1 ) *      *      ... *      *        *       *       *      *      \n",
       "82  ( 1 ) *      *      ... *      *        *       *       *      *      \n",
       "83  ( 1 ) *      *      ... *      *        *       *       *      *      \n",
       "84  ( 1 ) *      *      ... *      *        *       *       *      *      \n",
       "85  ( 1 ) *      *      ... *      *        *       *       *      *      \n",
       "          APLEZIER AFIETS AINBOED ABYSTAND\n",
       "1  ( 1 )                                  \n",
       "2  ( 1 )  *                               \n",
       "3  ( 1 )  *                               \n",
       "4  ( 1 )  *                               \n",
       "5  ( 1 )  *                               \n",
       "6  ( 1 )  *                               \n",
       "7  ( 1 )  *                               \n",
       "8  ( 1 )  *                       *       \n",
       "9  ( 1 )  *                       *       \n",
       "10  ( 1 ) *        *              *       \n",
       "11  ( 1 ) *        *              *       \n",
       "12  ( 1 ) *        *              *       \n",
       "13  ( 1 ) *        *              *       \n",
       "14  ( 1 ) *        *              *       \n",
       "15  ( 1 ) *        *              *       \n",
       "16  ( 1 ) *        *              *       \n",
       "17  ( 1 ) *        *              *       \n",
       "18  ( 1 ) *        *              *       \n",
       "19  ( 1 ) *        *              *       \n",
       "20  ( 1 ) *        *              *       \n",
       "21  ( 1 ) *        *              *       \n",
       "22  ( 1 ) *        *              *       \n",
       "23  ( 1 ) *        *              *       \n",
       "24  ( 1 ) *        *              *       \n",
       "25  ( 1 ) *        *              *       \n",
       "26  ( 1 ) *        *              *       \n",
       "27  ( 1 ) *        *              *       \n",
       "28  ( 1 ) *        *              *       \n",
       "29  ( 1 ) *        *              *       \n",
       "30  ( 1 ) *        *              *       \n",
       "...       ...      ...    ...     ...     \n",
       "56  ( 1 ) *        *      *       *       \n",
       "57  ( 1 ) *        *      *       *       \n",
       "58  ( 1 ) *        *      *       *       \n",
       "59  ( 1 ) *        *      *       *       \n",
       "60  ( 1 ) *        *      *       *       \n",
       "61  ( 1 ) *        *      *       *       \n",
       "62  ( 1 ) *        *      *       *       \n",
       "63  ( 1 ) *        *      *       *       \n",
       "64  ( 1 ) *        *      *       *       \n",
       "65  ( 1 ) *        *      *       *       \n",
       "66  ( 1 ) *        *      *       *       \n",
       "67  ( 1 ) *        *      *       *       \n",
       "68  ( 1 ) *        *      *       *       \n",
       "69  ( 1 ) *        *      *       *       \n",
       "70  ( 1 ) *        *      *       *       \n",
       "71  ( 1 ) *        *      *       *       \n",
       "72  ( 1 ) *        *      *       *       \n",
       "73  ( 1 ) *        *      *       *       \n",
       "74  ( 1 ) *        *      *       *       \n",
       "75  ( 1 ) *        *      *       *       \n",
       "76  ( 1 ) *        *      *       *       \n",
       "77  ( 1 ) *        *      *       *       \n",
       "78  ( 1 ) *        *      *       *       \n",
       "79  ( 1 ) *        *      *       *       \n",
       "80  ( 1 ) *        *      *       *       \n",
       "81  ( 1 ) *        *      *       *       \n",
       "82  ( 1 ) *        *      *       *       \n",
       "83  ( 1 ) *        *      *       *       \n",
       "84  ( 1 ) *        *      *       *       \n",
       "85  ( 1 ) *        *      *       *       "
      ]
     },
     "metadata": {},
     "output_type": "display_data"
    }
   ],
   "source": [
    "my_sum_fwd$outmat"
   ]
  },
  {
   "cell_type": "code",
   "execution_count": 30,
   "id": "8621e60d",
   "metadata": {},
   "outputs": [
    {
     "data": {
      "text/html": [
       "<table>\n",
       "<thead><tr><th></th><th scope=col>MOSTYPE</th><th scope=col>MAANTHUI</th><th scope=col>MGEMOMV</th><th scope=col>MGEMLEEF</th><th scope=col>MOSHOOFD</th><th scope=col>MGODRK</th><th scope=col>MGODPR</th><th scope=col>MGODOV</th><th scope=col>MGODGE</th><th scope=col>MRELGE</th><th scope=col>...</th><th scope=col>ALEVEN</th><th scope=col>APERSONG</th><th scope=col>AGEZONG</th><th scope=col>AWAOREG</th><th scope=col>ABRAND</th><th scope=col>AZEILPL</th><th scope=col>APLEZIER</th><th scope=col>AFIETS</th><th scope=col>AINBOED</th><th scope=col>ABYSTAND</th></tr></thead>\n",
       "<tbody>\n",
       "\t<tr><th scope=row>1  ( 1 )</th><td>   </td><td>   </td><td>   </td><td>   </td><td>   </td><td>   </td><td>   </td><td>   </td><td>   </td><td>   </td><td>...</td><td>   </td><td>   </td><td>   </td><td>   </td><td>   </td><td>   </td><td>   </td><td>   </td><td>   </td><td>   </td></tr>\n",
       "\t<tr><th scope=row>2  ( 1 )</th><td>   </td><td>   </td><td>   </td><td>   </td><td>   </td><td>   </td><td>   </td><td>   </td><td>   </td><td>   </td><td>...</td><td>   </td><td>   </td><td>   </td><td>   </td><td>   </td><td>   </td><td>*  </td><td>   </td><td>   </td><td>   </td></tr>\n",
       "\t<tr><th scope=row>3  ( 1 )</th><td>   </td><td>   </td><td>   </td><td>   </td><td>   </td><td>   </td><td>   </td><td>   </td><td>   </td><td>   </td><td>...</td><td>   </td><td>   </td><td>   </td><td>   </td><td>   </td><td>   </td><td>*  </td><td>   </td><td>   </td><td>   </td></tr>\n",
       "\t<tr><th scope=row>4  ( 1 )</th><td>   </td><td>   </td><td>   </td><td>   </td><td>   </td><td>   </td><td>   </td><td>   </td><td>   </td><td>   </td><td>...</td><td>   </td><td>   </td><td>   </td><td>   </td><td>   </td><td>   </td><td>*  </td><td>   </td><td>   </td><td>   </td></tr>\n",
       "\t<tr><th scope=row>5  ( 1 )</th><td>   </td><td>   </td><td>   </td><td>   </td><td>   </td><td>   </td><td>   </td><td>   </td><td>   </td><td>*  </td><td>...</td><td>   </td><td>   </td><td>   </td><td>   </td><td>   </td><td>   </td><td>*  </td><td>   </td><td>   </td><td>   </td></tr>\n",
       "\t<tr><th scope=row>6  ( 1 )</th><td>   </td><td>   </td><td>   </td><td>   </td><td>   </td><td>   </td><td>   </td><td>   </td><td>   </td><td>*  </td><td>...</td><td>   </td><td>   </td><td>   </td><td>   </td><td>   </td><td>   </td><td>*  </td><td>   </td><td>   </td><td>   </td></tr>\n",
       "\t<tr><th scope=row>7  ( 1 )</th><td>   </td><td>   </td><td>   </td><td>   </td><td>   </td><td>   </td><td>   </td><td>   </td><td>   </td><td>*  </td><td>...</td><td>   </td><td>   </td><td>   </td><td>   </td><td>   </td><td>   </td><td>*  </td><td>   </td><td>   </td><td>*  </td></tr>\n",
       "\t<tr><th scope=row>8  ( 1 )</th><td>   </td><td>   </td><td>   </td><td>   </td><td>   </td><td>   </td><td>   </td><td>   </td><td>   </td><td>*  </td><td>...</td><td>   </td><td>   </td><td>   </td><td>   </td><td>   </td><td>   </td><td>*  </td><td>   </td><td>   </td><td>*  </td></tr>\n",
       "\t<tr><th scope=row>9  ( 1 )</th><td>   </td><td>   </td><td>   </td><td>   </td><td>   </td><td>   </td><td>   </td><td>   </td><td>   </td><td>*  </td><td>...</td><td>   </td><td>   </td><td>   </td><td>   </td><td>   </td><td>   </td><td>*  </td><td>*  </td><td>   </td><td>*  </td></tr>\n",
       "\t<tr><th scope=row>10  ( 1 )</th><td>   </td><td>   </td><td>   </td><td>   </td><td>   </td><td>   </td><td>   </td><td>   </td><td>   </td><td>*  </td><td>...</td><td>*  </td><td>   </td><td>   </td><td>   </td><td>   </td><td>   </td><td>*  </td><td>*  </td><td>   </td><td>*  </td></tr>\n",
       "\t<tr><th scope=row>11  ( 1 )</th><td>   </td><td>   </td><td>   </td><td>   </td><td>   </td><td>   </td><td>   </td><td>   </td><td>   </td><td>*  </td><td>...</td><td>*  </td><td>   </td><td>   </td><td>   </td><td>   </td><td>   </td><td>*  </td><td>*  </td><td>   </td><td>*  </td></tr>\n",
       "\t<tr><th scope=row>12  ( 1 )</th><td>   </td><td>   </td><td>   </td><td>   </td><td>   </td><td>   </td><td>   </td><td>   </td><td>   </td><td>*  </td><td>...</td><td>*  </td><td>   </td><td>   </td><td>   </td><td>   </td><td>   </td><td>*  </td><td>*  </td><td>   </td><td>*  </td></tr>\n",
       "\t<tr><th scope=row>13  ( 1 )</th><td>   </td><td>   </td><td>   </td><td>   </td><td>   </td><td>   </td><td>   </td><td>   </td><td>   </td><td>*  </td><td>...</td><td>*  </td><td>   </td><td>   </td><td>   </td><td>   </td><td>   </td><td>*  </td><td>*  </td><td>   </td><td>*  </td></tr>\n",
       "\t<tr><th scope=row>14  ( 1 )</th><td>   </td><td>   </td><td>   </td><td>   </td><td>   </td><td>   </td><td>   </td><td>   </td><td>   </td><td>*  </td><td>...</td><td>*  </td><td>   </td><td>   </td><td>   </td><td>   </td><td>   </td><td>*  </td><td>*  </td><td>   </td><td>*  </td></tr>\n",
       "\t<tr><th scope=row>15  ( 1 )</th><td>   </td><td>   </td><td>   </td><td>   </td><td>   </td><td>   </td><td>   </td><td>   </td><td>   </td><td>*  </td><td>...</td><td>*  </td><td>   </td><td>   </td><td>   </td><td>   </td><td>   </td><td>*  </td><td>*  </td><td>   </td><td>*  </td></tr>\n",
       "\t<tr><th scope=row>16  ( 1 )</th><td>   </td><td>   </td><td>   </td><td>*  </td><td>   </td><td>   </td><td>   </td><td>   </td><td>   </td><td>*  </td><td>...</td><td>*  </td><td>   </td><td>   </td><td>   </td><td>   </td><td>   </td><td>*  </td><td>*  </td><td>   </td><td>*  </td></tr>\n",
       "\t<tr><th scope=row>17  ( 1 )</th><td>   </td><td>   </td><td>   </td><td>*  </td><td>   </td><td>   </td><td>   </td><td>   </td><td>   </td><td>*  </td><td>...</td><td>*  </td><td>   </td><td>   </td><td>   </td><td>   </td><td>   </td><td>*  </td><td>*  </td><td>   </td><td>*  </td></tr>\n",
       "\t<tr><th scope=row>18  ( 1 )</th><td>   </td><td>   </td><td>   </td><td>*  </td><td>   </td><td>   </td><td>   </td><td>   </td><td>   </td><td>*  </td><td>...</td><td>*  </td><td>   </td><td>*  </td><td>   </td><td>   </td><td>   </td><td>*  </td><td>*  </td><td>   </td><td>*  </td></tr>\n",
       "\t<tr><th scope=row>19  ( 1 )</th><td>   </td><td>   </td><td>   </td><td>*  </td><td>   </td><td>   </td><td>   </td><td>   </td><td>   </td><td>*  </td><td>...</td><td>*  </td><td>   </td><td>*  </td><td>   </td><td>   </td><td>   </td><td>*  </td><td>*  </td><td>   </td><td>*  </td></tr>\n",
       "\t<tr><th scope=row>20  ( 1 )</th><td>   </td><td>   </td><td>   </td><td>*  </td><td>   </td><td>   </td><td>   </td><td>   </td><td>   </td><td>*  </td><td>...</td><td>*  </td><td>   </td><td>*  </td><td>   </td><td>*  </td><td>   </td><td>*  </td><td>*  </td><td>   </td><td>*  </td></tr>\n",
       "\t<tr><th scope=row>21  ( 1 )</th><td>   </td><td>   </td><td>   </td><td>*  </td><td>   </td><td>   </td><td>   </td><td>   </td><td>   </td><td>*  </td><td>...</td><td>*  </td><td>   </td><td>*  </td><td>   </td><td>*  </td><td>   </td><td>*  </td><td>*  </td><td>   </td><td>*  </td></tr>\n",
       "\t<tr><th scope=row>22  ( 1 )</th><td>   </td><td>   </td><td>   </td><td>*  </td><td>   </td><td>   </td><td>   </td><td>   </td><td>   </td><td>*  </td><td>...</td><td>*  </td><td>   </td><td>*  </td><td>   </td><td>*  </td><td>   </td><td>*  </td><td>*  </td><td>*  </td><td>*  </td></tr>\n",
       "\t<tr><th scope=row>23  ( 1 )</th><td>   </td><td>   </td><td>   </td><td>*  </td><td>   </td><td>   </td><td>   </td><td>   </td><td>   </td><td>*  </td><td>...</td><td>*  </td><td>   </td><td>*  </td><td>   </td><td>*  </td><td>   </td><td>*  </td><td>*  </td><td>*  </td><td>*  </td></tr>\n",
       "\t<tr><th scope=row>24  ( 1 )</th><td>   </td><td>   </td><td>   </td><td>*  </td><td>   </td><td>   </td><td>   </td><td>   </td><td>   </td><td>*  </td><td>...</td><td>*  </td><td>   </td><td>*  </td><td>*  </td><td>*  </td><td>   </td><td>*  </td><td>*  </td><td>*  </td><td>*  </td></tr>\n",
       "\t<tr><th scope=row>25  ( 1 )</th><td>   </td><td>   </td><td>   </td><td>*  </td><td>   </td><td>   </td><td>   </td><td>   </td><td>   </td><td>*  </td><td>...</td><td>*  </td><td>   </td><td>*  </td><td>*  </td><td>*  </td><td>   </td><td>*  </td><td>*  </td><td>*  </td><td>*  </td></tr>\n",
       "\t<tr><th scope=row>26  ( 1 )</th><td>   </td><td>   </td><td>   </td><td>*  </td><td>   </td><td>   </td><td>   </td><td>   </td><td>   </td><td>*  </td><td>...</td><td>*  </td><td>   </td><td>*  </td><td>*  </td><td>*  </td><td>   </td><td>*  </td><td>*  </td><td>*  </td><td>*  </td></tr>\n",
       "\t<tr><th scope=row>27  ( 1 )</th><td>   </td><td>   </td><td>   </td><td>*  </td><td>   </td><td>   </td><td>   </td><td>   </td><td>   </td><td>*  </td><td>...</td><td>*  </td><td>   </td><td>*  </td><td>*  </td><td>*  </td><td>   </td><td>*  </td><td>*  </td><td>*  </td><td>*  </td></tr>\n",
       "\t<tr><th scope=row>28  ( 1 )</th><td>   </td><td>   </td><td>   </td><td>*  </td><td>   </td><td>   </td><td>   </td><td>   </td><td>   </td><td>*  </td><td>...</td><td>*  </td><td>   </td><td>*  </td><td>*  </td><td>*  </td><td>   </td><td>*  </td><td>*  </td><td>*  </td><td>*  </td></tr>\n",
       "\t<tr><th scope=row>29  ( 1 )</th><td>   </td><td>   </td><td>   </td><td>*  </td><td>   </td><td>*  </td><td>   </td><td>   </td><td>   </td><td>*  </td><td>...</td><td>*  </td><td>   </td><td>*  </td><td>*  </td><td>*  </td><td>   </td><td>*  </td><td>*  </td><td>*  </td><td>*  </td></tr>\n",
       "\t<tr><th scope=row>30  ( 1 )</th><td>   </td><td>   </td><td>   </td><td>*  </td><td>   </td><td>*  </td><td>   </td><td>   </td><td>   </td><td>*  </td><td>...</td><td>*  </td><td>   </td><td>*  </td><td>*  </td><td>*  </td><td>   </td><td>*  </td><td>*  </td><td>*  </td><td>*  </td></tr>\n",
       "\t<tr><th scope=row>...</th><td>...</td><td>...</td><td>...</td><td>...</td><td>...</td><td>...</td><td>...</td><td>...</td><td>...</td><td>...</td><td>   </td><td>...</td><td>...</td><td>...</td><td>...</td><td>...</td><td>...</td><td>...</td><td>...</td><td>...</td><td>...</td></tr>\n",
       "\t<tr><th scope=row>56  ( 1 )</th><td>*  </td><td>*  </td><td>   </td><td>*  </td><td>*  </td><td>*  </td><td>   </td><td>   </td><td>*  </td><td>*  </td><td>...</td><td>*  </td><td>   </td><td>*  </td><td>*  </td><td>*  </td><td>*  </td><td>*  </td><td>*  </td><td>*  </td><td>*  </td></tr>\n",
       "\t<tr><th scope=row>57  ( 1 )</th><td>*  </td><td>*  </td><td>   </td><td>*  </td><td>*  </td><td>*  </td><td>   </td><td>   </td><td>*  </td><td>*  </td><td>...</td><td>*  </td><td>   </td><td>*  </td><td>*  </td><td>*  </td><td>*  </td><td>*  </td><td>*  </td><td>*  </td><td>*  </td></tr>\n",
       "\t<tr><th scope=row>58  ( 1 )</th><td>*  </td><td>*  </td><td>   </td><td>*  </td><td>*  </td><td>*  </td><td>   </td><td>   </td><td>*  </td><td>*  </td><td>...</td><td>*  </td><td>   </td><td>*  </td><td>*  </td><td>*  </td><td>*  </td><td>*  </td><td>*  </td><td>*  </td><td>*  </td></tr>\n",
       "\t<tr><th scope=row>59  ( 1 )</th><td>*  </td><td>*  </td><td>   </td><td>*  </td><td>*  </td><td>*  </td><td>   </td><td>   </td><td>*  </td><td>*  </td><td>...</td><td>*  </td><td>   </td><td>*  </td><td>*  </td><td>*  </td><td>*  </td><td>*  </td><td>*  </td><td>*  </td><td>*  </td></tr>\n",
       "\t<tr><th scope=row>60  ( 1 )</th><td>*  </td><td>*  </td><td>   </td><td>*  </td><td>*  </td><td>*  </td><td>   </td><td>   </td><td>*  </td><td>*  </td><td>...</td><td>*  </td><td>   </td><td>*  </td><td>*  </td><td>*  </td><td>*  </td><td>*  </td><td>*  </td><td>*  </td><td>*  </td></tr>\n",
       "\t<tr><th scope=row>61  ( 1 )</th><td>*  </td><td>*  </td><td>   </td><td>*  </td><td>*  </td><td>*  </td><td>   </td><td>   </td><td>*  </td><td>*  </td><td>...</td><td>*  </td><td>   </td><td>*  </td><td>*  </td><td>*  </td><td>*  </td><td>*  </td><td>*  </td><td>*  </td><td>*  </td></tr>\n",
       "\t<tr><th scope=row>62  ( 1 )</th><td>*  </td><td>*  </td><td>   </td><td>*  </td><td>*  </td><td>*  </td><td>   </td><td>   </td><td>*  </td><td>*  </td><td>...</td><td>*  </td><td>   </td><td>*  </td><td>*  </td><td>*  </td><td>*  </td><td>*  </td><td>*  </td><td>*  </td><td>*  </td></tr>\n",
       "\t<tr><th scope=row>63  ( 1 )</th><td>*  </td><td>*  </td><td>   </td><td>*  </td><td>*  </td><td>*  </td><td>   </td><td>   </td><td>*  </td><td>*  </td><td>...</td><td>*  </td><td>   </td><td>*  </td><td>*  </td><td>*  </td><td>*  </td><td>*  </td><td>*  </td><td>*  </td><td>*  </td></tr>\n",
       "\t<tr><th scope=row>64  ( 1 )</th><td>*  </td><td>*  </td><td>   </td><td>*  </td><td>*  </td><td>*  </td><td>   </td><td>   </td><td>*  </td><td>*  </td><td>...</td><td>*  </td><td>*  </td><td>*  </td><td>*  </td><td>*  </td><td>*  </td><td>*  </td><td>*  </td><td>*  </td><td>*  </td></tr>\n",
       "\t<tr><th scope=row>65  ( 1 )</th><td>*  </td><td>*  </td><td>   </td><td>*  </td><td>*  </td><td>*  </td><td>   </td><td>   </td><td>*  </td><td>*  </td><td>...</td><td>*  </td><td>*  </td><td>*  </td><td>*  </td><td>*  </td><td>*  </td><td>*  </td><td>*  </td><td>*  </td><td>*  </td></tr>\n",
       "\t<tr><th scope=row>66  ( 1 )</th><td>*  </td><td>*  </td><td>   </td><td>*  </td><td>*  </td><td>*  </td><td>   </td><td>   </td><td>*  </td><td>*  </td><td>...</td><td>*  </td><td>*  </td><td>*  </td><td>*  </td><td>*  </td><td>*  </td><td>*  </td><td>*  </td><td>*  </td><td>*  </td></tr>\n",
       "\t<tr><th scope=row>67  ( 1 )</th><td>*  </td><td>*  </td><td>   </td><td>*  </td><td>*  </td><td>*  </td><td>   </td><td>   </td><td>*  </td><td>*  </td><td>...</td><td>*  </td><td>*  </td><td>*  </td><td>*  </td><td>*  </td><td>*  </td><td>*  </td><td>*  </td><td>*  </td><td>*  </td></tr>\n",
       "\t<tr><th scope=row>68  ( 1 )</th><td>*  </td><td>*  </td><td>   </td><td>*  </td><td>*  </td><td>*  </td><td>   </td><td>   </td><td>*  </td><td>*  </td><td>...</td><td>*  </td><td>*  </td><td>*  </td><td>*  </td><td>*  </td><td>*  </td><td>*  </td><td>*  </td><td>*  </td><td>*  </td></tr>\n",
       "\t<tr><th scope=row>69  ( 1 )</th><td>*  </td><td>*  </td><td>   </td><td>*  </td><td>*  </td><td>*  </td><td>   </td><td>   </td><td>*  </td><td>*  </td><td>...</td><td>*  </td><td>*  </td><td>*  </td><td>*  </td><td>*  </td><td>*  </td><td>*  </td><td>*  </td><td>*  </td><td>*  </td></tr>\n",
       "\t<tr><th scope=row>70  ( 1 )</th><td>*  </td><td>*  </td><td>   </td><td>*  </td><td>*  </td><td>*  </td><td>   </td><td>   </td><td>*  </td><td>*  </td><td>...</td><td>*  </td><td>*  </td><td>*  </td><td>*  </td><td>*  </td><td>*  </td><td>*  </td><td>*  </td><td>*  </td><td>*  </td></tr>\n",
       "\t<tr><th scope=row>71  ( 1 )</th><td>*  </td><td>*  </td><td>   </td><td>*  </td><td>*  </td><td>*  </td><td>   </td><td>   </td><td>*  </td><td>*  </td><td>...</td><td>*  </td><td>*  </td><td>*  </td><td>*  </td><td>*  </td><td>*  </td><td>*  </td><td>*  </td><td>*  </td><td>*  </td></tr>\n",
       "\t<tr><th scope=row>72  ( 1 )</th><td>*  </td><td>*  </td><td>   </td><td>*  </td><td>*  </td><td>*  </td><td>   </td><td>   </td><td>*  </td><td>*  </td><td>...</td><td>*  </td><td>*  </td><td>*  </td><td>*  </td><td>*  </td><td>*  </td><td>*  </td><td>*  </td><td>*  </td><td>*  </td></tr>\n",
       "\t<tr><th scope=row>73  ( 1 )</th><td>*  </td><td>*  </td><td>   </td><td>*  </td><td>*  </td><td>*  </td><td>   </td><td>   </td><td>*  </td><td>*  </td><td>...</td><td>*  </td><td>*  </td><td>*  </td><td>*  </td><td>*  </td><td>*  </td><td>*  </td><td>*  </td><td>*  </td><td>*  </td></tr>\n",
       "\t<tr><th scope=row>74  ( 1 )</th><td>*  </td><td>*  </td><td>   </td><td>*  </td><td>*  </td><td>*  </td><td>   </td><td>   </td><td>*  </td><td>*  </td><td>...</td><td>*  </td><td>*  </td><td>*  </td><td>*  </td><td>*  </td><td>*  </td><td>*  </td><td>*  </td><td>*  </td><td>*  </td></tr>\n",
       "\t<tr><th scope=row>75  ( 1 )</th><td>*  </td><td>*  </td><td>   </td><td>*  </td><td>*  </td><td>*  </td><td>   </td><td>   </td><td>*  </td><td>*  </td><td>...</td><td>*  </td><td>*  </td><td>*  </td><td>*  </td><td>*  </td><td>*  </td><td>*  </td><td>*  </td><td>*  </td><td>*  </td></tr>\n",
       "\t<tr><th scope=row>76  ( 1 )</th><td>*  </td><td>*  </td><td>   </td><td>*  </td><td>*  </td><td>*  </td><td>   </td><td>   </td><td>*  </td><td>*  </td><td>...</td><td>*  </td><td>*  </td><td>*  </td><td>*  </td><td>*  </td><td>*  </td><td>*  </td><td>*  </td><td>*  </td><td>*  </td></tr>\n",
       "\t<tr><th scope=row>77  ( 1 )</th><td>*  </td><td>*  </td><td>*  </td><td>*  </td><td>*  </td><td>*  </td><td>   </td><td>   </td><td>*  </td><td>*  </td><td>...</td><td>*  </td><td>*  </td><td>*  </td><td>*  </td><td>*  </td><td>*  </td><td>*  </td><td>*  </td><td>*  </td><td>*  </td></tr>\n",
       "\t<tr><th scope=row>78  ( 1 )</th><td>*  </td><td>*  </td><td>*  </td><td>*  </td><td>*  </td><td>*  </td><td>   </td><td>*  </td><td>*  </td><td>*  </td><td>...</td><td>*  </td><td>*  </td><td>*  </td><td>*  </td><td>*  </td><td>*  </td><td>*  </td><td>*  </td><td>*  </td><td>*  </td></tr>\n",
       "\t<tr><th scope=row>79  ( 1 )</th><td>*  </td><td>*  </td><td>*  </td><td>*  </td><td>*  </td><td>*  </td><td>   </td><td>*  </td><td>*  </td><td>*  </td><td>...</td><td>*  </td><td>*  </td><td>*  </td><td>*  </td><td>*  </td><td>*  </td><td>*  </td><td>*  </td><td>*  </td><td>*  </td></tr>\n",
       "\t<tr><th scope=row>80  ( 1 )</th><td>*  </td><td>*  </td><td>*  </td><td>*  </td><td>*  </td><td>*  </td><td>   </td><td>*  </td><td>*  </td><td>*  </td><td>...</td><td>*  </td><td>*  </td><td>*  </td><td>*  </td><td>*  </td><td>*  </td><td>*  </td><td>*  </td><td>*  </td><td>*  </td></tr>\n",
       "\t<tr><th scope=row>81  ( 1 )</th><td>*  </td><td>*  </td><td>*  </td><td>*  </td><td>*  </td><td>*  </td><td>   </td><td>*  </td><td>*  </td><td>*  </td><td>...</td><td>*  </td><td>*  </td><td>*  </td><td>*  </td><td>*  </td><td>*  </td><td>*  </td><td>*  </td><td>*  </td><td>*  </td></tr>\n",
       "\t<tr><th scope=row>82  ( 1 )</th><td>*  </td><td>*  </td><td>*  </td><td>*  </td><td>*  </td><td>*  </td><td>   </td><td>*  </td><td>*  </td><td>*  </td><td>...</td><td>*  </td><td>*  </td><td>*  </td><td>*  </td><td>*  </td><td>*  </td><td>*  </td><td>*  </td><td>*  </td><td>*  </td></tr>\n",
       "\t<tr><th scope=row>83  ( 1 )</th><td>*  </td><td>*  </td><td>*  </td><td>*  </td><td>*  </td><td>*  </td><td>*  </td><td>*  </td><td>*  </td><td>*  </td><td>...</td><td>*  </td><td>*  </td><td>*  </td><td>*  </td><td>*  </td><td>*  </td><td>*  </td><td>*  </td><td>*  </td><td>*  </td></tr>\n",
       "\t<tr><th scope=row>84  ( 1 )</th><td>*  </td><td>*  </td><td>*  </td><td>*  </td><td>*  </td><td>*  </td><td>*  </td><td>*  </td><td>*  </td><td>*  </td><td>...</td><td>*  </td><td>*  </td><td>*  </td><td>*  </td><td>*  </td><td>*  </td><td>*  </td><td>*  </td><td>*  </td><td>*  </td></tr>\n",
       "\t<tr><th scope=row>85  ( 1 )</th><td>*  </td><td>*  </td><td>*  </td><td>*  </td><td>*  </td><td>*  </td><td>*  </td><td>*  </td><td>*  </td><td>*  </td><td>...</td><td>*  </td><td>*  </td><td>*  </td><td>*  </td><td>*  </td><td>*  </td><td>*  </td><td>*  </td><td>*  </td><td>*  </td></tr>\n",
       "</tbody>\n",
       "</table>\n"
      ],
      "text/latex": [
       "\\begin{tabular}{r|lllllllllllllllllllllllllllllllllllllllllllllllllllllllllllllllllllllllllllllllllllll}\n",
       "  & MOSTYPE & MAANTHUI & MGEMOMV & MGEMLEEF & MOSHOOFD & MGODRK & MGODPR & MGODOV & MGODGE & MRELGE & ... & ALEVEN & APERSONG & AGEZONG & AWAOREG & ABRAND & AZEILPL & APLEZIER & AFIETS & AINBOED & ABYSTAND\\\\\n",
       "\\hline\n",
       "\t1  ( 1 ) &     &     &     &     &     &     &     &     &     &     & ... &     &     &     &     &     &     &     &     &     &    \\\\\n",
       "\t2  ( 1 ) &     &     &     &     &     &     &     &     &     &     & ... &     &     &     &     &     &     & *   &     &     &    \\\\\n",
       "\t3  ( 1 ) &     &     &     &     &     &     &     &     &     &     & ... &     &     &     &     &     &     & *   &     &     &    \\\\\n",
       "\t4  ( 1 ) &     &     &     &     &     &     &     &     &     &     & ... &     &     &     &     &     &     & *   &     &     &    \\\\\n",
       "\t5  ( 1 ) &     &     &     &     &     &     &     &     &     & *   & ... &     &     &     &     &     &     & *   &     &     &    \\\\\n",
       "\t6  ( 1 ) &     &     &     &     &     &     &     &     &     & *   & ... &     &     &     &     &     &     & *   &     &     &    \\\\\n",
       "\t7  ( 1 ) &     &     &     &     &     &     &     &     &     & *   & ... &     &     &     &     &     &     & *   &     &     & *  \\\\\n",
       "\t8  ( 1 ) &     &     &     &     &     &     &     &     &     & *   & ... &     &     &     &     &     &     & *   &     &     & *  \\\\\n",
       "\t9  ( 1 ) &     &     &     &     &     &     &     &     &     & *   & ... &     &     &     &     &     &     & *   & *   &     & *  \\\\\n",
       "\t10  ( 1 ) &     &     &     &     &     &     &     &     &     & *   & ... & *   &     &     &     &     &     & *   & *   &     & *  \\\\\n",
       "\t11  ( 1 ) &     &     &     &     &     &     &     &     &     & *   & ... & *   &     &     &     &     &     & *   & *   &     & *  \\\\\n",
       "\t12  ( 1 ) &     &     &     &     &     &     &     &     &     & *   & ... & *   &     &     &     &     &     & *   & *   &     & *  \\\\\n",
       "\t13  ( 1 ) &     &     &     &     &     &     &     &     &     & *   & ... & *   &     &     &     &     &     & *   & *   &     & *  \\\\\n",
       "\t14  ( 1 ) &     &     &     &     &     &     &     &     &     & *   & ... & *   &     &     &     &     &     & *   & *   &     & *  \\\\\n",
       "\t15  ( 1 ) &     &     &     &     &     &     &     &     &     & *   & ... & *   &     &     &     &     &     & *   & *   &     & *  \\\\\n",
       "\t16  ( 1 ) &     &     &     & *   &     &     &     &     &     & *   & ... & *   &     &     &     &     &     & *   & *   &     & *  \\\\\n",
       "\t17  ( 1 ) &     &     &     & *   &     &     &     &     &     & *   & ... & *   &     &     &     &     &     & *   & *   &     & *  \\\\\n",
       "\t18  ( 1 ) &     &     &     & *   &     &     &     &     &     & *   & ... & *   &     & *   &     &     &     & *   & *   &     & *  \\\\\n",
       "\t19  ( 1 ) &     &     &     & *   &     &     &     &     &     & *   & ... & *   &     & *   &     &     &     & *   & *   &     & *  \\\\\n",
       "\t20  ( 1 ) &     &     &     & *   &     &     &     &     &     & *   & ... & *   &     & *   &     & *   &     & *   & *   &     & *  \\\\\n",
       "\t21  ( 1 ) &     &     &     & *   &     &     &     &     &     & *   & ... & *   &     & *   &     & *   &     & *   & *   &     & *  \\\\\n",
       "\t22  ( 1 ) &     &     &     & *   &     &     &     &     &     & *   & ... & *   &     & *   &     & *   &     & *   & *   & *   & *  \\\\\n",
       "\t23  ( 1 ) &     &     &     & *   &     &     &     &     &     & *   & ... & *   &     & *   &     & *   &     & *   & *   & *   & *  \\\\\n",
       "\t24  ( 1 ) &     &     &     & *   &     &     &     &     &     & *   & ... & *   &     & *   & *   & *   &     & *   & *   & *   & *  \\\\\n",
       "\t25  ( 1 ) &     &     &     & *   &     &     &     &     &     & *   & ... & *   &     & *   & *   & *   &     & *   & *   & *   & *  \\\\\n",
       "\t26  ( 1 ) &     &     &     & *   &     &     &     &     &     & *   & ... & *   &     & *   & *   & *   &     & *   & *   & *   & *  \\\\\n",
       "\t27  ( 1 ) &     &     &     & *   &     &     &     &     &     & *   & ... & *   &     & *   & *   & *   &     & *   & *   & *   & *  \\\\\n",
       "\t28  ( 1 ) &     &     &     & *   &     &     &     &     &     & *   & ... & *   &     & *   & *   & *   &     & *   & *   & *   & *  \\\\\n",
       "\t29  ( 1 ) &     &     &     & *   &     & *   &     &     &     & *   & ... & *   &     & *   & *   & *   &     & *   & *   & *   & *  \\\\\n",
       "\t30  ( 1 ) &     &     &     & *   &     & *   &     &     &     & *   & ... & *   &     & *   & *   & *   &     & *   & *   & *   & *  \\\\\n",
       "\t... & ... & ... & ... & ... & ... & ... & ... & ... & ... & ... &     & ... & ... & ... & ... & ... & ... & ... & ... & ... & ...\\\\\n",
       "\t56  ( 1 ) & *   & *   &     & *   & *   & *   &     &     & *   & *   & ... & *   &     & *   & *   & *   & *   & *   & *   & *   & *  \\\\\n",
       "\t57  ( 1 ) & *   & *   &     & *   & *   & *   &     &     & *   & *   & ... & *   &     & *   & *   & *   & *   & *   & *   & *   & *  \\\\\n",
       "\t58  ( 1 ) & *   & *   &     & *   & *   & *   &     &     & *   & *   & ... & *   &     & *   & *   & *   & *   & *   & *   & *   & *  \\\\\n",
       "\t59  ( 1 ) & *   & *   &     & *   & *   & *   &     &     & *   & *   & ... & *   &     & *   & *   & *   & *   & *   & *   & *   & *  \\\\\n",
       "\t60  ( 1 ) & *   & *   &     & *   & *   & *   &     &     & *   & *   & ... & *   &     & *   & *   & *   & *   & *   & *   & *   & *  \\\\\n",
       "\t61  ( 1 ) & *   & *   &     & *   & *   & *   &     &     & *   & *   & ... & *   &     & *   & *   & *   & *   & *   & *   & *   & *  \\\\\n",
       "\t62  ( 1 ) & *   & *   &     & *   & *   & *   &     &     & *   & *   & ... & *   &     & *   & *   & *   & *   & *   & *   & *   & *  \\\\\n",
       "\t63  ( 1 ) & *   & *   &     & *   & *   & *   &     &     & *   & *   & ... & *   &     & *   & *   & *   & *   & *   & *   & *   & *  \\\\\n",
       "\t64  ( 1 ) & *   & *   &     & *   & *   & *   &     &     & *   & *   & ... & *   & *   & *   & *   & *   & *   & *   & *   & *   & *  \\\\\n",
       "\t65  ( 1 ) & *   & *   &     & *   & *   & *   &     &     & *   & *   & ... & *   & *   & *   & *   & *   & *   & *   & *   & *   & *  \\\\\n",
       "\t66  ( 1 ) & *   & *   &     & *   & *   & *   &     &     & *   & *   & ... & *   & *   & *   & *   & *   & *   & *   & *   & *   & *  \\\\\n",
       "\t67  ( 1 ) & *   & *   &     & *   & *   & *   &     &     & *   & *   & ... & *   & *   & *   & *   & *   & *   & *   & *   & *   & *  \\\\\n",
       "\t68  ( 1 ) & *   & *   &     & *   & *   & *   &     &     & *   & *   & ... & *   & *   & *   & *   & *   & *   & *   & *   & *   & *  \\\\\n",
       "\t69  ( 1 ) & *   & *   &     & *   & *   & *   &     &     & *   & *   & ... & *   & *   & *   & *   & *   & *   & *   & *   & *   & *  \\\\\n",
       "\t70  ( 1 ) & *   & *   &     & *   & *   & *   &     &     & *   & *   & ... & *   & *   & *   & *   & *   & *   & *   & *   & *   & *  \\\\\n",
       "\t71  ( 1 ) & *   & *   &     & *   & *   & *   &     &     & *   & *   & ... & *   & *   & *   & *   & *   & *   & *   & *   & *   & *  \\\\\n",
       "\t72  ( 1 ) & *   & *   &     & *   & *   & *   &     &     & *   & *   & ... & *   & *   & *   & *   & *   & *   & *   & *   & *   & *  \\\\\n",
       "\t73  ( 1 ) & *   & *   &     & *   & *   & *   &     &     & *   & *   & ... & *   & *   & *   & *   & *   & *   & *   & *   & *   & *  \\\\\n",
       "\t74  ( 1 ) & *   & *   &     & *   & *   & *   &     &     & *   & *   & ... & *   & *   & *   & *   & *   & *   & *   & *   & *   & *  \\\\\n",
       "\t75  ( 1 ) & *   & *   &     & *   & *   & *   &     &     & *   & *   & ... & *   & *   & *   & *   & *   & *   & *   & *   & *   & *  \\\\\n",
       "\t76  ( 1 ) & *   & *   &     & *   & *   & *   &     &     & *   & *   & ... & *   & *   & *   & *   & *   & *   & *   & *   & *   & *  \\\\\n",
       "\t77  ( 1 ) & *   & *   & *   & *   & *   & *   &     &     & *   & *   & ... & *   & *   & *   & *   & *   & *   & *   & *   & *   & *  \\\\\n",
       "\t78  ( 1 ) & *   & *   & *   & *   & *   & *   &     & *   & *   & *   & ... & *   & *   & *   & *   & *   & *   & *   & *   & *   & *  \\\\\n",
       "\t79  ( 1 ) & *   & *   & *   & *   & *   & *   &     & *   & *   & *   & ... & *   & *   & *   & *   & *   & *   & *   & *   & *   & *  \\\\\n",
       "\t80  ( 1 ) & *   & *   & *   & *   & *   & *   &     & *   & *   & *   & ... & *   & *   & *   & *   & *   & *   & *   & *   & *   & *  \\\\\n",
       "\t81  ( 1 ) & *   & *   & *   & *   & *   & *   &     & *   & *   & *   & ... & *   & *   & *   & *   & *   & *   & *   & *   & *   & *  \\\\\n",
       "\t82  ( 1 ) & *   & *   & *   & *   & *   & *   &     & *   & *   & *   & ... & *   & *   & *   & *   & *   & *   & *   & *   & *   & *  \\\\\n",
       "\t83  ( 1 ) & *   & *   & *   & *   & *   & *   & *   & *   & *   & *   & ... & *   & *   & *   & *   & *   & *   & *   & *   & *   & *  \\\\\n",
       "\t84  ( 1 ) & *   & *   & *   & *   & *   & *   & *   & *   & *   & *   & ... & *   & *   & *   & *   & *   & *   & *   & *   & *   & *  \\\\\n",
       "\t85  ( 1 ) & *   & *   & *   & *   & *   & *   & *   & *   & *   & *   & ... & *   & *   & *   & *   & *   & *   & *   & *   & *   & *  \\\\\n",
       "\\end{tabular}\n"
      ],
      "text/markdown": [
       "\n",
       "| <!--/--> | MOSTYPE | MAANTHUI | MGEMOMV | MGEMLEEF | MOSHOOFD | MGODRK | MGODPR | MGODOV | MGODGE | MRELGE | ... | ALEVEN | APERSONG | AGEZONG | AWAOREG | ABRAND | AZEILPL | APLEZIER | AFIETS | AINBOED | ABYSTAND |\n",
       "|---|---|---|---|---|---|---|---|---|---|---|---|---|---|---|---|---|---|---|---|---|---|\n",
       "| 1  ( 1 ) |     |     |     |     |     |     |     |     |     |     | ... |     |     |     |     |     |     |     |     |     |     |\n",
       "| 2  ( 1 ) |     |     |     |     |     |     |     |     |     |     | ... |     |     |     |     |     |     | *   |     |     |     |\n",
       "| 3  ( 1 ) |     |     |     |     |     |     |     |     |     |     | ... |     |     |     |     |     |     | *   |     |     |     |\n",
       "| 4  ( 1 ) |     |     |     |     |     |     |     |     |     |     | ... |     |     |     |     |     |     | *   |     |     |     |\n",
       "| 5  ( 1 ) |     |     |     |     |     |     |     |     |     | *   | ... |     |     |     |     |     |     | *   |     |     |     |\n",
       "| 6  ( 1 ) |     |     |     |     |     |     |     |     |     | *   | ... |     |     |     |     |     |     | *   |     |     |     |\n",
       "| 7  ( 1 ) |     |     |     |     |     |     |     |     |     | *   | ... |     |     |     |     |     |     | *   |     |     | *   |\n",
       "| 8  ( 1 ) |     |     |     |     |     |     |     |     |     | *   | ... |     |     |     |     |     |     | *   |     |     | *   |\n",
       "| 9  ( 1 ) |     |     |     |     |     |     |     |     |     | *   | ... |     |     |     |     |     |     | *   | *   |     | *   |\n",
       "| 10  ( 1 ) |     |     |     |     |     |     |     |     |     | *   | ... | *   |     |     |     |     |     | *   | *   |     | *   |\n",
       "| 11  ( 1 ) |     |     |     |     |     |     |     |     |     | *   | ... | *   |     |     |     |     |     | *   | *   |     | *   |\n",
       "| 12  ( 1 ) |     |     |     |     |     |     |     |     |     | *   | ... | *   |     |     |     |     |     | *   | *   |     | *   |\n",
       "| 13  ( 1 ) |     |     |     |     |     |     |     |     |     | *   | ... | *   |     |     |     |     |     | *   | *   |     | *   |\n",
       "| 14  ( 1 ) |     |     |     |     |     |     |     |     |     | *   | ... | *   |     |     |     |     |     | *   | *   |     | *   |\n",
       "| 15  ( 1 ) |     |     |     |     |     |     |     |     |     | *   | ... | *   |     |     |     |     |     | *   | *   |     | *   |\n",
       "| 16  ( 1 ) |     |     |     | *   |     |     |     |     |     | *   | ... | *   |     |     |     |     |     | *   | *   |     | *   |\n",
       "| 17  ( 1 ) |     |     |     | *   |     |     |     |     |     | *   | ... | *   |     |     |     |     |     | *   | *   |     | *   |\n",
       "| 18  ( 1 ) |     |     |     | *   |     |     |     |     |     | *   | ... | *   |     | *   |     |     |     | *   | *   |     | *   |\n",
       "| 19  ( 1 ) |     |     |     | *   |     |     |     |     |     | *   | ... | *   |     | *   |     |     |     | *   | *   |     | *   |\n",
       "| 20  ( 1 ) |     |     |     | *   |     |     |     |     |     | *   | ... | *   |     | *   |     | *   |     | *   | *   |     | *   |\n",
       "| 21  ( 1 ) |     |     |     | *   |     |     |     |     |     | *   | ... | *   |     | *   |     | *   |     | *   | *   |     | *   |\n",
       "| 22  ( 1 ) |     |     |     | *   |     |     |     |     |     | *   | ... | *   |     | *   |     | *   |     | *   | *   | *   | *   |\n",
       "| 23  ( 1 ) |     |     |     | *   |     |     |     |     |     | *   | ... | *   |     | *   |     | *   |     | *   | *   | *   | *   |\n",
       "| 24  ( 1 ) |     |     |     | *   |     |     |     |     |     | *   | ... | *   |     | *   | *   | *   |     | *   | *   | *   | *   |\n",
       "| 25  ( 1 ) |     |     |     | *   |     |     |     |     |     | *   | ... | *   |     | *   | *   | *   |     | *   | *   | *   | *   |\n",
       "| 26  ( 1 ) |     |     |     | *   |     |     |     |     |     | *   | ... | *   |     | *   | *   | *   |     | *   | *   | *   | *   |\n",
       "| 27  ( 1 ) |     |     |     | *   |     |     |     |     |     | *   | ... | *   |     | *   | *   | *   |     | *   | *   | *   | *   |\n",
       "| 28  ( 1 ) |     |     |     | *   |     |     |     |     |     | *   | ... | *   |     | *   | *   | *   |     | *   | *   | *   | *   |\n",
       "| 29  ( 1 ) |     |     |     | *   |     | *   |     |     |     | *   | ... | *   |     | *   | *   | *   |     | *   | *   | *   | *   |\n",
       "| 30  ( 1 ) |     |     |     | *   |     | *   |     |     |     | *   | ... | *   |     | *   | *   | *   |     | *   | *   | *   | *   |\n",
       "| ... | ... | ... | ... | ... | ... | ... | ... | ... | ... | ... |     | ... | ... | ... | ... | ... | ... | ... | ... | ... | ... |\n",
       "| 56  ( 1 ) | *   | *   |     | *   | *   | *   |     |     | *   | *   | ... | *   |     | *   | *   | *   | *   | *   | *   | *   | *   |\n",
       "| 57  ( 1 ) | *   | *   |     | *   | *   | *   |     |     | *   | *   | ... | *   |     | *   | *   | *   | *   | *   | *   | *   | *   |\n",
       "| 58  ( 1 ) | *   | *   |     | *   | *   | *   |     |     | *   | *   | ... | *   |     | *   | *   | *   | *   | *   | *   | *   | *   |\n",
       "| 59  ( 1 ) | *   | *   |     | *   | *   | *   |     |     | *   | *   | ... | *   |     | *   | *   | *   | *   | *   | *   | *   | *   |\n",
       "| 60  ( 1 ) | *   | *   |     | *   | *   | *   |     |     | *   | *   | ... | *   |     | *   | *   | *   | *   | *   | *   | *   | *   |\n",
       "| 61  ( 1 ) | *   | *   |     | *   | *   | *   |     |     | *   | *   | ... | *   |     | *   | *   | *   | *   | *   | *   | *   | *   |\n",
       "| 62  ( 1 ) | *   | *   |     | *   | *   | *   |     |     | *   | *   | ... | *   |     | *   | *   | *   | *   | *   | *   | *   | *   |\n",
       "| 63  ( 1 ) | *   | *   |     | *   | *   | *   |     |     | *   | *   | ... | *   |     | *   | *   | *   | *   | *   | *   | *   | *   |\n",
       "| 64  ( 1 ) | *   | *   |     | *   | *   | *   |     |     | *   | *   | ... | *   | *   | *   | *   | *   | *   | *   | *   | *   | *   |\n",
       "| 65  ( 1 ) | *   | *   |     | *   | *   | *   |     |     | *   | *   | ... | *   | *   | *   | *   | *   | *   | *   | *   | *   | *   |\n",
       "| 66  ( 1 ) | *   | *   |     | *   | *   | *   |     |     | *   | *   | ... | *   | *   | *   | *   | *   | *   | *   | *   | *   | *   |\n",
       "| 67  ( 1 ) | *   | *   |     | *   | *   | *   |     |     | *   | *   | ... | *   | *   | *   | *   | *   | *   | *   | *   | *   | *   |\n",
       "| 68  ( 1 ) | *   | *   |     | *   | *   | *   |     |     | *   | *   | ... | *   | *   | *   | *   | *   | *   | *   | *   | *   | *   |\n",
       "| 69  ( 1 ) | *   | *   |     | *   | *   | *   |     |     | *   | *   | ... | *   | *   | *   | *   | *   | *   | *   | *   | *   | *   |\n",
       "| 70  ( 1 ) | *   | *   |     | *   | *   | *   |     |     | *   | *   | ... | *   | *   | *   | *   | *   | *   | *   | *   | *   | *   |\n",
       "| 71  ( 1 ) | *   | *   |     | *   | *   | *   |     |     | *   | *   | ... | *   | *   | *   | *   | *   | *   | *   | *   | *   | *   |\n",
       "| 72  ( 1 ) | *   | *   |     | *   | *   | *   |     |     | *   | *   | ... | *   | *   | *   | *   | *   | *   | *   | *   | *   | *   |\n",
       "| 73  ( 1 ) | *   | *   |     | *   | *   | *   |     |     | *   | *   | ... | *   | *   | *   | *   | *   | *   | *   | *   | *   | *   |\n",
       "| 74  ( 1 ) | *   | *   |     | *   | *   | *   |     |     | *   | *   | ... | *   | *   | *   | *   | *   | *   | *   | *   | *   | *   |\n",
       "| 75  ( 1 ) | *   | *   |     | *   | *   | *   |     |     | *   | *   | ... | *   | *   | *   | *   | *   | *   | *   | *   | *   | *   |\n",
       "| 76  ( 1 ) | *   | *   |     | *   | *   | *   |     |     | *   | *   | ... | *   | *   | *   | *   | *   | *   | *   | *   | *   | *   |\n",
       "| 77  ( 1 ) | *   | *   | *   | *   | *   | *   |     |     | *   | *   | ... | *   | *   | *   | *   | *   | *   | *   | *   | *   | *   |\n",
       "| 78  ( 1 ) | *   | *   | *   | *   | *   | *   |     | *   | *   | *   | ... | *   | *   | *   | *   | *   | *   | *   | *   | *   | *   |\n",
       "| 79  ( 1 ) | *   | *   | *   | *   | *   | *   |     | *   | *   | *   | ... | *   | *   | *   | *   | *   | *   | *   | *   | *   | *   |\n",
       "| 80  ( 1 ) | *   | *   | *   | *   | *   | *   |     | *   | *   | *   | ... | *   | *   | *   | *   | *   | *   | *   | *   | *   | *   |\n",
       "| 81  ( 1 ) | *   | *   | *   | *   | *   | *   |     | *   | *   | *   | ... | *   | *   | *   | *   | *   | *   | *   | *   | *   | *   |\n",
       "| 82  ( 1 ) | *   | *   | *   | *   | *   | *   |     | *   | *   | *   | ... | *   | *   | *   | *   | *   | *   | *   | *   | *   | *   |\n",
       "| 83  ( 1 ) | *   | *   | *   | *   | *   | *   | *   | *   | *   | *   | ... | *   | *   | *   | *   | *   | *   | *   | *   | *   | *   |\n",
       "| 84  ( 1 ) | *   | *   | *   | *   | *   | *   | *   | *   | *   | *   | ... | *   | *   | *   | *   | *   | *   | *   | *   | *   | *   |\n",
       "| 85  ( 1 ) | *   | *   | *   | *   | *   | *   | *   | *   | *   | *   | ... | *   | *   | *   | *   | *   | *   | *   | *   | *   | *   |\n",
       "\n"
      ],
      "text/plain": [
       "          MOSTYPE MAANTHUI MGEMOMV MGEMLEEF MOSHOOFD MGODRK MGODPR MGODOV\n",
       "1  ( 1 )                                                                 \n",
       "2  ( 1 )                                                                 \n",
       "3  ( 1 )                                                                 \n",
       "4  ( 1 )                                                                 \n",
       "5  ( 1 )                                                                 \n",
       "6  ( 1 )                                                                 \n",
       "7  ( 1 )                                                                 \n",
       "8  ( 1 )                                                                 \n",
       "9  ( 1 )                                                                 \n",
       "10  ( 1 )                                                                \n",
       "11  ( 1 )                                                                \n",
       "12  ( 1 )                                                                \n",
       "13  ( 1 )                                                                \n",
       "14  ( 1 )                                                                \n",
       "15  ( 1 )                                                                \n",
       "16  ( 1 )                          *                                     \n",
       "17  ( 1 )                          *                                     \n",
       "18  ( 1 )                          *                                     \n",
       "19  ( 1 )                          *                                     \n",
       "20  ( 1 )                          *                                     \n",
       "21  ( 1 )                          *                                     \n",
       "22  ( 1 )                          *                                     \n",
       "23  ( 1 )                          *                                     \n",
       "24  ( 1 )                          *                                     \n",
       "25  ( 1 )                          *                                     \n",
       "26  ( 1 )                          *                                     \n",
       "27  ( 1 )                          *                                     \n",
       "28  ( 1 )                          *                                     \n",
       "29  ( 1 )                          *                 *                   \n",
       "30  ( 1 )                          *                 *                   \n",
       "...       ...     ...      ...     ...      ...      ...    ...    ...   \n",
       "56  ( 1 ) *       *                *        *        *                   \n",
       "57  ( 1 ) *       *                *        *        *                   \n",
       "58  ( 1 ) *       *                *        *        *                   \n",
       "59  ( 1 ) *       *                *        *        *                   \n",
       "60  ( 1 ) *       *                *        *        *                   \n",
       "61  ( 1 ) *       *                *        *        *                   \n",
       "62  ( 1 ) *       *                *        *        *                   \n",
       "63  ( 1 ) *       *                *        *        *                   \n",
       "64  ( 1 ) *       *                *        *        *                   \n",
       "65  ( 1 ) *       *                *        *        *                   \n",
       "66  ( 1 ) *       *                *        *        *                   \n",
       "67  ( 1 ) *       *                *        *        *                   \n",
       "68  ( 1 ) *       *                *        *        *                   \n",
       "69  ( 1 ) *       *                *        *        *                   \n",
       "70  ( 1 ) *       *                *        *        *                   \n",
       "71  ( 1 ) *       *                *        *        *                   \n",
       "72  ( 1 ) *       *                *        *        *                   \n",
       "73  ( 1 ) *       *                *        *        *                   \n",
       "74  ( 1 ) *       *                *        *        *                   \n",
       "75  ( 1 ) *       *                *        *        *                   \n",
       "76  ( 1 ) *       *                *        *        *                   \n",
       "77  ( 1 ) *       *        *       *        *        *                   \n",
       "78  ( 1 ) *       *        *       *        *        *             *     \n",
       "79  ( 1 ) *       *        *       *        *        *             *     \n",
       "80  ( 1 ) *       *        *       *        *        *             *     \n",
       "81  ( 1 ) *       *        *       *        *        *             *     \n",
       "82  ( 1 ) *       *        *       *        *        *             *     \n",
       "83  ( 1 ) *       *        *       *        *        *      *      *     \n",
       "84  ( 1 ) *       *        *       *        *        *      *      *     \n",
       "85  ( 1 ) *       *        *       *        *        *      *      *     \n",
       "          MGODGE MRELGE ... ALEVEN APERSONG AGEZONG AWAOREG ABRAND AZEILPL\n",
       "1  ( 1 )                ...                                               \n",
       "2  ( 1 )                ...                                               \n",
       "3  ( 1 )                ...                                               \n",
       "4  ( 1 )                ...                                               \n",
       "5  ( 1 )         *      ...                                               \n",
       "6  ( 1 )         *      ...                                               \n",
       "7  ( 1 )         *      ...                                               \n",
       "8  ( 1 )         *      ...                                               \n",
       "9  ( 1 )         *      ...                                               \n",
       "10  ( 1 )        *      ... *                                             \n",
       "11  ( 1 )        *      ... *                                             \n",
       "12  ( 1 )        *      ... *                                             \n",
       "13  ( 1 )        *      ... *                                             \n",
       "14  ( 1 )        *      ... *                                             \n",
       "15  ( 1 )        *      ... *                                             \n",
       "16  ( 1 )        *      ... *                                             \n",
       "17  ( 1 )        *      ... *                                             \n",
       "18  ( 1 )        *      ... *               *                             \n",
       "19  ( 1 )        *      ... *               *                             \n",
       "20  ( 1 )        *      ... *               *               *             \n",
       "21  ( 1 )        *      ... *               *               *             \n",
       "22  ( 1 )        *      ... *               *               *             \n",
       "23  ( 1 )        *      ... *               *               *             \n",
       "24  ( 1 )        *      ... *               *       *       *             \n",
       "25  ( 1 )        *      ... *               *       *       *             \n",
       "26  ( 1 )        *      ... *               *       *       *             \n",
       "27  ( 1 )        *      ... *               *       *       *             \n",
       "28  ( 1 )        *      ... *               *       *       *             \n",
       "29  ( 1 )        *      ... *               *       *       *             \n",
       "30  ( 1 )        *      ... *               *       *       *             \n",
       "...       ...    ...        ...    ...      ...     ...     ...    ...    \n",
       "56  ( 1 ) *      *      ... *               *       *       *      *      \n",
       "57  ( 1 ) *      *      ... *               *       *       *      *      \n",
       "58  ( 1 ) *      *      ... *               *       *       *      *      \n",
       "59  ( 1 ) *      *      ... *               *       *       *      *      \n",
       "60  ( 1 ) *      *      ... *               *       *       *      *      \n",
       "61  ( 1 ) *      *      ... *               *       *       *      *      \n",
       "62  ( 1 ) *      *      ... *               *       *       *      *      \n",
       "63  ( 1 ) *      *      ... *               *       *       *      *      \n",
       "64  ( 1 ) *      *      ... *      *        *       *       *      *      \n",
       "65  ( 1 ) *      *      ... *      *        *       *       *      *      \n",
       "66  ( 1 ) *      *      ... *      *        *       *       *      *      \n",
       "67  ( 1 ) *      *      ... *      *        *       *       *      *      \n",
       "68  ( 1 ) *      *      ... *      *        *       *       *      *      \n",
       "69  ( 1 ) *      *      ... *      *        *       *       *      *      \n",
       "70  ( 1 ) *      *      ... *      *        *       *       *      *      \n",
       "71  ( 1 ) *      *      ... *      *        *       *       *      *      \n",
       "72  ( 1 ) *      *      ... *      *        *       *       *      *      \n",
       "73  ( 1 ) *      *      ... *      *        *       *       *      *      \n",
       "74  ( 1 ) *      *      ... *      *        *       *       *      *      \n",
       "75  ( 1 ) *      *      ... *      *        *       *       *      *      \n",
       "76  ( 1 ) *      *      ... *      *        *       *       *      *      \n",
       "77  ( 1 ) *      *      ... *      *        *       *       *      *      \n",
       "78  ( 1 ) *      *      ... *      *        *       *       *      *      \n",
       "79  ( 1 ) *      *      ... *      *        *       *       *      *      \n",
       "80  ( 1 ) *      *      ... *      *        *       *       *      *      \n",
       "81  ( 1 ) *      *      ... *      *        *       *       *      *      \n",
       "82  ( 1 ) *      *      ... *      *        *       *       *      *      \n",
       "83  ( 1 ) *      *      ... *      *        *       *       *      *      \n",
       "84  ( 1 ) *      *      ... *      *        *       *       *      *      \n",
       "85  ( 1 ) *      *      ... *      *        *       *       *      *      \n",
       "          APLEZIER AFIETS AINBOED ABYSTAND\n",
       "1  ( 1 )                                  \n",
       "2  ( 1 )  *                               \n",
       "3  ( 1 )  *                               \n",
       "4  ( 1 )  *                               \n",
       "5  ( 1 )  *                               \n",
       "6  ( 1 )  *                               \n",
       "7  ( 1 )  *                       *       \n",
       "8  ( 1 )  *                       *       \n",
       "9  ( 1 )  *        *              *       \n",
       "10  ( 1 ) *        *              *       \n",
       "11  ( 1 ) *        *              *       \n",
       "12  ( 1 ) *        *              *       \n",
       "13  ( 1 ) *        *              *       \n",
       "14  ( 1 ) *        *              *       \n",
       "15  ( 1 ) *        *              *       \n",
       "16  ( 1 ) *        *              *       \n",
       "17  ( 1 ) *        *              *       \n",
       "18  ( 1 ) *        *              *       \n",
       "19  ( 1 ) *        *              *       \n",
       "20  ( 1 ) *        *              *       \n",
       "21  ( 1 ) *        *              *       \n",
       "22  ( 1 ) *        *      *       *       \n",
       "23  ( 1 ) *        *      *       *       \n",
       "24  ( 1 ) *        *      *       *       \n",
       "25  ( 1 ) *        *      *       *       \n",
       "26  ( 1 ) *        *      *       *       \n",
       "27  ( 1 ) *        *      *       *       \n",
       "28  ( 1 ) *        *      *       *       \n",
       "29  ( 1 ) *        *      *       *       \n",
       "30  ( 1 ) *        *      *       *       \n",
       "...       ...      ...    ...     ...     \n",
       "56  ( 1 ) *        *      *       *       \n",
       "57  ( 1 ) *        *      *       *       \n",
       "58  ( 1 ) *        *      *       *       \n",
       "59  ( 1 ) *        *      *       *       \n",
       "60  ( 1 ) *        *      *       *       \n",
       "61  ( 1 ) *        *      *       *       \n",
       "62  ( 1 ) *        *      *       *       \n",
       "63  ( 1 ) *        *      *       *       \n",
       "64  ( 1 ) *        *      *       *       \n",
       "65  ( 1 ) *        *      *       *       \n",
       "66  ( 1 ) *        *      *       *       \n",
       "67  ( 1 ) *        *      *       *       \n",
       "68  ( 1 ) *        *      *       *       \n",
       "69  ( 1 ) *        *      *       *       \n",
       "70  ( 1 ) *        *      *       *       \n",
       "71  ( 1 ) *        *      *       *       \n",
       "72  ( 1 ) *        *      *       *       \n",
       "73  ( 1 ) *        *      *       *       \n",
       "74  ( 1 ) *        *      *       *       \n",
       "75  ( 1 ) *        *      *       *       \n",
       "76  ( 1 ) *        *      *       *       \n",
       "77  ( 1 ) *        *      *       *       \n",
       "78  ( 1 ) *        *      *       *       \n",
       "79  ( 1 ) *        *      *       *       \n",
       "80  ( 1 ) *        *      *       *       \n",
       "81  ( 1 ) *        *      *       *       \n",
       "82  ( 1 ) *        *      *       *       \n",
       "83  ( 1 ) *        *      *       *       \n",
       "84  ( 1 ) *        *      *       *       \n",
       "85  ( 1 ) *        *      *       *       "
      ]
     },
     "metadata": {},
     "output_type": "display_data"
    }
   ],
   "source": [
    "my_sum_bwd$outmat"
   ]
  },
  {
   "cell_type": "code",
   "execution_count": 31,
   "id": "9f05716b",
   "metadata": {},
   "outputs": [
    {
     "data": {
      "text/html": [
       "<dl class=dl-horizontal>\n",
       "\t<dt>(Intercept)</dt>\n",
       "\t\t<dd>0.768538121003844</dd>\n",
       "\t<dt>MOSTYPE</dt>\n",
       "\t\t<dd>0.00352090620822445</dd>\n",
       "\t<dt>MAANTHUI</dt>\n",
       "\t\t<dd>-0.00726424185808571</dd>\n",
       "\t<dt>MGEMOMV</dt>\n",
       "\t\t<dd>-0.00127394677404381</dd>\n",
       "\t<dt>MGEMLEEF</dt>\n",
       "\t\t<dd>0.0107473471162241</dd>\n",
       "\t<dt>MOSHOOFD</dt>\n",
       "\t\t<dd>-0.0154869494476998</dd>\n",
       "\t<dt>MGODRK</dt>\n",
       "\t\t<dd>-0.00560162784244511</dd>\n",
       "\t<dt>MGODPR</dt>\n",
       "\t\t<dd>-0.000206892091720033</dd>\n",
       "\t<dt>MGODOV</dt>\n",
       "\t\t<dd>0.000356919249975898</dd>\n",
       "\t<dt>MGODGE</dt>\n",
       "\t\t<dd>-0.0030236860601653</dd>\n",
       "\t<dt>MRELGE</dt>\n",
       "\t\t<dd>0.00868294847730551</dd>\n",
       "\t<dt>MRELSA</dt>\n",
       "\t\t<dd>0.00203666621088915</dd>\n",
       "\t<dt>MRELOV</dt>\n",
       "\t\t<dd>0.00556823969915508</dd>\n",
       "\t<dt>MFALLEEN</dt>\n",
       "\t\t<dd>-0.00382499740607528</dd>\n",
       "\t<dt>MFGEKIND</dt>\n",
       "\t\t<dd>-0.00506253480647594</dd>\n",
       "\t<dt>MFWEKIND</dt>\n",
       "\t\t<dd>-0.00262530070612212</dd>\n",
       "\t<dt>MOPLHOOG</dt>\n",
       "\t\t<dd>0.00213573090398154</dd>\n",
       "\t<dt>MOPLMIDD</dt>\n",
       "\t\t<dd>-0.00484559158948808</dd>\n",
       "\t<dt>MOPLLAAG</dt>\n",
       "\t\t<dd>-0.0113976540729139</dd>\n",
       "\t<dt>MBERHOOG</dt>\n",
       "\t\t<dd>0.00218839961179622</dd>\n",
       "\t<dt>MBERZELF</dt>\n",
       "\t\t<dd>-0.000466492068409356</dd>\n",
       "\t<dt>MBERBOER</dt>\n",
       "\t\t<dd>-0.00509743286223562</dd>\n",
       "\t<dt>MBERMIDD</dt>\n",
       "\t\t<dd>0.00412543101263952</dd>\n",
       "\t<dt>MBERARBG</dt>\n",
       "\t\t<dd>-0.000605978983474242</dd>\n",
       "\t<dt>MBERARBO</dt>\n",
       "\t\t<dd>0.00197333790343027</dd>\n",
       "\t<dt>MSKA</dt>\n",
       "\t\t<dd>-0.00136742425246967</dd>\n",
       "\t<dt>MSKB1</dt>\n",
       "\t\t<dd>-0.00317012698000325</dd>\n",
       "\t<dt>MSKB2</dt>\n",
       "\t\t<dd>-0.00126032463348088</dd>\n",
       "\t<dt>MSKC</dt>\n",
       "\t\t<dd>0.00248785167970978</dd>\n",
       "\t<dt>MSKD</dt>\n",
       "\t\t<dd>-0.000886640645469222</dd>\n",
       "\t<dt>MHHUUR</dt>\n",
       "\t\t<dd>-0.0454201289288682</dd>\n",
       "\t<dt>MHKOOP</dt>\n",
       "\t\t<dd>-0.0432242340435792</dd>\n",
       "\t<dt>MAUT1</dt>\n",
       "\t\t<dd>0.00859635259323654</dd>\n",
       "\t<dt>MAUT2</dt>\n",
       "\t\t<dd>0.00778711829624249</dd>\n",
       "\t<dt>MAUT0</dt>\n",
       "\t\t<dd>0.00472152649868991</dd>\n",
       "\t<dt>MZFONDS</dt>\n",
       "\t\t<dd>-0.0561024244639387</dd>\n",
       "\t<dt>MZPART</dt>\n",
       "\t\t<dd>-0.0593733296736376</dd>\n",
       "\t<dt>MINKM30</dt>\n",
       "\t\t<dd>0.00708794515107237</dd>\n",
       "\t<dt>MINK3045</dt>\n",
       "\t\t<dd>0.00694143494056771</dd>\n",
       "\t<dt>MINK4575</dt>\n",
       "\t\t<dd>0.00496789450827639</dd>\n",
       "\t<dt>MINK7512</dt>\n",
       "\t\t<dd>0.0059267325328472</dd>\n",
       "\t<dt>MINK123M</dt>\n",
       "\t\t<dd>-0.00989393794544388</dd>\n",
       "\t<dt>MINKGEM</dt>\n",
       "\t\t<dd>0.00630438955113629</dd>\n",
       "\t<dt>MKOOPKLA</dt>\n",
       "\t\t<dd>0.00290970739743391</dd>\n",
       "\t<dt>PWAPART</dt>\n",
       "\t\t<dd>0.0284931368892934</dd>\n",
       "\t<dt>PWABEDR</dt>\n",
       "\t\t<dd>-0.0101532984420171</dd>\n",
       "\t<dt>PWALAND</dt>\n",
       "\t\t<dd>-0.0201220388409054</dd>\n",
       "\t<dt>PPERSAUT</dt>\n",
       "\t\t<dd>0.0102786755606119</dd>\n",
       "\t<dt>PBESAUT</dt>\n",
       "\t\t<dd>0.00144050972035558</dd>\n",
       "\t<dt>PMOTSCO</dt>\n",
       "\t\t<dd>-0.00612793347755714</dd>\n",
       "\t<dt>PVRAAUT</dt>\n",
       "\t\t<dd>-0.0249190183182525</dd>\n",
       "\t<dt>PAANHANG</dt>\n",
       "\t\t<dd>0.0588044301877089</dd>\n",
       "\t<dt>PTRACTOR</dt>\n",
       "\t\t<dd>0.0121480596697757</dd>\n",
       "\t<dt>PWERKT</dt>\n",
       "\t\t<dd>-0.00624400794615727</dd>\n",
       "\t<dt>PBROM</dt>\n",
       "\t\t<dd>0.00786827694328984</dd>\n",
       "\t<dt>PLEVEN</dt>\n",
       "\t\t<dd>-0.0155397049244717</dd>\n",
       "\t<dt>PPERSONG</dt>\n",
       "\t\t<dd>0.00989259792329394</dd>\n",
       "\t<dt>PGEZONG</dt>\n",
       "\t\t<dd>0.193725379446604</dd>\n",
       "\t<dt>PWAOREG</dt>\n",
       "\t\t<dd>0.0647932612444887</dd>\n",
       "\t<dt>PBRAND</dt>\n",
       "\t\t<dd>0.0132643125575221</dd>\n",
       "\t<dt>PZEILPL</dt>\n",
       "\t\t<dd>-0.191750720951513</dd>\n",
       "\t<dt>PPLEZIER</dt>\n",
       "\t\t<dd>-0.0299075991777811</dd>\n",
       "\t<dt>PFIETS</dt>\n",
       "\t\t<dd>-0.0107777114361222</dd>\n",
       "\t<dt>PINBOED</dt>\n",
       "\t\t<dd>-0.0441619610252284</dd>\n",
       "\t<dt>PBYSTAND</dt>\n",
       "\t\t<dd>-0.0184858081636962</dd>\n",
       "\t<dt>AWAPART</dt>\n",
       "\t\t<dd>-0.0377951815217258</dd>\n",
       "\t<dt>AWABEDR</dt>\n",
       "\t\t<dd>0.0185448467501683</dd>\n",
       "\t<dt>AWALAND</dt>\n",
       "\t\t<dd>0.0180904046057285</dd>\n",
       "\t<dt>APERSAUT</dt>\n",
       "\t\t<dd>0.000282121475154282</dd>\n",
       "\t<dt>ABESAUT</dt>\n",
       "\t\t<dd>-0.021481593139</dd>\n",
       "\t<dt>AMOTSCO</dt>\n",
       "\t\t<dd>0.0203251539495234</dd>\n",
       "\t<dt>AVRAAUT</dt>\n",
       "\t\t<dd>0.0563674559643721</dd>\n",
       "\t<dt>AAANHANG</dt>\n",
       "\t\t<dd>-0.0804238437618667</dd>\n",
       "\t<dt>ATRACTOR</dt>\n",
       "\t\t<dd>-0.0395650588840549</dd>\n",
       "\t<dt>AWERKT</dt>\n",
       "\t\t<dd>-0.001052588255847</dd>\n",
       "\t<dt>ABROM</dt>\n",
       "\t\t<dd>-0.0236461656530953</dd>\n",
       "\t<dt>ALEVEN</dt>\n",
       "\t\t<dd>0.0372344402220532</dd>\n",
       "\t<dt>APERSONG</dt>\n",
       "\t\t<dd>-0.0464278874889799</dd>\n",
       "\t<dt>AGEZONG</dt>\n",
       "\t\t<dd>-0.405064156424225</dd>\n",
       "\t<dt>AWAOREG</dt>\n",
       "\t\t<dd>-0.230456054084532</dd>\n",
       "\t<dt>ABRAND</dt>\n",
       "\t\t<dd>-0.0211373805825757</dd>\n",
       "\t<dt>AZEILPL</dt>\n",
       "\t\t<dd>0.495805085014209</dd>\n",
       "\t<dt>APLEZIER</dt>\n",
       "\t\t<dd>0.363388697481193</dd>\n",
       "\t<dt>AFIETS</dt>\n",
       "\t\t<dd>0.0416060624889818</dd>\n",
       "\t<dt>AINBOED</dt>\n",
       "\t\t<dd>0.0959436471347003</dd>\n",
       "\t<dt>ABYSTAND</dt>\n",
       "\t\t<dd>0.131225004902231</dd>\n",
       "</dl>\n"
      ],
      "text/latex": [
       "\\begin{description*}\n",
       "\\item[(Intercept)] 0.768538121003844\n",
       "\\item[MOSTYPE] 0.00352090620822445\n",
       "\\item[MAANTHUI] -0.00726424185808571\n",
       "\\item[MGEMOMV] -0.00127394677404381\n",
       "\\item[MGEMLEEF] 0.0107473471162241\n",
       "\\item[MOSHOOFD] -0.0154869494476998\n",
       "\\item[MGODRK] -0.00560162784244511\n",
       "\\item[MGODPR] -0.000206892091720033\n",
       "\\item[MGODOV] 0.000356919249975898\n",
       "\\item[MGODGE] -0.0030236860601653\n",
       "\\item[MRELGE] 0.00868294847730551\n",
       "\\item[MRELSA] 0.00203666621088915\n",
       "\\item[MRELOV] 0.00556823969915508\n",
       "\\item[MFALLEEN] -0.00382499740607528\n",
       "\\item[MFGEKIND] -0.00506253480647594\n",
       "\\item[MFWEKIND] -0.00262530070612212\n",
       "\\item[MOPLHOOG] 0.00213573090398154\n",
       "\\item[MOPLMIDD] -0.00484559158948808\n",
       "\\item[MOPLLAAG] -0.0113976540729139\n",
       "\\item[MBERHOOG] 0.00218839961179622\n",
       "\\item[MBERZELF] -0.000466492068409356\n",
       "\\item[MBERBOER] -0.00509743286223562\n",
       "\\item[MBERMIDD] 0.00412543101263952\n",
       "\\item[MBERARBG] -0.000605978983474242\n",
       "\\item[MBERARBO] 0.00197333790343027\n",
       "\\item[MSKA] -0.00136742425246967\n",
       "\\item[MSKB1] -0.00317012698000325\n",
       "\\item[MSKB2] -0.00126032463348088\n",
       "\\item[MSKC] 0.00248785167970978\n",
       "\\item[MSKD] -0.000886640645469222\n",
       "\\item[MHHUUR] -0.0454201289288682\n",
       "\\item[MHKOOP] -0.0432242340435792\n",
       "\\item[MAUT1] 0.00859635259323654\n",
       "\\item[MAUT2] 0.00778711829624249\n",
       "\\item[MAUT0] 0.00472152649868991\n",
       "\\item[MZFONDS] -0.0561024244639387\n",
       "\\item[MZPART] -0.0593733296736376\n",
       "\\item[MINKM30] 0.00708794515107237\n",
       "\\item[MINK3045] 0.00694143494056771\n",
       "\\item[MINK4575] 0.00496789450827639\n",
       "\\item[MINK7512] 0.0059267325328472\n",
       "\\item[MINK123M] -0.00989393794544388\n",
       "\\item[MINKGEM] 0.00630438955113629\n",
       "\\item[MKOOPKLA] 0.00290970739743391\n",
       "\\item[PWAPART] 0.0284931368892934\n",
       "\\item[PWABEDR] -0.0101532984420171\n",
       "\\item[PWALAND] -0.0201220388409054\n",
       "\\item[PPERSAUT] 0.0102786755606119\n",
       "\\item[PBESAUT] 0.00144050972035558\n",
       "\\item[PMOTSCO] -0.00612793347755714\n",
       "\\item[PVRAAUT] -0.0249190183182525\n",
       "\\item[PAANHANG] 0.0588044301877089\n",
       "\\item[PTRACTOR] 0.0121480596697757\n",
       "\\item[PWERKT] -0.00624400794615727\n",
       "\\item[PBROM] 0.00786827694328984\n",
       "\\item[PLEVEN] -0.0155397049244717\n",
       "\\item[PPERSONG] 0.00989259792329394\n",
       "\\item[PGEZONG] 0.193725379446604\n",
       "\\item[PWAOREG] 0.0647932612444887\n",
       "\\item[PBRAND] 0.0132643125575221\n",
       "\\item[PZEILPL] -0.191750720951513\n",
       "\\item[PPLEZIER] -0.0299075991777811\n",
       "\\item[PFIETS] -0.0107777114361222\n",
       "\\item[PINBOED] -0.0441619610252284\n",
       "\\item[PBYSTAND] -0.0184858081636962\n",
       "\\item[AWAPART] -0.0377951815217258\n",
       "\\item[AWABEDR] 0.0185448467501683\n",
       "\\item[AWALAND] 0.0180904046057285\n",
       "\\item[APERSAUT] 0.000282121475154282\n",
       "\\item[ABESAUT] -0.021481593139\n",
       "\\item[AMOTSCO] 0.0203251539495234\n",
       "\\item[AVRAAUT] 0.0563674559643721\n",
       "\\item[AAANHANG] -0.0804238437618667\n",
       "\\item[ATRACTOR] -0.0395650588840549\n",
       "\\item[AWERKT] -0.001052588255847\n",
       "\\item[ABROM] -0.0236461656530953\n",
       "\\item[ALEVEN] 0.0372344402220532\n",
       "\\item[APERSONG] -0.0464278874889799\n",
       "\\item[AGEZONG] -0.405064156424225\n",
       "\\item[AWAOREG] -0.230456054084532\n",
       "\\item[ABRAND] -0.0211373805825757\n",
       "\\item[AZEILPL] 0.495805085014209\n",
       "\\item[APLEZIER] 0.363388697481193\n",
       "\\item[AFIETS] 0.0416060624889818\n",
       "\\item[AINBOED] 0.0959436471347003\n",
       "\\item[ABYSTAND] 0.131225004902231\n",
       "\\end{description*}\n"
      ],
      "text/markdown": [
       "(Intercept)\n",
       ":   0.768538121003844MOSTYPE\n",
       ":   0.00352090620822445MAANTHUI\n",
       ":   -0.00726424185808571MGEMOMV\n",
       ":   -0.00127394677404381MGEMLEEF\n",
       ":   0.0107473471162241MOSHOOFD\n",
       ":   -0.0154869494476998MGODRK\n",
       ":   -0.00560162784244511MGODPR\n",
       ":   -0.000206892091720033MGODOV\n",
       ":   0.000356919249975898MGODGE\n",
       ":   -0.0030236860601653MRELGE\n",
       ":   0.00868294847730551MRELSA\n",
       ":   0.00203666621088915MRELOV\n",
       ":   0.00556823969915508MFALLEEN\n",
       ":   -0.00382499740607528MFGEKIND\n",
       ":   -0.00506253480647594MFWEKIND\n",
       ":   -0.00262530070612212MOPLHOOG\n",
       ":   0.00213573090398154MOPLMIDD\n",
       ":   -0.00484559158948808MOPLLAAG\n",
       ":   -0.0113976540729139MBERHOOG\n",
       ":   0.00218839961179622MBERZELF\n",
       ":   -0.000466492068409356MBERBOER\n",
       ":   -0.00509743286223562MBERMIDD\n",
       ":   0.00412543101263952MBERARBG\n",
       ":   -0.000605978983474242MBERARBO\n",
       ":   0.00197333790343027MSKA\n",
       ":   -0.00136742425246967MSKB1\n",
       ":   -0.00317012698000325MSKB2\n",
       ":   -0.00126032463348088MSKC\n",
       ":   0.00248785167970978MSKD\n",
       ":   -0.000886640645469222MHHUUR\n",
       ":   -0.0454201289288682MHKOOP\n",
       ":   -0.0432242340435792MAUT1\n",
       ":   0.00859635259323654MAUT2\n",
       ":   0.00778711829624249MAUT0\n",
       ":   0.00472152649868991MZFONDS\n",
       ":   -0.0561024244639387MZPART\n",
       ":   -0.0593733296736376MINKM30\n",
       ":   0.00708794515107237MINK3045\n",
       ":   0.00694143494056771MINK4575\n",
       ":   0.00496789450827639MINK7512\n",
       ":   0.0059267325328472MINK123M\n",
       ":   -0.00989393794544388MINKGEM\n",
       ":   0.00630438955113629MKOOPKLA\n",
       ":   0.00290970739743391PWAPART\n",
       ":   0.0284931368892934PWABEDR\n",
       ":   -0.0101532984420171PWALAND\n",
       ":   -0.0201220388409054PPERSAUT\n",
       ":   0.0102786755606119PBESAUT\n",
       ":   0.00144050972035558PMOTSCO\n",
       ":   -0.00612793347755714PVRAAUT\n",
       ":   -0.0249190183182525PAANHANG\n",
       ":   0.0588044301877089PTRACTOR\n",
       ":   0.0121480596697757PWERKT\n",
       ":   -0.00624400794615727PBROM\n",
       ":   0.00786827694328984PLEVEN\n",
       ":   -0.0155397049244717PPERSONG\n",
       ":   0.00989259792329394PGEZONG\n",
       ":   0.193725379446604PWAOREG\n",
       ":   0.0647932612444887PBRAND\n",
       ":   0.0132643125575221PZEILPL\n",
       ":   -0.191750720951513PPLEZIER\n",
       ":   -0.0299075991777811PFIETS\n",
       ":   -0.0107777114361222PINBOED\n",
       ":   -0.0441619610252284PBYSTAND\n",
       ":   -0.0184858081636962AWAPART\n",
       ":   -0.0377951815217258AWABEDR\n",
       ":   0.0185448467501683AWALAND\n",
       ":   0.0180904046057285APERSAUT\n",
       ":   0.000282121475154282ABESAUT\n",
       ":   -0.021481593139AMOTSCO\n",
       ":   0.0203251539495234AVRAAUT\n",
       ":   0.0563674559643721AAANHANG\n",
       ":   -0.0804238437618667ATRACTOR\n",
       ":   -0.0395650588840549AWERKT\n",
       ":   -0.001052588255847ABROM\n",
       ":   -0.0236461656530953ALEVEN\n",
       ":   0.0372344402220532APERSONG\n",
       ":   -0.0464278874889799AGEZONG\n",
       ":   -0.405064156424225AWAOREG\n",
       ":   -0.230456054084532ABRAND\n",
       ":   -0.0211373805825757AZEILPL\n",
       ":   0.495805085014209APLEZIER\n",
       ":   0.363388697481193AFIETS\n",
       ":   0.0416060624889818AINBOED\n",
       ":   0.0959436471347003ABYSTAND\n",
       ":   0.131225004902231\n",
       "\n"
      ],
      "text/plain": [
       "  (Intercept)       MOSTYPE      MAANTHUI       MGEMOMV      MGEMLEEF \n",
       " 0.7685381210  0.0035209062 -0.0072642419 -0.0012739468  0.0107473471 \n",
       "     MOSHOOFD        MGODRK        MGODPR        MGODOV        MGODGE \n",
       "-0.0154869494 -0.0056016278 -0.0002068921  0.0003569192 -0.0030236861 \n",
       "       MRELGE        MRELSA        MRELOV      MFALLEEN      MFGEKIND \n",
       " 0.0086829485  0.0020366662  0.0055682397 -0.0038249974 -0.0050625348 \n",
       "     MFWEKIND      MOPLHOOG      MOPLMIDD      MOPLLAAG      MBERHOOG \n",
       "-0.0026253007  0.0021357309 -0.0048455916 -0.0113976541  0.0021883996 \n",
       "     MBERZELF      MBERBOER      MBERMIDD      MBERARBG      MBERARBO \n",
       "-0.0004664921 -0.0050974329  0.0041254310 -0.0006059790  0.0019733379 \n",
       "         MSKA         MSKB1         MSKB2          MSKC          MSKD \n",
       "-0.0013674243 -0.0031701270 -0.0012603246  0.0024878517 -0.0008866406 \n",
       "       MHHUUR        MHKOOP         MAUT1         MAUT2         MAUT0 \n",
       "-0.0454201289 -0.0432242340  0.0085963526  0.0077871183  0.0047215265 \n",
       "      MZFONDS        MZPART       MINKM30      MINK3045      MINK4575 \n",
       "-0.0561024245 -0.0593733297  0.0070879452  0.0069414349  0.0049678945 \n",
       "     MINK7512      MINK123M       MINKGEM      MKOOPKLA       PWAPART \n",
       " 0.0059267325 -0.0098939379  0.0063043896  0.0029097074  0.0284931369 \n",
       "      PWABEDR       PWALAND      PPERSAUT       PBESAUT       PMOTSCO \n",
       "-0.0101532984 -0.0201220388  0.0102786756  0.0014405097 -0.0061279335 \n",
       "      PVRAAUT      PAANHANG      PTRACTOR        PWERKT         PBROM \n",
       "-0.0249190183  0.0588044302  0.0121480597 -0.0062440079  0.0078682769 \n",
       "       PLEVEN      PPERSONG       PGEZONG       PWAOREG        PBRAND \n",
       "-0.0155397049  0.0098925979  0.1937253794  0.0647932612  0.0132643126 \n",
       "      PZEILPL      PPLEZIER        PFIETS       PINBOED      PBYSTAND \n",
       "-0.1917507210 -0.0299075992 -0.0107777114 -0.0441619610 -0.0184858082 \n",
       "      AWAPART       AWABEDR       AWALAND      APERSAUT       ABESAUT \n",
       "-0.0377951815  0.0185448468  0.0180904046  0.0002821215 -0.0214815931 \n",
       "      AMOTSCO       AVRAAUT      AAANHANG      ATRACTOR        AWERKT \n",
       " 0.0203251539  0.0563674560 -0.0804238438 -0.0395650589 -0.0010525883 \n",
       "        ABROM        ALEVEN      APERSONG       AGEZONG       AWAOREG \n",
       "-0.0236461657  0.0372344402 -0.0464278875 -0.4050641564 -0.2304560541 \n",
       "       ABRAND       AZEILPL      APLEZIER        AFIETS       AINBOED \n",
       "-0.0211373806  0.4958050850  0.3633886975  0.0416060625  0.0959436471 \n",
       "     ABYSTAND \n",
       " 0.1312250049 "
      ]
     },
     "metadata": {},
     "output_type": "display_data"
    }
   ],
   "source": [
    "coef(regfit.fwd,85)"
   ]
  },
  {
   "cell_type": "code",
   "execution_count": 32,
   "id": "86d358d5",
   "metadata": {},
   "outputs": [
    {
     "data": {
      "text/html": [
       "<dl class=dl-horizontal>\n",
       "\t<dt>(Intercept)</dt>\n",
       "\t\t<dd>0.768538121003843</dd>\n",
       "\t<dt>MOSTYPE</dt>\n",
       "\t\t<dd>0.00352090620822445</dd>\n",
       "\t<dt>MAANTHUI</dt>\n",
       "\t\t<dd>-0.0072642418580857</dd>\n",
       "\t<dt>MGEMOMV</dt>\n",
       "\t\t<dd>-0.00127394677404381</dd>\n",
       "\t<dt>MGEMLEEF</dt>\n",
       "\t\t<dd>0.0107473471162241</dd>\n",
       "\t<dt>MOSHOOFD</dt>\n",
       "\t\t<dd>-0.0154869494476997</dd>\n",
       "\t<dt>MGODRK</dt>\n",
       "\t\t<dd>-0.00560162784244511</dd>\n",
       "\t<dt>MGODPR</dt>\n",
       "\t\t<dd>-0.000206892091720013</dd>\n",
       "\t<dt>MGODOV</dt>\n",
       "\t\t<dd>0.000356919249975904</dd>\n",
       "\t<dt>MGODGE</dt>\n",
       "\t\t<dd>-0.00302368606016528</dd>\n",
       "\t<dt>MRELGE</dt>\n",
       "\t\t<dd>0.00868294847730549</dd>\n",
       "\t<dt>MRELSA</dt>\n",
       "\t\t<dd>0.00203666621088915</dd>\n",
       "\t<dt>MRELOV</dt>\n",
       "\t\t<dd>0.00556823969915507</dd>\n",
       "\t<dt>MFALLEEN</dt>\n",
       "\t\t<dd>-0.00382499740607528</dd>\n",
       "\t<dt>MFGEKIND</dt>\n",
       "\t\t<dd>-0.00506253480647595</dd>\n",
       "\t<dt>MFWEKIND</dt>\n",
       "\t\t<dd>-0.00262530070612213</dd>\n",
       "\t<dt>MOPLHOOG</dt>\n",
       "\t\t<dd>0.00213573090398154</dd>\n",
       "\t<dt>MOPLMIDD</dt>\n",
       "\t\t<dd>-0.00484559158948812</dd>\n",
       "\t<dt>MOPLLAAG</dt>\n",
       "\t\t<dd>-0.0113976540729139</dd>\n",
       "\t<dt>MBERHOOG</dt>\n",
       "\t\t<dd>0.00218839961179623</dd>\n",
       "\t<dt>MBERZELF</dt>\n",
       "\t\t<dd>-0.000466492068409356</dd>\n",
       "\t<dt>MBERBOER</dt>\n",
       "\t\t<dd>-0.00509743286223563</dd>\n",
       "\t<dt>MBERMIDD</dt>\n",
       "\t\t<dd>0.00412543101263953</dd>\n",
       "\t<dt>MBERARBG</dt>\n",
       "\t\t<dd>-0.000605978983474238</dd>\n",
       "\t<dt>MBERARBO</dt>\n",
       "\t\t<dd>0.00197333790343027</dd>\n",
       "\t<dt>MSKA</dt>\n",
       "\t\t<dd>-0.00136742425246967</dd>\n",
       "\t<dt>MSKB1</dt>\n",
       "\t\t<dd>-0.00317012698000325</dd>\n",
       "\t<dt>MSKB2</dt>\n",
       "\t\t<dd>-0.00126032463348088</dd>\n",
       "\t<dt>MSKC</dt>\n",
       "\t\t<dd>0.00248785167970979</dd>\n",
       "\t<dt>MSKD</dt>\n",
       "\t\t<dd>-0.000886640645469212</dd>\n",
       "\t<dt>MHHUUR</dt>\n",
       "\t\t<dd>-0.0454201289288682</dd>\n",
       "\t<dt>MHKOOP</dt>\n",
       "\t\t<dd>-0.0432242340435792</dd>\n",
       "\t<dt>MAUT1</dt>\n",
       "\t\t<dd>0.00859635259323654</dd>\n",
       "\t<dt>MAUT2</dt>\n",
       "\t\t<dd>0.00778711829624247</dd>\n",
       "\t<dt>MAUT0</dt>\n",
       "\t\t<dd>0.00472152649868991</dd>\n",
       "\t<dt>MZFONDS</dt>\n",
       "\t\t<dd>-0.0561024244639387</dd>\n",
       "\t<dt>MZPART</dt>\n",
       "\t\t<dd>-0.0593733296736376</dd>\n",
       "\t<dt>MINKM30</dt>\n",
       "\t\t<dd>0.00708794515107238</dd>\n",
       "\t<dt>MINK3045</dt>\n",
       "\t\t<dd>0.00694143494056772</dd>\n",
       "\t<dt>MINK4575</dt>\n",
       "\t\t<dd>0.0049678945082764</dd>\n",
       "\t<dt>MINK7512</dt>\n",
       "\t\t<dd>0.00592673253284721</dd>\n",
       "\t<dt>MINK123M</dt>\n",
       "\t\t<dd>-0.00989393794544385</dd>\n",
       "\t<dt>MINKGEM</dt>\n",
       "\t\t<dd>0.0063043895511363</dd>\n",
       "\t<dt>MKOOPKLA</dt>\n",
       "\t\t<dd>0.00290970739743392</dd>\n",
       "\t<dt>PWAPART</dt>\n",
       "\t\t<dd>0.0284931368892933</dd>\n",
       "\t<dt>PWABEDR</dt>\n",
       "\t\t<dd>-0.010153298442017</dd>\n",
       "\t<dt>PWALAND</dt>\n",
       "\t\t<dd>-0.0201220388409054</dd>\n",
       "\t<dt>PPERSAUT</dt>\n",
       "\t\t<dd>0.0102786755606119</dd>\n",
       "\t<dt>PBESAUT</dt>\n",
       "\t\t<dd>0.00144050972035557</dd>\n",
       "\t<dt>PMOTSCO</dt>\n",
       "\t\t<dd>-0.00612793347755714</dd>\n",
       "\t<dt>PVRAAUT</dt>\n",
       "\t\t<dd>-0.0249190183182525</dd>\n",
       "\t<dt>PAANHANG</dt>\n",
       "\t\t<dd>0.0588044301877087</dd>\n",
       "\t<dt>PTRACTOR</dt>\n",
       "\t\t<dd>0.0121480596697757</dd>\n",
       "\t<dt>PWERKT</dt>\n",
       "\t\t<dd>-0.00624400794615727</dd>\n",
       "\t<dt>PBROM</dt>\n",
       "\t\t<dd>0.00786827694328984</dd>\n",
       "\t<dt>PLEVEN</dt>\n",
       "\t\t<dd>-0.0155397049244718</dd>\n",
       "\t<dt>PPERSONG</dt>\n",
       "\t\t<dd>0.00989259792329395</dd>\n",
       "\t<dt>PGEZONG</dt>\n",
       "\t\t<dd>0.193725379446604</dd>\n",
       "\t<dt>PWAOREG</dt>\n",
       "\t\t<dd>0.0647932612444886</dd>\n",
       "\t<dt>PBRAND</dt>\n",
       "\t\t<dd>0.0132643125575221</dd>\n",
       "\t<dt>PZEILPL</dt>\n",
       "\t\t<dd>-0.191750720951513</dd>\n",
       "\t<dt>PPLEZIER</dt>\n",
       "\t\t<dd>-0.0299075991777811</dd>\n",
       "\t<dt>PFIETS</dt>\n",
       "\t\t<dd>-0.0107777114361222</dd>\n",
       "\t<dt>PINBOED</dt>\n",
       "\t\t<dd>-0.0441619610252284</dd>\n",
       "\t<dt>PBYSTAND</dt>\n",
       "\t\t<dd>-0.0184858081636962</dd>\n",
       "\t<dt>AWAPART</dt>\n",
       "\t\t<dd>-0.0377951815217258</dd>\n",
       "\t<dt>AWABEDR</dt>\n",
       "\t\t<dd>0.0185448467501682</dd>\n",
       "\t<dt>AWALAND</dt>\n",
       "\t\t<dd>0.0180904046057285</dd>\n",
       "\t<dt>APERSAUT</dt>\n",
       "\t\t<dd>0.000282121475154282</dd>\n",
       "\t<dt>ABESAUT</dt>\n",
       "\t\t<dd>-0.021481593139</dd>\n",
       "\t<dt>AMOTSCO</dt>\n",
       "\t\t<dd>0.0203251539495234</dd>\n",
       "\t<dt>AVRAAUT</dt>\n",
       "\t\t<dd>0.0563674559643721</dd>\n",
       "\t<dt>AAANHANG</dt>\n",
       "\t\t<dd>-0.0804238437618666</dd>\n",
       "\t<dt>ATRACTOR</dt>\n",
       "\t\t<dd>-0.0395650588840549</dd>\n",
       "\t<dt>AWERKT</dt>\n",
       "\t\t<dd>-0.001052588255847</dd>\n",
       "\t<dt>ABROM</dt>\n",
       "\t\t<dd>-0.0236461656530953</dd>\n",
       "\t<dt>ALEVEN</dt>\n",
       "\t\t<dd>0.0372344402220533</dd>\n",
       "\t<dt>APERSONG</dt>\n",
       "\t\t<dd>-0.0464278874889799</dd>\n",
       "\t<dt>AGEZONG</dt>\n",
       "\t\t<dd>-0.405064156424226</dd>\n",
       "\t<dt>AWAOREG</dt>\n",
       "\t\t<dd>-0.230456054084532</dd>\n",
       "\t<dt>ABRAND</dt>\n",
       "\t\t<dd>-0.0211373805825756</dd>\n",
       "\t<dt>AZEILPL</dt>\n",
       "\t\t<dd>0.495805085014209</dd>\n",
       "\t<dt>APLEZIER</dt>\n",
       "\t\t<dd>0.363388697481193</dd>\n",
       "\t<dt>AFIETS</dt>\n",
       "\t\t<dd>0.0416060624889817</dd>\n",
       "\t<dt>AINBOED</dt>\n",
       "\t\t<dd>0.0959436471347003</dd>\n",
       "\t<dt>ABYSTAND</dt>\n",
       "\t\t<dd>0.131225004902231</dd>\n",
       "</dl>\n"
      ],
      "text/latex": [
       "\\begin{description*}\n",
       "\\item[(Intercept)] 0.768538121003843\n",
       "\\item[MOSTYPE] 0.00352090620822445\n",
       "\\item[MAANTHUI] -0.0072642418580857\n",
       "\\item[MGEMOMV] -0.00127394677404381\n",
       "\\item[MGEMLEEF] 0.0107473471162241\n",
       "\\item[MOSHOOFD] -0.0154869494476997\n",
       "\\item[MGODRK] -0.00560162784244511\n",
       "\\item[MGODPR] -0.000206892091720013\n",
       "\\item[MGODOV] 0.000356919249975904\n",
       "\\item[MGODGE] -0.00302368606016528\n",
       "\\item[MRELGE] 0.00868294847730549\n",
       "\\item[MRELSA] 0.00203666621088915\n",
       "\\item[MRELOV] 0.00556823969915507\n",
       "\\item[MFALLEEN] -0.00382499740607528\n",
       "\\item[MFGEKIND] -0.00506253480647595\n",
       "\\item[MFWEKIND] -0.00262530070612213\n",
       "\\item[MOPLHOOG] 0.00213573090398154\n",
       "\\item[MOPLMIDD] -0.00484559158948812\n",
       "\\item[MOPLLAAG] -0.0113976540729139\n",
       "\\item[MBERHOOG] 0.00218839961179623\n",
       "\\item[MBERZELF] -0.000466492068409356\n",
       "\\item[MBERBOER] -0.00509743286223563\n",
       "\\item[MBERMIDD] 0.00412543101263953\n",
       "\\item[MBERARBG] -0.000605978983474238\n",
       "\\item[MBERARBO] 0.00197333790343027\n",
       "\\item[MSKA] -0.00136742425246967\n",
       "\\item[MSKB1] -0.00317012698000325\n",
       "\\item[MSKB2] -0.00126032463348088\n",
       "\\item[MSKC] 0.00248785167970979\n",
       "\\item[MSKD] -0.000886640645469212\n",
       "\\item[MHHUUR] -0.0454201289288682\n",
       "\\item[MHKOOP] -0.0432242340435792\n",
       "\\item[MAUT1] 0.00859635259323654\n",
       "\\item[MAUT2] 0.00778711829624247\n",
       "\\item[MAUT0] 0.00472152649868991\n",
       "\\item[MZFONDS] -0.0561024244639387\n",
       "\\item[MZPART] -0.0593733296736376\n",
       "\\item[MINKM30] 0.00708794515107238\n",
       "\\item[MINK3045] 0.00694143494056772\n",
       "\\item[MINK4575] 0.0049678945082764\n",
       "\\item[MINK7512] 0.00592673253284721\n",
       "\\item[MINK123M] -0.00989393794544385\n",
       "\\item[MINKGEM] 0.0063043895511363\n",
       "\\item[MKOOPKLA] 0.00290970739743392\n",
       "\\item[PWAPART] 0.0284931368892933\n",
       "\\item[PWABEDR] -0.010153298442017\n",
       "\\item[PWALAND] -0.0201220388409054\n",
       "\\item[PPERSAUT] 0.0102786755606119\n",
       "\\item[PBESAUT] 0.00144050972035557\n",
       "\\item[PMOTSCO] -0.00612793347755714\n",
       "\\item[PVRAAUT] -0.0249190183182525\n",
       "\\item[PAANHANG] 0.0588044301877087\n",
       "\\item[PTRACTOR] 0.0121480596697757\n",
       "\\item[PWERKT] -0.00624400794615727\n",
       "\\item[PBROM] 0.00786827694328984\n",
       "\\item[PLEVEN] -0.0155397049244718\n",
       "\\item[PPERSONG] 0.00989259792329395\n",
       "\\item[PGEZONG] 0.193725379446604\n",
       "\\item[PWAOREG] 0.0647932612444886\n",
       "\\item[PBRAND] 0.0132643125575221\n",
       "\\item[PZEILPL] -0.191750720951513\n",
       "\\item[PPLEZIER] -0.0299075991777811\n",
       "\\item[PFIETS] -0.0107777114361222\n",
       "\\item[PINBOED] -0.0441619610252284\n",
       "\\item[PBYSTAND] -0.0184858081636962\n",
       "\\item[AWAPART] -0.0377951815217258\n",
       "\\item[AWABEDR] 0.0185448467501682\n",
       "\\item[AWALAND] 0.0180904046057285\n",
       "\\item[APERSAUT] 0.000282121475154282\n",
       "\\item[ABESAUT] -0.021481593139\n",
       "\\item[AMOTSCO] 0.0203251539495234\n",
       "\\item[AVRAAUT] 0.0563674559643721\n",
       "\\item[AAANHANG] -0.0804238437618666\n",
       "\\item[ATRACTOR] -0.0395650588840549\n",
       "\\item[AWERKT] -0.001052588255847\n",
       "\\item[ABROM] -0.0236461656530953\n",
       "\\item[ALEVEN] 0.0372344402220533\n",
       "\\item[APERSONG] -0.0464278874889799\n",
       "\\item[AGEZONG] -0.405064156424226\n",
       "\\item[AWAOREG] -0.230456054084532\n",
       "\\item[ABRAND] -0.0211373805825756\n",
       "\\item[AZEILPL] 0.495805085014209\n",
       "\\item[APLEZIER] 0.363388697481193\n",
       "\\item[AFIETS] 0.0416060624889817\n",
       "\\item[AINBOED] 0.0959436471347003\n",
       "\\item[ABYSTAND] 0.131225004902231\n",
       "\\end{description*}\n"
      ],
      "text/markdown": [
       "(Intercept)\n",
       ":   0.768538121003843MOSTYPE\n",
       ":   0.00352090620822445MAANTHUI\n",
       ":   -0.0072642418580857MGEMOMV\n",
       ":   -0.00127394677404381MGEMLEEF\n",
       ":   0.0107473471162241MOSHOOFD\n",
       ":   -0.0154869494476997MGODRK\n",
       ":   -0.00560162784244511MGODPR\n",
       ":   -0.000206892091720013MGODOV\n",
       ":   0.000356919249975904MGODGE\n",
       ":   -0.00302368606016528MRELGE\n",
       ":   0.00868294847730549MRELSA\n",
       ":   0.00203666621088915MRELOV\n",
       ":   0.00556823969915507MFALLEEN\n",
       ":   -0.00382499740607528MFGEKIND\n",
       ":   -0.00506253480647595MFWEKIND\n",
       ":   -0.00262530070612213MOPLHOOG\n",
       ":   0.00213573090398154MOPLMIDD\n",
       ":   -0.00484559158948812MOPLLAAG\n",
       ":   -0.0113976540729139MBERHOOG\n",
       ":   0.00218839961179623MBERZELF\n",
       ":   -0.000466492068409356MBERBOER\n",
       ":   -0.00509743286223563MBERMIDD\n",
       ":   0.00412543101263953MBERARBG\n",
       ":   -0.000605978983474238MBERARBO\n",
       ":   0.00197333790343027MSKA\n",
       ":   -0.00136742425246967MSKB1\n",
       ":   -0.00317012698000325MSKB2\n",
       ":   -0.00126032463348088MSKC\n",
       ":   0.00248785167970979MSKD\n",
       ":   -0.000886640645469212MHHUUR\n",
       ":   -0.0454201289288682MHKOOP\n",
       ":   -0.0432242340435792MAUT1\n",
       ":   0.00859635259323654MAUT2\n",
       ":   0.00778711829624247MAUT0\n",
       ":   0.00472152649868991MZFONDS\n",
       ":   -0.0561024244639387MZPART\n",
       ":   -0.0593733296736376MINKM30\n",
       ":   0.00708794515107238MINK3045\n",
       ":   0.00694143494056772MINK4575\n",
       ":   0.0049678945082764MINK7512\n",
       ":   0.00592673253284721MINK123M\n",
       ":   -0.00989393794544385MINKGEM\n",
       ":   0.0063043895511363MKOOPKLA\n",
       ":   0.00290970739743392PWAPART\n",
       ":   0.0284931368892933PWABEDR\n",
       ":   -0.010153298442017PWALAND\n",
       ":   -0.0201220388409054PPERSAUT\n",
       ":   0.0102786755606119PBESAUT\n",
       ":   0.00144050972035557PMOTSCO\n",
       ":   -0.00612793347755714PVRAAUT\n",
       ":   -0.0249190183182525PAANHANG\n",
       ":   0.0588044301877087PTRACTOR\n",
       ":   0.0121480596697757PWERKT\n",
       ":   -0.00624400794615727PBROM\n",
       ":   0.00786827694328984PLEVEN\n",
       ":   -0.0155397049244718PPERSONG\n",
       ":   0.00989259792329395PGEZONG\n",
       ":   0.193725379446604PWAOREG\n",
       ":   0.0647932612444886PBRAND\n",
       ":   0.0132643125575221PZEILPL\n",
       ":   -0.191750720951513PPLEZIER\n",
       ":   -0.0299075991777811PFIETS\n",
       ":   -0.0107777114361222PINBOED\n",
       ":   -0.0441619610252284PBYSTAND\n",
       ":   -0.0184858081636962AWAPART\n",
       ":   -0.0377951815217258AWABEDR\n",
       ":   0.0185448467501682AWALAND\n",
       ":   0.0180904046057285APERSAUT\n",
       ":   0.000282121475154282ABESAUT\n",
       ":   -0.021481593139AMOTSCO\n",
       ":   0.0203251539495234AVRAAUT\n",
       ":   0.0563674559643721AAANHANG\n",
       ":   -0.0804238437618666ATRACTOR\n",
       ":   -0.0395650588840549AWERKT\n",
       ":   -0.001052588255847ABROM\n",
       ":   -0.0236461656530953ALEVEN\n",
       ":   0.0372344402220533APERSONG\n",
       ":   -0.0464278874889799AGEZONG\n",
       ":   -0.405064156424226AWAOREG\n",
       ":   -0.230456054084532ABRAND\n",
       ":   -0.0211373805825756AZEILPL\n",
       ":   0.495805085014209APLEZIER\n",
       ":   0.363388697481193AFIETS\n",
       ":   0.0416060624889817AINBOED\n",
       ":   0.0959436471347003ABYSTAND\n",
       ":   0.131225004902231\n",
       "\n"
      ],
      "text/plain": [
       "  (Intercept)       MOSTYPE      MAANTHUI       MGEMOMV      MGEMLEEF \n",
       " 0.7685381210  0.0035209062 -0.0072642419 -0.0012739468  0.0107473471 \n",
       "     MOSHOOFD        MGODRK        MGODPR        MGODOV        MGODGE \n",
       "-0.0154869494 -0.0056016278 -0.0002068921  0.0003569192 -0.0030236861 \n",
       "       MRELGE        MRELSA        MRELOV      MFALLEEN      MFGEKIND \n",
       " 0.0086829485  0.0020366662  0.0055682397 -0.0038249974 -0.0050625348 \n",
       "     MFWEKIND      MOPLHOOG      MOPLMIDD      MOPLLAAG      MBERHOOG \n",
       "-0.0026253007  0.0021357309 -0.0048455916 -0.0113976541  0.0021883996 \n",
       "     MBERZELF      MBERBOER      MBERMIDD      MBERARBG      MBERARBO \n",
       "-0.0004664921 -0.0050974329  0.0041254310 -0.0006059790  0.0019733379 \n",
       "         MSKA         MSKB1         MSKB2          MSKC          MSKD \n",
       "-0.0013674243 -0.0031701270 -0.0012603246  0.0024878517 -0.0008866406 \n",
       "       MHHUUR        MHKOOP         MAUT1         MAUT2         MAUT0 \n",
       "-0.0454201289 -0.0432242340  0.0085963526  0.0077871183  0.0047215265 \n",
       "      MZFONDS        MZPART       MINKM30      MINK3045      MINK4575 \n",
       "-0.0561024245 -0.0593733297  0.0070879452  0.0069414349  0.0049678945 \n",
       "     MINK7512      MINK123M       MINKGEM      MKOOPKLA       PWAPART \n",
       " 0.0059267325 -0.0098939379  0.0063043896  0.0029097074  0.0284931369 \n",
       "      PWABEDR       PWALAND      PPERSAUT       PBESAUT       PMOTSCO \n",
       "-0.0101532984 -0.0201220388  0.0102786756  0.0014405097 -0.0061279335 \n",
       "      PVRAAUT      PAANHANG      PTRACTOR        PWERKT         PBROM \n",
       "-0.0249190183  0.0588044302  0.0121480597 -0.0062440079  0.0078682769 \n",
       "       PLEVEN      PPERSONG       PGEZONG       PWAOREG        PBRAND \n",
       "-0.0155397049  0.0098925979  0.1937253794  0.0647932612  0.0132643126 \n",
       "      PZEILPL      PPLEZIER        PFIETS       PINBOED      PBYSTAND \n",
       "-0.1917507210 -0.0299075992 -0.0107777114 -0.0441619610 -0.0184858082 \n",
       "      AWAPART       AWABEDR       AWALAND      APERSAUT       ABESAUT \n",
       "-0.0377951815  0.0185448468  0.0180904046  0.0002821215 -0.0214815931 \n",
       "      AMOTSCO       AVRAAUT      AAANHANG      ATRACTOR        AWERKT \n",
       " 0.0203251539  0.0563674560 -0.0804238438 -0.0395650589 -0.0010525883 \n",
       "        ABROM        ALEVEN      APERSONG       AGEZONG       AWAOREG \n",
       "-0.0236461657  0.0372344402 -0.0464278875 -0.4050641564 -0.2304560541 \n",
       "       ABRAND       AZEILPL      APLEZIER        AFIETS       AINBOED \n",
       "-0.0211373806  0.4958050850  0.3633886975  0.0416060625  0.0959436471 \n",
       "     ABYSTAND \n",
       " 0.1312250049 "
      ]
     },
     "metadata": {},
     "output_type": "display_data"
    }
   ],
   "source": [
    "coef(regfit.bwd,85)"
   ]
  },
  {
   "cell_type": "markdown",
   "id": "4d0acb82",
   "metadata": {},
   "source": [
    "### The below code segment is from the lab and statistical text book"
   ]
  },
  {
   "cell_type": "code",
   "execution_count": 33,
   "id": "ea496352",
   "metadata": {},
   "outputs": [],
   "source": [
    "predict.regsubsets=function(object,newdata, id){\n",
    "  form = as.formula(object$call[[2]])\n",
    "  mat = model.matrix(form, newdata)\n",
    "  coefi = coef(object, id=id)\n",
    "  xvars=names(coefi)\n",
    "  mat[,xvars]%*%coefi\n",
    "}"
   ]
  },
  {
   "cell_type": "code",
   "execution_count": 34,
   "id": "e64e586a",
   "metadata": {},
   "outputs": [],
   "source": [
    "train_err_store = matrix(rep(NA, 85))\n",
    "test_err_store = matrix(rep(NA, 85))"
   ]
  },
  {
   "cell_type": "code",
   "execution_count": 35,
   "id": "7b801f82",
   "metadata": {},
   "outputs": [],
   "source": [
    "train_pred = model.matrix(CARAVAN~., data= train_data)\n",
    "test_pred = model.matrix(CARAVAN~., data = test_data)\n",
    "#Y_train = \n",
    "#Y_test"
   ]
  },
  {
   "cell_type": "code",
   "execution_count": 36,
   "id": "101ec0c0",
   "metadata": {},
   "outputs": [],
   "source": [
    "for (i in 1:85) {\n",
    "  coefi = coef(regfit.fwd, id = i)\n",
    "  pred_train <- train_pred[,names(coefi)] %*% coefi\n",
    "  train_err_store[i] = mean((train_data$CARAVAN - pred_train)^2)\n",
    "  pred_test <- test_pred[,names(coefi)] %*% coefi\n",
    "  test_err_store[i] = mean((test_data$CARAVAN - pred_test)^2)\n",
    "}\n",
    "\n"
   ]
  },
  {
   "cell_type": "code",
   "execution_count": 37,
   "id": "ae4fd57b",
   "metadata": {},
   "outputs": [
    {
     "data": {
      "text/html": [
       "0.053855513285122"
      ],
      "text/latex": [
       "0.053855513285122"
      ],
      "text/markdown": [
       "0.053855513285122"
      ],
      "text/plain": [
       "[1] 0.05385551"
      ]
     },
     "metadata": {},
     "output_type": "display_data"
    }
   ],
   "source": [
    "min(test_err_store)"
   ]
  },
  {
   "cell_type": "markdown",
   "id": "bb17960f",
   "metadata": {},
   "source": [
    "## MSE for fwd is 5.3 percent"
   ]
  },
  {
   "cell_type": "code",
   "execution_count": 38,
   "id": "e9b7252b",
   "metadata": {},
   "outputs": [
    {
     "data": {
      "image/png": "[encoded data removed]",
      "text/plain": [
       "plot without title"
      ]
     },
     "metadata": {},
     "output_type": "display_data"
    }
   ],
   "source": [
    "plot(train_err_store, col = 'orange', type = \"b\", xlab=\"No of variables\", ylab = \"MSE\")\n",
    "lines(test_err_store, col = \"green\", type = \"b\")"
   ]
  },
  {
   "cell_type": "code",
   "execution_count": 39,
   "id": "a139af71",
   "metadata": {},
   "outputs": [],
   "source": [
    "for (i in 1:85) {\n",
    "  coefi = coef(regfit.bwd, id = i)\n",
    "  pred_train <- train_pred[,names(coefi)] %*% coefi\n",
    "  train_err_store[i] = mean((train_data$CARAVAN - pred_train)^2)\n",
    "  pred_test <- test_pred[,names(coefi)] %*% coefi\n",
    "  test_err_store[i] = mean((test_data$CARAVAN - pred_test)^2)\n",
    "}"
   ]
  },
  {
   "cell_type": "code",
   "execution_count": 40,
   "id": "edec21d4",
   "metadata": {},
   "outputs": [
    {
     "data": {
      "text/html": [
       "0.0538396551922622"
      ],
      "text/latex": [
       "0.0538396551922622"
      ],
      "text/markdown": [
       "0.0538396551922622"
      ],
      "text/plain": [
       "[1] 0.05383966"
      ]
     },
     "metadata": {},
     "output_type": "display_data"
    }
   ],
   "source": [
    "min(test_err_store)"
   ]
  },
  {
   "cell_type": "code",
   "execution_count": 41,
   "id": "252b2374",
   "metadata": {},
   "outputs": [],
   "source": [
    "## MSE for bwd is 5.4 percent"
   ]
  },
  {
   "cell_type": "code",
   "execution_count": 42,
   "id": "e4ab658d",
   "metadata": {},
   "outputs": [
    {
     "data": {
      "image/png": "[encoded data removed]",
      "text/plain": [
       "plot without title"
      ]
     },
     "metadata": {},
     "output_type": "display_data"
    }
   ],
   "source": [
    "plot(train_err_store, col = 'orange', type = \"b\", xlab=\"No of variables\", ylab = \"MSE\")\n",
    "lines(test_err_store, col = \"green\", type = \"b\")"
   ]
  },
  {
   "cell_type": "markdown",
   "id": "3310a870",
   "metadata": {},
   "source": [
    "## Creating ridge regression model "
   ]
  },
  {
   "cell_type": "code",
   "execution_count": 43,
   "id": "91a36142",
   "metadata": {},
   "outputs": [],
   "source": [
    "test_mod = model.matrix(CARAVAN ~ . -1, data = test_data)\n",
    "train_mod =  model.matrix(CARAVAN ~ . -1 , data = train_data)\n",
    "ridge_model =  cv.glmnet(train_mod, train_data[, \"CARAVAN\"], alpha = 0)"
   ]
  },
  {
   "cell_type": "code",
   "execution_count": 44,
   "id": "e580c52c",
   "metadata": {},
   "outputs": [
    {
     "data": {
      "text/html": [
       "0.0845910453766981"
      ],
      "text/latex": [
       "0.0845910453766981"
      ],
      "text/markdown": [
       "0.0845910453766981"
      ],
      "text/plain": [
       "[1] 0.08459105"
      ]
     },
     "metadata": {},
     "output_type": "display_data"
    }
   ],
   "source": [
    "lamda_best = ridge_model$lambda.min\n",
    "lamda_best"
   ]
  },
  {
   "cell_type": "code",
   "execution_count": 45,
   "id": "36401c7c",
   "metadata": {},
   "outputs": [
    {
     "data": {
      "text/html": [
       "0.0536969132980356"
      ],
      "text/latex": [
       "0.0536969132980356"
      ],
      "text/markdown": [
       "0.0536969132980356"
      ],
      "text/plain": [
       "[1] 0.05369691"
      ]
     },
     "metadata": {},
     "output_type": "display_data"
    }
   ],
   "source": [
    "ridge_model_pred = predict(ridge_model, s=lamda_best, newx= test_mod)\n",
    "mean((test_data[, \"CARAVAN\"] - ridge_model_pred)^2)"
   ]
  },
  {
   "cell_type": "markdown",
   "id": "df70b07c",
   "metadata": {},
   "source": [
    "## MSE Ridge 5.3%"
   ]
  },
  {
   "cell_type": "markdown",
   "id": "daef2ac3",
   "metadata": {},
   "source": [
    "## Creating lasso model"
   ]
  },
  {
   "cell_type": "code",
   "execution_count": 46,
   "id": "43fd2374",
   "metadata": {},
   "outputs": [],
   "source": [
    "test_mod = model.matrix(CARAVAN ~ . -1, data = test_data)\n",
    "train_mod =  model.matrix(CARAVAN ~ . -1 , data = train_data)\n",
    "lasso_model =  cv.glmnet(train_mod, train_data[, \"CARAVAN\"], alpha = 1)"
   ]
  },
  {
   "cell_type": "code",
   "execution_count": 47,
   "id": "962baba6",
   "metadata": {},
   "outputs": [
    {
     "data": {
      "text/html": [
       "0.00318479854596551"
      ],
      "text/latex": [
       "0.00318479854596551"
      ],
      "text/markdown": [
       "0.00318479854596551"
      ],
      "text/plain": [
       "[1] 0.003184799"
      ]
     },
     "metadata": {},
     "output_type": "display_data"
    }
   ],
   "source": [
    "lamda_best = lasso_model$lambda.min\n",
    "lamda_best"
   ]
  },
  {
   "cell_type": "code",
   "execution_count": 48,
   "id": "fa1249db",
   "metadata": {},
   "outputs": [
    {
     "data": {
      "text/html": [
       "0.053760280198984"
      ],
      "text/latex": [
       "0.053760280198984"
      ],
      "text/markdown": [
       "0.053760280198984"
      ],
      "text/plain": [
       "[1] 0.05376028"
      ]
     },
     "metadata": {},
     "output_type": "display_data"
    }
   ],
   "source": [
    "lasso_model_pred = predict(lasso_model, s=lamda_best, newx= test_mod)\n",
    "mean((test_data[, \"CARAVAN\"] - lasso_model_pred)^2)"
   ]
  },
  {
   "cell_type": "markdown",
   "id": "272494f1",
   "metadata": {},
   "source": [
    "## MSE Lasso 5.3%"
   ]
  },
  {
   "cell_type": "markdown",
   "id": "d518f469",
   "metadata": {},
   "source": [
    "### In our case for this problem all the methods performed about the same with an MSE of about 5.3%"
   ]
  },
  {
   "cell_type": "code",
   "execution_count": null,
   "id": "69d7443e",
   "metadata": {},
   "outputs": [],
   "source": []
  }
 ],
 "metadata": {
  "kernelspec": {
   "display_name": "R",
   "language": "R",
   "name": "ir"
  },
  "language_info": {
   "codemirror_mode": "r",
   "file_extension": ".r",
   "mimetype": "text/x-r-source",
   "name": "R",
   "pygments_lexer": "r",
   "version": "3.6.1"
  }
 },
 "nbformat": 4,
 "nbformat_minor": 5
}
