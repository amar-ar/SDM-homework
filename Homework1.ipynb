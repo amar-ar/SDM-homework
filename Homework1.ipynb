{
 "cells": [
  {
   "cell_type": "code",
   "execution_count": 5,
   "id": "6e81ba83",
   "metadata": {},
   "outputs": [
    {
     "name": "stderr",
     "output_type": "stream",
     "text": [
      "also installing the dependency 'bitops'\n",
      "\n"
     ]
    },
    {
     "name": "stdout",
     "output_type": "stream",
     "text": [
      "package 'bitops' successfully unpacked and MD5 sums checked\n",
      "package 'caTools' successfully unpacked and MD5 sums checked\n",
      "\n",
      "The downloaded binary packages are in\n",
      "\tC:\\Users\\amara\\AppData\\Local\\Temp\\Rtmpovbdlz\\downloaded_packages\n"
     ]
    }
   ],
   "source": [
    "#install.packages('caTools')"
   ]
  },
  {
   "cell_type": "code",
   "execution_count": null,
   "id": "dce87c4a",
   "metadata": {},
   "outputs": [],
   "source": []
  },
  {
   "cell_type": "code",
   "execution_count": 1,
   "id": "8e3d2927",
   "metadata": {},
   "outputs": [
    {
     "name": "stderr",
     "output_type": "stream",
     "text": [
      "Warning message:\n",
      "\"package 'MASS' was built under R version 3.6.3\"Warning message:\n",
      "\"package 'glmnet' was built under R version 3.6.3\"Loading required package: Matrix\n",
      "Warning message:\n",
      "\"package 'Matrix' was built under R version 3.6.3\"Loaded glmnet 4.1-1\n",
      "Warning message:\n",
      "\"package 'caTools' was built under R version 3.6.3\""
     ]
    }
   ],
   "source": [
    "library(ISLR)\n",
    "\n",
    "library(MASS)\n",
    "library(glmnet)\n",
    "library(caTools)\n",
    "data(\"College\")\n",
    "set.seed(123)\n"
   ]
  },
  {
   "cell_type": "markdown",
   "id": "a502929c",
   "metadata": {},
   "source": [
    "## Getting the college data Set and checking for null values"
   ]
  },
  {
   "cell_type": "code",
   "execution_count": 2,
   "id": "a36dff83",
   "metadata": {},
   "outputs": [
    {
     "data": {
      "text/html": [
       "0"
      ],
      "text/latex": [
       "0"
      ],
      "text/markdown": [
       "0"
      ],
      "text/plain": [
       "[1] 0"
      ]
     },
     "metadata": {},
     "output_type": "display_data"
    }
   ],
   "source": [
    "college_dats = College\n",
    "sum(is.na(college_dats))"
   ]
  },
  {
   "cell_type": "markdown",
   "id": "a4798d9e",
   "metadata": {},
   "source": [
    "### No null values "
   ]
  },
  {
   "cell_type": "markdown",
   "id": "88e44745",
   "metadata": {},
   "source": [
    "## 1 a) Dividing the data set into training and testing."
   ]
  },
  {
   "cell_type": "code",
   "execution_count": 3,
   "id": "73c43631",
   "metadata": {},
   "outputs": [],
   "source": [
    "split = sample.split(college_dats$Apps, SplitRatio = 0.8)\n",
    "training_dats = subset(college_dats, split== TRUE)\n",
    "test_dats = subset(college_dats, split == FALSE)"
   ]
  },
  {
   "cell_type": "markdown",
   "id": "1e0dc74e",
   "metadata": {},
   "source": [
    " implementing linear model using least squares "
   ]
  },
  {
   "cell_type": "code",
   "execution_count": 4,
   "id": "be5bb6f9",
   "metadata": {},
   "outputs": [],
   "source": [
    "college_dats.lm = lm(Apps ~. , data= training_dats)\n",
    "y_hat = predict(college_dats.lm, test_dats)"
   ]
  },
  {
   "cell_type": "markdown",
   "id": "f92a45a2",
   "metadata": {},
   "source": [
    "Seeing how the model faired"
   ]
  },
  {
   "cell_type": "code",
   "execution_count": 5,
   "id": "ab87e588",
   "metadata": {},
   "outputs": [],
   "source": [
    "college_dats.lm_summary = summary(college_dats.lm)"
   ]
  },
  {
   "cell_type": "markdown",
   "id": "94135e54",
   "metadata": {},
   "source": [
    "Calculating the MSE"
   ]
  },
  {
   "cell_type": "code",
   "execution_count": 6,
   "id": "f3f7e0a4",
   "metadata": {},
   "outputs": [
    {
     "data": {
      "text/html": [
       "1084374.90856498"
      ],
      "text/latex": [
       "1084374.90856498"
      ],
      "text/markdown": [
       "1084374.90856498"
      ],
      "text/plain": [
       "[1] 1084375"
      ]
     },
     "metadata": {},
     "output_type": "display_data"
    }
   ],
   "source": [
    "mean(college_dats.lm_summary$residuals^2)"
   ]
  },
  {
   "cell_type": "markdown",
   "id": "d6fbf828",
   "metadata": {},
   "source": [
    "## We get a very high value this tells us that the data needs to be scaled "
   ]
  },
  {
   "cell_type": "markdown",
   "id": "f91f1953",
   "metadata": {},
   "source": [
    "### Scaling the data"
   ]
  },
  {
   "cell_type": "code",
   "execution_count": 7,
   "id": "a00c9ee9",
   "metadata": {},
   "outputs": [],
   "source": [
    "college_dats1=model.matrix(Apps ~ . -1, data = College)\n",
    "college_dats[, -1] = apply(college_dats[, -1], 2, scale)\n",
    "train_size =  dim(college_dats)[1] / 2\n",
    "train = sample(1:dim(college_dats)[1], train_size)\n",
    "test = -train"
   ]
  },
  {
   "cell_type": "markdown",
   "id": "0b7d9489",
   "metadata": {},
   "source": [
    "Splitting the data using train_size which is 50 percent"
   ]
  },
  {
   "cell_type": "code",
   "execution_count": 8,
   "id": "b8ebc843",
   "metadata": {},
   "outputs": [],
   "source": [
    "training_dats = college_dats[train, ]\n",
    "test_dats = college_dats[test, ]"
   ]
  },
  {
   "cell_type": "markdown",
   "id": "495f801c",
   "metadata": {},
   "source": [
    "## implementing linear model using least squares "
   ]
  },
  {
   "cell_type": "code",
   "execution_count": 9,
   "id": "51ab8a11",
   "metadata": {},
   "outputs": [],
   "source": [
    "college_dats.lm = lm(Apps ~. , data= training_dats)\n",
    "y_hat = predict(college_dats.lm, test_dats)"
   ]
  },
  {
   "cell_type": "markdown",
   "id": "254134c5",
   "metadata": {},
   "source": [
    "Calculating the MSE"
   ]
  },
  {
   "cell_type": "code",
   "execution_count": 10,
   "id": "0811e919",
   "metadata": {},
   "outputs": [
    {
     "data": {
      "text/html": [
       "0.0799374251355538"
      ],
      "text/latex": [
       "0.0799374251355538"
      ],
      "text/markdown": [
       "0.0799374251355538"
      ],
      "text/plain": [
       "[1] 0.07993743"
      ]
     },
     "metadata": {},
     "output_type": "display_data"
    }
   ],
   "source": [
    "mean((test_dats[,\"Apps\"] - y_hat)^2)"
   ]
  },
  {
   "cell_type": "markdown",
   "id": "e01035b4",
   "metadata": {},
   "source": [
    "## We got an error of 7.993 percent "
   ]
  },
  {
   "cell_type": "markdown",
   "id": "613ea7bb",
   "metadata": {},
   "source": [
    "## 1 b) Ridge Regression Model"
   ]
  },
  {
   "cell_type": "code",
   "execution_count": 11,
   "id": "9da5da26",
   "metadata": {},
   "outputs": [],
   "source": [
    "test_mod = model.matrix(Apps ~ . -1, data = test_dats)\n",
    "train_mod =  model.matrix(Apps ~ . -1 , data = training_dats)\n",
    "ridge_model =  cv.glmnet(train_mod, training_dats[, \"Apps\"], alpha = 0)"
   ]
  },
  {
   "cell_type": "markdown",
   "id": "8440bb5a",
   "metadata": {},
   "source": [
    "finding the best lambda value for our data which is the min value"
   ]
  },
  {
   "cell_type": "code",
   "execution_count": 12,
   "id": "18f24422",
   "metadata": {},
   "outputs": [
    {
     "data": {
      "text/html": [
       "0.100756603653389"
      ],
      "text/latex": [
       "0.100756603653389"
      ],
      "text/markdown": [
       "0.100756603653389"
      ],
      "text/plain": [
       "[1] 0.1007566"
      ]
     },
     "metadata": {},
     "output_type": "display_data"
    }
   ],
   "source": [
    "lamda_best = ridge_model$lambda.min\n",
    "lamda_best"
   ]
  },
  {
   "cell_type": "markdown",
   "id": "b8987964",
   "metadata": {},
   "source": [
    "## best lambda is 0.100756"
   ]
  },
  {
   "cell_type": "code",
   "execution_count": 13,
   "id": "b699dce2",
   "metadata": {},
   "outputs": [
    {
     "data": {
      "text/html": [
       "0.0666775292810759"
      ],
      "text/latex": [
       "0.0666775292810759"
      ],
      "text/markdown": [
       "0.0666775292810759"
      ],
      "text/plain": [
       "[1] 0.06667753"
      ]
     },
     "metadata": {},
     "output_type": "display_data"
    }
   ],
   "source": [
    "ridge_model_pred = predict(ridge_model, s=lamda_best, newx= test_mod)\n",
    "mean((test_dats[, \"Apps\"] - ridge_model_pred)^2)"
   ]
  },
  {
   "cell_type": "markdown",
   "id": "785fc119",
   "metadata": {},
   "source": [
    "## MSE error 6.6677"
   ]
  },
  {
   "cell_type": "markdown",
   "id": "9a4d65db",
   "metadata": {},
   "source": [
    "## 1 d) Fit a lasso model on the training set, with λ chosen by cross-validation.Report the test error obtained, along with the number of non-zero coefficient estimates."
   ]
  },
  {
   "cell_type": "markdown",
   "id": "22f6f89d",
   "metadata": {},
   "source": [
    "Lets find the best lambda value for lasso "
   ]
  },
  {
   "cell_type": "code",
   "execution_count": 14,
   "id": "8229200d",
   "metadata": {},
   "outputs": [
    {
     "data": {
      "text/html": [
       "0.000537707688417391"
      ],
      "text/latex": [
       "0.000537707688417391"
      ],
      "text/markdown": [
       "0.000537707688417391"
      ],
      "text/plain": [
       "[1] 0.0005377077"
      ]
     },
     "metadata": {},
     "output_type": "display_data"
    }
   ],
   "source": [
    "lasso_model =  cv.glmnet(train_mod,training_dats[, \"Apps\"], alpha = 1)\n",
    "lambda_best = lasso_model$lambda.min\n",
    "lambda_best"
   ]
  },
  {
   "cell_type": "markdown",
   "id": "a5519230",
   "metadata": {},
   "source": [
    "## The best lambda value is  0.0005377077"
   ]
  },
  {
   "cell_type": "markdown",
   "id": "93f25e91",
   "metadata": {},
   "source": [
    "Predicting using lasso model"
   ]
  },
  {
   "cell_type": "code",
   "execution_count": 15,
   "id": "c29aecc3",
   "metadata": {},
   "outputs": [
    {
     "data": {
      "text/html": [
       "0.0792662298533501"
      ],
      "text/latex": [
       "0.0792662298533501"
      ],
      "text/markdown": [
       "0.0792662298533501"
      ],
      "text/plain": [
       "[1] 0.07926623"
      ]
     },
     "metadata": {},
     "output_type": "display_data"
    }
   ],
   "source": [
    "lasso_model_pred = predict(lasso_model,s=lambda_best,newx = test_mod)\n",
    "mean((test_dats[, \"Apps\"] - lasso_model_pred)^2)"
   ]
  },
  {
   "cell_type": "markdown",
   "id": "6b03deb7",
   "metadata": {},
   "source": [
    "## MSE error 7.926"
   ]
  },
  {
   "cell_type": "markdown",
   "id": "a922a70a",
   "metadata": {},
   "source": [
    "finding Coefficients of the lasso model"
   ]
  },
  {
   "cell_type": "code",
   "execution_count": 16,
   "id": "3bf71e32",
   "metadata": {},
   "outputs": [
    {
     "data": {
      "text/plain": [
       "19 x 1 sparse Matrix of class \"dgCMatrix\"\n",
       "                        1\n",
       "(Intercept) -962.43857204\n",
       "PrivateNo    491.04485135\n",
       "PrivateYes     .         \n",
       "Accept         1.57033288\n",
       "Enroll        -0.75961467\n",
       "Top10perc     48.14698891\n",
       "Top25perc    -12.84690694\n",
       "F.Undergrad    0.04149116\n",
       "P.Undergrad    0.04438973\n",
       "Outstate      -0.08328388\n",
       "Room.Board     0.14943472\n",
       "Books          0.01532293\n",
       "Personal       0.02909954\n",
       "PhD           -8.39597537\n",
       "Terminal      -3.26800340\n",
       "S.F.Ratio     14.59298267\n",
       "perc.alumni   -0.04404771\n",
       "Expend         0.07712632\n",
       "Grad.Rate      8.28950241"
      ]
     },
     "metadata": {},
     "output_type": "display_data"
    }
   ],
   "source": [
    "## finding Coefficients of the lasso model\n",
    "lasso_model <-  glmnet(college_dats1, College[, \"Apps\"], alpha = 1)\n",
    "predict(lasso_model, s = lambda_best, type = \"coefficients\")"
   ]
  },
  {
   "cell_type": "code",
   "execution_count": null,
   "id": "5421438b",
   "metadata": {},
   "outputs": [],
   "source": []
  }
 ],
 "metadata": {
  "kernelspec": {
   "display_name": "R",
   "language": "R",
   "name": "ir"
  },
  "language_info": {
   "codemirror_mode": "r",
   "file_extension": ".r",
   "mimetype": "text/x-r-source",
   "name": "R",
   "pygments_lexer": "r",
   "version": "3.6.1"
  }
 },
 "nbformat": 4,
 "nbformat_minor": 5
}
